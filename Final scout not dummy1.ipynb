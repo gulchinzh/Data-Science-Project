{
 "cells": [
  {
   "cell_type": "code",
   "execution_count": 77,
   "id": "1092f314",
   "metadata": {},
   "outputs": [],
   "source": [
    "import numpy as np\n",
    "import pandas as pd\n",
    "import matplotlib.pyplot as plt\n",
    "import seaborn as sns\n",
    "\n",
    "\n",
    "from sklearn.preprocessing import PolynomialFeatures\n",
    "from sklearn.model_selection import train_test_split, cross_validate, cross_val_score, GridSearchCV\n",
    "from sklearn.preprocessing import StandardScaler, MinMaxScaler, RobustScaler\n",
    "from sklearn.linear_model import LinearRegression, Ridge, RidgeCV, Lasso, LassoCV, ElasticNet, ElasticNetCV\n",
    "from sklearn.metrics import mean_absolute_error, mean_squared_error, r2_score"
   ]
  },
  {
   "cell_type": "code",
   "execution_count": 78,
   "id": "04f1cd61",
   "metadata": {},
   "outputs": [],
   "source": [
    "df = pd.read_csv('final_scout_not_dummy.csv')"
   ]
  },
  {
   "cell_type": "code",
   "execution_count": 79,
   "id": "b78aa02e",
   "metadata": {},
   "outputs": [
    {
     "data": {
      "text/html": [
       "<div>\n",
       "<style scoped>\n",
       "    .dataframe tbody tr th:only-of-type {\n",
       "        vertical-align: middle;\n",
       "    }\n",
       "\n",
       "    .dataframe tbody tr th {\n",
       "        vertical-align: top;\n",
       "    }\n",
       "\n",
       "    .dataframe thead th {\n",
       "        text-align: right;\n",
       "    }\n",
       "</style>\n",
       "<table border=\"1\" class=\"dataframe\">\n",
       "  <thead>\n",
       "    <tr style=\"text-align: right;\">\n",
       "      <th></th>\n",
       "      <th>0</th>\n",
       "      <th>1</th>\n",
       "      <th>2</th>\n",
       "      <th>3</th>\n",
       "      <th>4</th>\n",
       "      <th>5</th>\n",
       "      <th>6</th>\n",
       "      <th>7</th>\n",
       "      <th>8</th>\n",
       "      <th>9</th>\n",
       "    </tr>\n",
       "  </thead>\n",
       "  <tbody>\n",
       "    <tr>\n",
       "      <th>make_model</th>\n",
       "      <td>Audi A1</td>\n",
       "      <td>Audi A1</td>\n",
       "      <td>Audi A1</td>\n",
       "      <td>Audi A1</td>\n",
       "      <td>Audi A1</td>\n",
       "      <td>Audi A1</td>\n",
       "      <td>Audi A1</td>\n",
       "      <td>Audi A1</td>\n",
       "      <td>Audi A1</td>\n",
       "      <td>Audi A1</td>\n",
       "    </tr>\n",
       "    <tr>\n",
       "      <th>body_type</th>\n",
       "      <td>Sedans</td>\n",
       "      <td>Sedans</td>\n",
       "      <td>Sedans</td>\n",
       "      <td>Sedans</td>\n",
       "      <td>Sedans</td>\n",
       "      <td>Sedans</td>\n",
       "      <td>Station wagon</td>\n",
       "      <td>Compact</td>\n",
       "      <td>Sedans</td>\n",
       "      <td>Sedans</td>\n",
       "    </tr>\n",
       "    <tr>\n",
       "      <th>price</th>\n",
       "      <td>15770</td>\n",
       "      <td>14500</td>\n",
       "      <td>14640</td>\n",
       "      <td>14500</td>\n",
       "      <td>16790</td>\n",
       "      <td>15090</td>\n",
       "      <td>16422</td>\n",
       "      <td>14480</td>\n",
       "      <td>16700</td>\n",
       "      <td>17990</td>\n",
       "    </tr>\n",
       "    <tr>\n",
       "      <th>vat</th>\n",
       "      <td>VAT deductible</td>\n",
       "      <td>Price negotiable</td>\n",
       "      <td>VAT deductible</td>\n",
       "      <td>VAT deductible</td>\n",
       "      <td>VAT deductible</td>\n",
       "      <td>VAT deductible</td>\n",
       "      <td>VAT deductible</td>\n",
       "      <td>VAT deductible</td>\n",
       "      <td>VAT deductible</td>\n",
       "      <td>VAT deductible</td>\n",
       "    </tr>\n",
       "    <tr>\n",
       "      <th>km</th>\n",
       "      <td>56013.0</td>\n",
       "      <td>80000.0</td>\n",
       "      <td>83450.0</td>\n",
       "      <td>73000.0</td>\n",
       "      <td>16200.0</td>\n",
       "      <td>63668.0</td>\n",
       "      <td>62111.0</td>\n",
       "      <td>14986.0</td>\n",
       "      <td>57000.0</td>\n",
       "      <td>16103.0</td>\n",
       "    </tr>\n",
       "    <tr>\n",
       "      <th>Type</th>\n",
       "      <td>Used</td>\n",
       "      <td>Used</td>\n",
       "      <td>Used</td>\n",
       "      <td>Used</td>\n",
       "      <td>Used</td>\n",
       "      <td>Used</td>\n",
       "      <td>Used</td>\n",
       "      <td>Used</td>\n",
       "      <td>Used</td>\n",
       "      <td>Used</td>\n",
       "    </tr>\n",
       "    <tr>\n",
       "      <th>Fuel</th>\n",
       "      <td>Diesel</td>\n",
       "      <td>Benzine</td>\n",
       "      <td>Diesel</td>\n",
       "      <td>Diesel</td>\n",
       "      <td>Diesel</td>\n",
       "      <td>Diesel</td>\n",
       "      <td>Diesel</td>\n",
       "      <td>Diesel</td>\n",
       "      <td>Diesel</td>\n",
       "      <td>Benzine</td>\n",
       "    </tr>\n",
       "    <tr>\n",
       "      <th>Gears</th>\n",
       "      <td>7.0</td>\n",
       "      <td>7.0</td>\n",
       "      <td>7.0</td>\n",
       "      <td>6.0</td>\n",
       "      <td>7.0</td>\n",
       "      <td>7.0</td>\n",
       "      <td>7.0</td>\n",
       "      <td>7.0</td>\n",
       "      <td>7.0</td>\n",
       "      <td>7.0</td>\n",
       "    </tr>\n",
       "    <tr>\n",
       "      <th>Comfort_Convenience</th>\n",
       "      <td>Air conditioning,Armrest,Automatic climate con...</td>\n",
       "      <td>Air conditioning,Automatic climate control,Hil...</td>\n",
       "      <td>Air conditioning,Cruise control,Electrical sid...</td>\n",
       "      <td>Air suspension,Armrest,Auxiliary heating,Elect...</td>\n",
       "      <td>Air conditioning,Armrest,Automatic climate con...</td>\n",
       "      <td>Air conditioning,Armrest,Automatic climate con...</td>\n",
       "      <td>Air conditioning,Armrest,Automatic climate con...</td>\n",
       "      <td>Air conditioning,Armrest,Electrical side mirro...</td>\n",
       "      <td>Air conditioning,Power windows</td>\n",
       "      <td>Air conditioning,Armrest,Automatic climate con...</td>\n",
       "    </tr>\n",
       "    <tr>\n",
       "      <th>Entertainment_Media</th>\n",
       "      <td>Bluetooth,Hands-free equipment,On-board comput...</td>\n",
       "      <td>Bluetooth,Hands-free equipment,On-board comput...</td>\n",
       "      <td>MP3,On-board computer</td>\n",
       "      <td>Bluetooth,CD player,Hands-free equipment,MP3,O...</td>\n",
       "      <td>Bluetooth,CD player,Hands-free equipment,MP3,O...</td>\n",
       "      <td>Bluetooth,Hands-free equipment,On-board comput...</td>\n",
       "      <td>Bluetooth,CD player,Hands-free equipment,On-bo...</td>\n",
       "      <td>CD player,MP3,Radio</td>\n",
       "      <td>Radio</td>\n",
       "      <td>Radio</td>\n",
       "    </tr>\n",
       "    <tr>\n",
       "      <th>Extras</th>\n",
       "      <td>Alloy wheels,Catalytic Converter,Voice Control</td>\n",
       "      <td>Alloy wheels,Sport seats,Sport suspension,Voic...</td>\n",
       "      <td>Alloy wheels,Voice Control</td>\n",
       "      <td>Alloy wheels,Sport seats,Voice Control</td>\n",
       "      <td>Alloy wheels,Sport package,Sport suspension,Vo...</td>\n",
       "      <td>Alloy wheels,Sport package,Sport seats,Sport s...</td>\n",
       "      <td>Alloy wheels,Sport package,Sport seats,Sport s...</td>\n",
       "      <td>Alloy wheels</td>\n",
       "      <td>Alloy wheels</td>\n",
       "      <td>Alloy wheels</td>\n",
       "    </tr>\n",
       "    <tr>\n",
       "      <th>Safety_Security</th>\n",
       "      <td>ABS,Central door lock,Daytime running lights,D...</td>\n",
       "      <td>ABS,Central door lock,Central door lock with r...</td>\n",
       "      <td>ABS,Central door lock,Daytime running lights,D...</td>\n",
       "      <td>ABS,Alarm system,Central door lock with remote...</td>\n",
       "      <td>ABS,Central door lock,Driver-side airbag,Elect...</td>\n",
       "      <td>ABS,Central door lock,Daytime running lights,D...</td>\n",
       "      <td>ABS,Central door lock,Daytime running lights,D...</td>\n",
       "      <td>ABS,Central door lock,Daytime running lights,D...</td>\n",
       "      <td>ABS,Central door lock,Driver-side airbag,Elect...</td>\n",
       "      <td>ABS,Central door lock,Daytime running lights,D...</td>\n",
       "    </tr>\n",
       "    <tr>\n",
       "      <th>age</th>\n",
       "      <td>3.0</td>\n",
       "      <td>2.0</td>\n",
       "      <td>3.0</td>\n",
       "      <td>3.0</td>\n",
       "      <td>3.0</td>\n",
       "      <td>3.0</td>\n",
       "      <td>3.0</td>\n",
       "      <td>3.0</td>\n",
       "      <td>3.0</td>\n",
       "      <td>2.0</td>\n",
       "    </tr>\n",
       "    <tr>\n",
       "      <th>Previous_Owners</th>\n",
       "      <td>2.0</td>\n",
       "      <td>1.0</td>\n",
       "      <td>1.0</td>\n",
       "      <td>1.0</td>\n",
       "      <td>1.0</td>\n",
       "      <td>1.0</td>\n",
       "      <td>1.0</td>\n",
       "      <td>1.0</td>\n",
       "      <td>1.0</td>\n",
       "      <td>1.0</td>\n",
       "    </tr>\n",
       "    <tr>\n",
       "      <th>hp_kW</th>\n",
       "      <td>66.0</td>\n",
       "      <td>141.0</td>\n",
       "      <td>85.0</td>\n",
       "      <td>66.0</td>\n",
       "      <td>66.0</td>\n",
       "      <td>85.0</td>\n",
       "      <td>85.0</td>\n",
       "      <td>66.0</td>\n",
       "      <td>85.0</td>\n",
       "      <td>70.0</td>\n",
       "    </tr>\n",
       "    <tr>\n",
       "      <th>Inspection_new</th>\n",
       "      <td>1</td>\n",
       "      <td>0</td>\n",
       "      <td>0</td>\n",
       "      <td>0</td>\n",
       "      <td>1</td>\n",
       "      <td>0</td>\n",
       "      <td>1</td>\n",
       "      <td>1</td>\n",
       "      <td>0</td>\n",
       "      <td>0</td>\n",
       "    </tr>\n",
       "    <tr>\n",
       "      <th>Paint_Type</th>\n",
       "      <td>Metallic</td>\n",
       "      <td>Metallic</td>\n",
       "      <td>Metallic</td>\n",
       "      <td>Metallic</td>\n",
       "      <td>Metallic</td>\n",
       "      <td>Metallic</td>\n",
       "      <td>Metallic</td>\n",
       "      <td>Metallic</td>\n",
       "      <td>Metallic</td>\n",
       "      <td>Metallic</td>\n",
       "    </tr>\n",
       "    <tr>\n",
       "      <th>Upholstery_type</th>\n",
       "      <td>Cloth</td>\n",
       "      <td>Cloth</td>\n",
       "      <td>Cloth</td>\n",
       "      <td>Cloth</td>\n",
       "      <td>Cloth</td>\n",
       "      <td>Part/Full Leather</td>\n",
       "      <td>Part/Full Leather</td>\n",
       "      <td>Cloth</td>\n",
       "      <td>Cloth</td>\n",
       "      <td>Cloth</td>\n",
       "    </tr>\n",
       "    <tr>\n",
       "      <th>Gearing_Type</th>\n",
       "      <td>Automatic</td>\n",
       "      <td>Automatic</td>\n",
       "      <td>Automatic</td>\n",
       "      <td>Automatic</td>\n",
       "      <td>Automatic</td>\n",
       "      <td>Automatic</td>\n",
       "      <td>Automatic</td>\n",
       "      <td>Automatic</td>\n",
       "      <td>Automatic</td>\n",
       "      <td>Automatic</td>\n",
       "    </tr>\n",
       "    <tr>\n",
       "      <th>Displacement_cc</th>\n",
       "      <td>1422.0</td>\n",
       "      <td>1798.0</td>\n",
       "      <td>1598.0</td>\n",
       "      <td>1422.0</td>\n",
       "      <td>1422.0</td>\n",
       "      <td>1598.0</td>\n",
       "      <td>1598.0</td>\n",
       "      <td>1422.0</td>\n",
       "      <td>1598.0</td>\n",
       "      <td>999.0</td>\n",
       "    </tr>\n",
       "    <tr>\n",
       "      <th>Weight_kg</th>\n",
       "      <td>1220.0</td>\n",
       "      <td>1255.0</td>\n",
       "      <td>1135.0</td>\n",
       "      <td>1195.0</td>\n",
       "      <td>1135.0</td>\n",
       "      <td>1135.0</td>\n",
       "      <td>1195.0</td>\n",
       "      <td>1180.0</td>\n",
       "      <td>1275.0</td>\n",
       "      <td>1135.0</td>\n",
       "    </tr>\n",
       "    <tr>\n",
       "      <th>Drive_chain</th>\n",
       "      <td>front</td>\n",
       "      <td>front</td>\n",
       "      <td>front</td>\n",
       "      <td>front</td>\n",
       "      <td>front</td>\n",
       "      <td>front</td>\n",
       "      <td>front</td>\n",
       "      <td>front</td>\n",
       "      <td>front</td>\n",
       "      <td>front</td>\n",
       "    </tr>\n",
       "    <tr>\n",
       "      <th>cons_comb</th>\n",
       "      <td>3.8</td>\n",
       "      <td>5.6</td>\n",
       "      <td>3.8</td>\n",
       "      <td>3.8</td>\n",
       "      <td>4.1</td>\n",
       "      <td>3.5</td>\n",
       "      <td>3.7</td>\n",
       "      <td>3.7</td>\n",
       "      <td>3.7</td>\n",
       "      <td>4.2</td>\n",
       "    </tr>\n",
       "  </tbody>\n",
       "</table>\n",
       "</div>"
      ],
      "text/plain": [
       "                                                                     0  \\\n",
       "make_model                                                     Audi A1   \n",
       "body_type                                                       Sedans   \n",
       "price                                                            15770   \n",
       "vat                                                     VAT deductible   \n",
       "km                                                             56013.0   \n",
       "Type                                                              Used   \n",
       "Fuel                                                            Diesel   \n",
       "Gears                                                              7.0   \n",
       "Comfort_Convenience  Air conditioning,Armrest,Automatic climate con...   \n",
       "Entertainment_Media  Bluetooth,Hands-free equipment,On-board comput...   \n",
       "Extras                  Alloy wheels,Catalytic Converter,Voice Control   \n",
       "Safety_Security      ABS,Central door lock,Daytime running lights,D...   \n",
       "age                                                                3.0   \n",
       "Previous_Owners                                                    2.0   \n",
       "hp_kW                                                             66.0   \n",
       "Inspection_new                                                       1   \n",
       "Paint_Type                                                    Metallic   \n",
       "Upholstery_type                                                  Cloth   \n",
       "Gearing_Type                                                 Automatic   \n",
       "Displacement_cc                                                 1422.0   \n",
       "Weight_kg                                                       1220.0   \n",
       "Drive_chain                                                      front   \n",
       "cons_comb                                                          3.8   \n",
       "\n",
       "                                                                     1  \\\n",
       "make_model                                                     Audi A1   \n",
       "body_type                                                       Sedans   \n",
       "price                                                            14500   \n",
       "vat                                                   Price negotiable   \n",
       "km                                                             80000.0   \n",
       "Type                                                              Used   \n",
       "Fuel                                                           Benzine   \n",
       "Gears                                                              7.0   \n",
       "Comfort_Convenience  Air conditioning,Automatic climate control,Hil...   \n",
       "Entertainment_Media  Bluetooth,Hands-free equipment,On-board comput...   \n",
       "Extras               Alloy wheels,Sport seats,Sport suspension,Voic...   \n",
       "Safety_Security      ABS,Central door lock,Central door lock with r...   \n",
       "age                                                                2.0   \n",
       "Previous_Owners                                                    1.0   \n",
       "hp_kW                                                            141.0   \n",
       "Inspection_new                                                       0   \n",
       "Paint_Type                                                    Metallic   \n",
       "Upholstery_type                                                  Cloth   \n",
       "Gearing_Type                                                 Automatic   \n",
       "Displacement_cc                                                 1798.0   \n",
       "Weight_kg                                                       1255.0   \n",
       "Drive_chain                                                      front   \n",
       "cons_comb                                                          5.6   \n",
       "\n",
       "                                                                     2  \\\n",
       "make_model                                                     Audi A1   \n",
       "body_type                                                       Sedans   \n",
       "price                                                            14640   \n",
       "vat                                                     VAT deductible   \n",
       "km                                                             83450.0   \n",
       "Type                                                              Used   \n",
       "Fuel                                                            Diesel   \n",
       "Gears                                                              7.0   \n",
       "Comfort_Convenience  Air conditioning,Cruise control,Electrical sid...   \n",
       "Entertainment_Media                              MP3,On-board computer   \n",
       "Extras                                      Alloy wheels,Voice Control   \n",
       "Safety_Security      ABS,Central door lock,Daytime running lights,D...   \n",
       "age                                                                3.0   \n",
       "Previous_Owners                                                    1.0   \n",
       "hp_kW                                                             85.0   \n",
       "Inspection_new                                                       0   \n",
       "Paint_Type                                                    Metallic   \n",
       "Upholstery_type                                                  Cloth   \n",
       "Gearing_Type                                                 Automatic   \n",
       "Displacement_cc                                                 1598.0   \n",
       "Weight_kg                                                       1135.0   \n",
       "Drive_chain                                                      front   \n",
       "cons_comb                                                          3.8   \n",
       "\n",
       "                                                                     3  \\\n",
       "make_model                                                     Audi A1   \n",
       "body_type                                                       Sedans   \n",
       "price                                                            14500   \n",
       "vat                                                     VAT deductible   \n",
       "km                                                             73000.0   \n",
       "Type                                                              Used   \n",
       "Fuel                                                            Diesel   \n",
       "Gears                                                              6.0   \n",
       "Comfort_Convenience  Air suspension,Armrest,Auxiliary heating,Elect...   \n",
       "Entertainment_Media  Bluetooth,CD player,Hands-free equipment,MP3,O...   \n",
       "Extras                          Alloy wheels,Sport seats,Voice Control   \n",
       "Safety_Security      ABS,Alarm system,Central door lock with remote...   \n",
       "age                                                                3.0   \n",
       "Previous_Owners                                                    1.0   \n",
       "hp_kW                                                             66.0   \n",
       "Inspection_new                                                       0   \n",
       "Paint_Type                                                    Metallic   \n",
       "Upholstery_type                                                  Cloth   \n",
       "Gearing_Type                                                 Automatic   \n",
       "Displacement_cc                                                 1422.0   \n",
       "Weight_kg                                                       1195.0   \n",
       "Drive_chain                                                      front   \n",
       "cons_comb                                                          3.8   \n",
       "\n",
       "                                                                     4  \\\n",
       "make_model                                                     Audi A1   \n",
       "body_type                                                       Sedans   \n",
       "price                                                            16790   \n",
       "vat                                                     VAT deductible   \n",
       "km                                                             16200.0   \n",
       "Type                                                              Used   \n",
       "Fuel                                                            Diesel   \n",
       "Gears                                                              7.0   \n",
       "Comfort_Convenience  Air conditioning,Armrest,Automatic climate con...   \n",
       "Entertainment_Media  Bluetooth,CD player,Hands-free equipment,MP3,O...   \n",
       "Extras               Alloy wheels,Sport package,Sport suspension,Vo...   \n",
       "Safety_Security      ABS,Central door lock,Driver-side airbag,Elect...   \n",
       "age                                                                3.0   \n",
       "Previous_Owners                                                    1.0   \n",
       "hp_kW                                                             66.0   \n",
       "Inspection_new                                                       1   \n",
       "Paint_Type                                                    Metallic   \n",
       "Upholstery_type                                                  Cloth   \n",
       "Gearing_Type                                                 Automatic   \n",
       "Displacement_cc                                                 1422.0   \n",
       "Weight_kg                                                       1135.0   \n",
       "Drive_chain                                                      front   \n",
       "cons_comb                                                          4.1   \n",
       "\n",
       "                                                                     5  \\\n",
       "make_model                                                     Audi A1   \n",
       "body_type                                                       Sedans   \n",
       "price                                                            15090   \n",
       "vat                                                     VAT deductible   \n",
       "km                                                             63668.0   \n",
       "Type                                                              Used   \n",
       "Fuel                                                            Diesel   \n",
       "Gears                                                              7.0   \n",
       "Comfort_Convenience  Air conditioning,Armrest,Automatic climate con...   \n",
       "Entertainment_Media  Bluetooth,Hands-free equipment,On-board comput...   \n",
       "Extras               Alloy wheels,Sport package,Sport seats,Sport s...   \n",
       "Safety_Security      ABS,Central door lock,Daytime running lights,D...   \n",
       "age                                                                3.0   \n",
       "Previous_Owners                                                    1.0   \n",
       "hp_kW                                                             85.0   \n",
       "Inspection_new                                                       0   \n",
       "Paint_Type                                                    Metallic   \n",
       "Upholstery_type                                      Part/Full Leather   \n",
       "Gearing_Type                                                 Automatic   \n",
       "Displacement_cc                                                 1598.0   \n",
       "Weight_kg                                                       1135.0   \n",
       "Drive_chain                                                      front   \n",
       "cons_comb                                                          3.5   \n",
       "\n",
       "                                                                     6  \\\n",
       "make_model                                                     Audi A1   \n",
       "body_type                                                Station wagon   \n",
       "price                                                            16422   \n",
       "vat                                                     VAT deductible   \n",
       "km                                                             62111.0   \n",
       "Type                                                              Used   \n",
       "Fuel                                                            Diesel   \n",
       "Gears                                                              7.0   \n",
       "Comfort_Convenience  Air conditioning,Armrest,Automatic climate con...   \n",
       "Entertainment_Media  Bluetooth,CD player,Hands-free equipment,On-bo...   \n",
       "Extras               Alloy wheels,Sport package,Sport seats,Sport s...   \n",
       "Safety_Security      ABS,Central door lock,Daytime running lights,D...   \n",
       "age                                                                3.0   \n",
       "Previous_Owners                                                    1.0   \n",
       "hp_kW                                                             85.0   \n",
       "Inspection_new                                                       1   \n",
       "Paint_Type                                                    Metallic   \n",
       "Upholstery_type                                      Part/Full Leather   \n",
       "Gearing_Type                                                 Automatic   \n",
       "Displacement_cc                                                 1598.0   \n",
       "Weight_kg                                                       1195.0   \n",
       "Drive_chain                                                      front   \n",
       "cons_comb                                                          3.7   \n",
       "\n",
       "                                                                     7  \\\n",
       "make_model                                                     Audi A1   \n",
       "body_type                                                      Compact   \n",
       "price                                                            14480   \n",
       "vat                                                     VAT deductible   \n",
       "km                                                             14986.0   \n",
       "Type                                                              Used   \n",
       "Fuel                                                            Diesel   \n",
       "Gears                                                              7.0   \n",
       "Comfort_Convenience  Air conditioning,Armrest,Electrical side mirro...   \n",
       "Entertainment_Media                                CD player,MP3,Radio   \n",
       "Extras                                                    Alloy wheels   \n",
       "Safety_Security      ABS,Central door lock,Daytime running lights,D...   \n",
       "age                                                                3.0   \n",
       "Previous_Owners                                                    1.0   \n",
       "hp_kW                                                             66.0   \n",
       "Inspection_new                                                       1   \n",
       "Paint_Type                                                    Metallic   \n",
       "Upholstery_type                                                  Cloth   \n",
       "Gearing_Type                                                 Automatic   \n",
       "Displacement_cc                                                 1422.0   \n",
       "Weight_kg                                                       1180.0   \n",
       "Drive_chain                                                      front   \n",
       "cons_comb                                                          3.7   \n",
       "\n",
       "                                                                     8  \\\n",
       "make_model                                                     Audi A1   \n",
       "body_type                                                       Sedans   \n",
       "price                                                            16700   \n",
       "vat                                                     VAT deductible   \n",
       "km                                                             57000.0   \n",
       "Type                                                              Used   \n",
       "Fuel                                                            Diesel   \n",
       "Gears                                                              7.0   \n",
       "Comfort_Convenience                     Air conditioning,Power windows   \n",
       "Entertainment_Media                                              Radio   \n",
       "Extras                                                    Alloy wheels   \n",
       "Safety_Security      ABS,Central door lock,Driver-side airbag,Elect...   \n",
       "age                                                                3.0   \n",
       "Previous_Owners                                                    1.0   \n",
       "hp_kW                                                             85.0   \n",
       "Inspection_new                                                       0   \n",
       "Paint_Type                                                    Metallic   \n",
       "Upholstery_type                                                  Cloth   \n",
       "Gearing_Type                                                 Automatic   \n",
       "Displacement_cc                                                 1598.0   \n",
       "Weight_kg                                                       1275.0   \n",
       "Drive_chain                                                      front   \n",
       "cons_comb                                                          3.7   \n",
       "\n",
       "                                                                     9  \n",
       "make_model                                                     Audi A1  \n",
       "body_type                                                       Sedans  \n",
       "price                                                            17990  \n",
       "vat                                                     VAT deductible  \n",
       "km                                                             16103.0  \n",
       "Type                                                              Used  \n",
       "Fuel                                                           Benzine  \n",
       "Gears                                                              7.0  \n",
       "Comfort_Convenience  Air conditioning,Armrest,Automatic climate con...  \n",
       "Entertainment_Media                                              Radio  \n",
       "Extras                                                    Alloy wheels  \n",
       "Safety_Security      ABS,Central door lock,Daytime running lights,D...  \n",
       "age                                                                2.0  \n",
       "Previous_Owners                                                    1.0  \n",
       "hp_kW                                                             70.0  \n",
       "Inspection_new                                                       0  \n",
       "Paint_Type                                                    Metallic  \n",
       "Upholstery_type                                                  Cloth  \n",
       "Gearing_Type                                                 Automatic  \n",
       "Displacement_cc                                                  999.0  \n",
       "Weight_kg                                                       1135.0  \n",
       "Drive_chain                                                      front  \n",
       "cons_comb                                                          4.2  "
      ]
     },
     "execution_count": 79,
     "metadata": {},
     "output_type": "execute_result"
    }
   ],
   "source": [
    "df.head(10).T"
   ]
  },
  {
   "cell_type": "code",
   "execution_count": 80,
   "id": "6fe13dc1",
   "metadata": {},
   "outputs": [
    {
     "name": "stdout",
     "output_type": "stream",
     "text": [
      "<class 'pandas.core.frame.DataFrame'>\n",
      "RangeIndex: 15915 entries, 0 to 15914\n",
      "Data columns (total 23 columns):\n",
      " #   Column               Non-Null Count  Dtype  \n",
      "---  ------               --------------  -----  \n",
      " 0   make_model           15915 non-null  object \n",
      " 1   body_type            15915 non-null  object \n",
      " 2   price                15915 non-null  int64  \n",
      " 3   vat                  15915 non-null  object \n",
      " 4   km                   15915 non-null  float64\n",
      " 5   Type                 15915 non-null  object \n",
      " 6   Fuel                 15915 non-null  object \n",
      " 7   Gears                15915 non-null  float64\n",
      " 8   Comfort_Convenience  15915 non-null  object \n",
      " 9   Entertainment_Media  15915 non-null  object \n",
      " 10  Extras               15915 non-null  object \n",
      " 11  Safety_Security      15915 non-null  object \n",
      " 12  age                  15915 non-null  float64\n",
      " 13  Previous_Owners      15915 non-null  float64\n",
      " 14  hp_kW                15915 non-null  float64\n",
      " 15  Inspection_new       15915 non-null  int64  \n",
      " 16  Paint_Type           15915 non-null  object \n",
      " 17  Upholstery_type      15915 non-null  object \n",
      " 18  Gearing_Type         15915 non-null  object \n",
      " 19  Displacement_cc      15915 non-null  float64\n",
      " 20  Weight_kg            15915 non-null  float64\n",
      " 21  Drive_chain          15915 non-null  object \n",
      " 22  cons_comb            15915 non-null  float64\n",
      "dtypes: float64(8), int64(2), object(13)\n",
      "memory usage: 2.8+ MB\n"
     ]
    }
   ],
   "source": [
    "df.info()"
   ]
  },
  {
   "cell_type": "code",
   "execution_count": 81,
   "id": "3e9890a0",
   "metadata": {},
   "outputs": [
    {
     "data": {
      "text/plain": [
       "make_model             0\n",
       "body_type              0\n",
       "price                  0\n",
       "vat                    0\n",
       "km                     0\n",
       "Type                   0\n",
       "Fuel                   0\n",
       "Gears                  0\n",
       "Comfort_Convenience    0\n",
       "Entertainment_Media    0\n",
       "Extras                 0\n",
       "Safety_Security        0\n",
       "age                    0\n",
       "Previous_Owners        0\n",
       "hp_kW                  0\n",
       "Inspection_new         0\n",
       "Paint_Type             0\n",
       "Upholstery_type        0\n",
       "Gearing_Type           0\n",
       "Displacement_cc        0\n",
       "Weight_kg              0\n",
       "Drive_chain            0\n",
       "cons_comb              0\n",
       "dtype: int64"
      ]
     },
     "execution_count": 81,
     "metadata": {},
     "output_type": "execute_result"
    }
   ],
   "source": [
    "df.isnull().sum()"
   ]
  },
  {
   "cell_type": "code",
   "execution_count": 82,
   "id": "0e83ea80",
   "metadata": {},
   "outputs": [
    {
     "data": {
      "text/plain": [
       "<AxesSubplot:>"
      ]
     },
     "execution_count": 82,
     "metadata": {},
     "output_type": "execute_result"
    },
    {
     "data": {
      "image/png": "[encoded data removed]",
      "text/plain": [
       "<Figure size 720x432 with 2 Axes>"
      ]
     },
     "metadata": {
      "needs_background": "light"
     },
     "output_type": "display_data"
    }
   ],
   "source": [
    "plt.figure(figsize=(10,6))\n",
    "sns.heatmap(df.corr(),annot = True)"
   ]
  },
  {
   "cell_type": "code",
   "execution_count": 83,
   "id": "6f566a0f",
   "metadata": {},
   "outputs": [
    {
     "data": {
      "text/plain": [
       "Index(['make_model', 'body_type', 'price', 'vat', 'km', 'Type', 'Fuel',\n",
       "       'Gears', 'Comfort_Convenience', 'Entertainment_Media', 'Extras',\n",
       "       'Safety_Security', 'age', 'Previous_Owners', 'hp_kW', 'Inspection_new',\n",
       "       'Paint_Type', 'Upholstery_type', 'Gearing_Type', 'Displacement_cc',\n",
       "       'Weight_kg', 'Drive_chain', 'cons_comb'],\n",
       "      dtype='object')"
      ]
     },
     "execution_count": 83,
     "metadata": {},
     "output_type": "execute_result"
    }
   ],
   "source": [
    "df.columns"
   ]
  },
  {
   "cell_type": "code",
   "execution_count": 84,
   "id": "4ec00f55",
   "metadata": {},
   "outputs": [
    {
     "data": {
      "text/plain": [
       "Audi A3           3097\n",
       "Audi A1           2614\n",
       "Opel Insignia     2598\n",
       "Opel Astra        2525\n",
       "Opel Corsa        2216\n",
       "Renault Clio      1839\n",
       "Renault Espace     991\n",
       "Renault Duster      34\n",
       "Audi A2              1\n",
       "Name: make_model, dtype: int64"
      ]
     },
     "execution_count": 84,
     "metadata": {},
     "output_type": "execute_result"
    }
   ],
   "source": [
    "df.make_model.value_counts()\n"
   ]
  },
  {
   "cell_type": "code",
   "execution_count": 85,
   "id": "d3c1783b",
   "metadata": {},
   "outputs": [],
   "source": [
    "df = df[df.make_model !='Audi A2']"
   ]
  },
  {
   "cell_type": "code",
   "execution_count": 86,
   "id": "86583627",
   "metadata": {},
   "outputs": [
    {
     "data": {
      "text/plain": [
       "Audi A3           3097\n",
       "Audi A1           2614\n",
       "Opel Insignia     2598\n",
       "Opel Astra        2525\n",
       "Opel Corsa        2216\n",
       "Renault Clio      1839\n",
       "Renault Espace     991\n",
       "Renault Duster      34\n",
       "Name: make_model, dtype: int64"
      ]
     },
     "execution_count": 86,
     "metadata": {},
     "output_type": "execute_result"
    }
   ],
   "source": [
    "df.make_model.value_counts()\n"
   ]
  },
  {
   "cell_type": "code",
   "execution_count": 87,
   "id": "62a5f675",
   "metadata": {},
   "outputs": [
    {
     "data": {
      "text/plain": [
       "Sedans           8004\n",
       "Station wagon    3677\n",
       "Compact          3240\n",
       "Van               817\n",
       "Transporter        88\n",
       "Off-Road           55\n",
       "Coupe              25\n",
       "Convertible         8\n",
       "Name: body_type, dtype: int64"
      ]
     },
     "execution_count": 87,
     "metadata": {},
     "output_type": "execute_result"
    }
   ],
   "source": [
    "df.body_type.value_counts()"
   ]
  },
  {
   "cell_type": "code",
   "execution_count": 88,
   "id": "7f3dcfcd",
   "metadata": {},
   "outputs": [],
   "source": [
    "df = df[df.body_type !='Convertible']"
   ]
  },
  {
   "cell_type": "code",
   "execution_count": 89,
   "id": "9d8af430",
   "metadata": {},
   "outputs": [
    {
     "data": {
      "text/plain": [
       "Sedans           8004\n",
       "Station wagon    3677\n",
       "Compact          3240\n",
       "Van               817\n",
       "Transporter        88\n",
       "Off-Road           55\n",
       "Coupe              25\n",
       "Name: body_type, dtype: int64"
      ]
     },
     "execution_count": 89,
     "metadata": {},
     "output_type": "execute_result"
    }
   ],
   "source": [
    "df.body_type.value_counts()"
   ]
  },
  {
   "cell_type": "code",
   "execution_count": 90,
   "id": "d60b7059",
   "metadata": {},
   "outputs": [
    {
     "data": {
      "text/plain": [
       "VAT deductible      15036\n",
       "Price negotiable      870\n",
       "Name: vat, dtype: int64"
      ]
     },
     "execution_count": 90,
     "metadata": {},
     "output_type": "execute_result"
    }
   ],
   "source": [
    "df.vat.value_counts()"
   ]
  },
  {
   "cell_type": "code",
   "execution_count": 91,
   "id": "5e6815b1",
   "metadata": {},
   "outputs": [
    {
     "data": {
      "text/plain": [
       "10.000000       1044\n",
       "1647.362609      985\n",
       "1.000000         367\n",
       "5.000000         170\n",
       "50.000000        148\n",
       "                ... \n",
       "20719.000000       1\n",
       "91910.000000       1\n",
       "39860.000000       1\n",
       "28084.000000       1\n",
       "57889.000000       1\n",
       "Name: km, Length: 6686, dtype: int64"
      ]
     },
     "execution_count": 91,
     "metadata": {},
     "output_type": "execute_result"
    }
   ],
   "source": [
    "df.km.value_counts()"
   ]
  },
  {
   "cell_type": "code",
   "execution_count": 92,
   "id": "c0a7060b",
   "metadata": {},
   "outputs": [
    {
     "data": {
      "text/plain": [
       "count     15906.000000\n",
       "mean      32096.180856\n",
       "std       36984.785010\n",
       "min           0.000000\n",
       "25%        1914.250000\n",
       "50%       20413.500000\n",
       "75%       46921.000000\n",
       "max      317000.000000\n",
       "Name: km, dtype: float64"
      ]
     },
     "execution_count": 92,
     "metadata": {},
     "output_type": "execute_result"
    }
   ],
   "source": [
    "df.km.describe()"
   ]
  },
  {
   "cell_type": "code",
   "execution_count": 94,
   "id": "819b8548",
   "metadata": {},
   "outputs": [
    {
     "data": {
      "text/plain": [
       "<AxesSubplot:xlabel='km', ylabel='Count'>"
      ]
     },
     "execution_count": 94,
     "metadata": {},
     "output_type": "execute_result"
    },
    {
     "data": {
      "image/png": "[encoded data removed]",
      "text/plain": [
       "<Figure size 432x288 with 1 Axes>"
      ]
     },
     "metadata": {
      "needs_background": "light"
     },
     "output_type": "display_data"
    }
   ],
   "source": [
    "sns.histplot(df.km)"
   ]
  },
  {
   "cell_type": "code",
   "execution_count": 95,
   "id": "2e59709b",
   "metadata": {},
   "outputs": [
    {
     "name": "stderr",
     "output_type": "stream",
     "text": [
      "C:\\Users\\rusla\\Anaconda3\\lib\\site-packages\\seaborn\\_decorators.py:36: FutureWarning: Pass the following variable as a keyword arg: x. From version 0.12, the only valid positional argument will be `data`, and passing other arguments without an explicit keyword will result in an error or misinterpretation.\n",
      "  warnings.warn(\n"
     ]
    },
    {
     "data": {
      "text/plain": [
       "<AxesSubplot:xlabel='km'>"
      ]
     },
     "execution_count": 95,
     "metadata": {},
     "output_type": "execute_result"
    },
    {
     "data": {
      "image/png": "[encoded data removed]",
      "text/plain": [
       "<Figure size 432x288 with 1 Axes>"
      ]
     },
     "metadata": {
      "needs_background": "light"
     },
     "output_type": "display_data"
    }
   ],
   "source": [
    "sns.boxplot(df.km)"
   ]
  },
  {
   "cell_type": "code",
   "execution_count": 96,
   "id": "3297c1b4",
   "metadata": {},
   "outputs": [
    {
     "data": {
      "text/plain": [
       "Used              11088\n",
       "New                1649\n",
       "Pre-registered     1364\n",
       "Employee's car     1009\n",
       "Demonstration       796\n",
       "Name: Type, dtype: int64"
      ]
     },
     "execution_count": 96,
     "metadata": {},
     "output_type": "execute_result"
    }
   ],
   "source": [
    "df.Type.value_counts()"
   ]
  },
  {
   "cell_type": "code",
   "execution_count": 97,
   "id": "ab91c886",
   "metadata": {},
   "outputs": [
    {
     "data": {
      "text/plain": [
       "Benzine     8545\n",
       "Diesel      7292\n",
       "LPG/CNG       64\n",
       "Electric       5\n",
       "Name: Fuel, dtype: int64"
      ]
     },
     "execution_count": 97,
     "metadata": {},
     "output_type": "execute_result"
    }
   ],
   "source": [
    "df.Fuel.value_counts()"
   ]
  },
  {
   "cell_type": "code",
   "execution_count": 98,
   "id": "d3309132",
   "metadata": {},
   "outputs": [],
   "source": [
    "df = df[df.Fuel !='Electric' ]"
   ]
  },
  {
   "cell_type": "code",
   "execution_count": 99,
   "id": "87c3189a",
   "metadata": {},
   "outputs": [
    {
     "data": {
      "text/plain": [
       "Benzine    8545\n",
       "Diesel     7292\n",
       "LPG/CNG      64\n",
       "Name: Fuel, dtype: int64"
      ]
     },
     "execution_count": 99,
     "metadata": {},
     "output_type": "execute_result"
    }
   ],
   "source": [
    "df.Fuel.value_counts()"
   ]
  },
  {
   "cell_type": "code",
   "execution_count": 100,
   "id": "8070a413",
   "metadata": {},
   "outputs": [
    {
     "data": {
      "text/plain": [
       "Air conditioning,Electrical side mirrors,Hill Holder,Power windows                                                                                                                                                                                                                                                                                                                                                                                                                             388\n",
       "Air conditioning,Armrest,Automatic climate control,Cruise control,Electrical side mirrors,Leather steering wheel,Light sensor,Lumbar support,Multi-function steering wheel,Navigation system,Park Distance Control,Parking assist system sensors front,Parking assist system sensors rear,Power windows,Rain sensor,Seat heating,Start-stop system                                                                                                                                             187\n",
       "Air conditioning,Armrest,Automatic climate control,Cruise control,Electrically adjustable seats,Electrical side mirrors,Electric tailgate,Heated steering wheel,Hill Holder,Keyless central door lock,Leather steering wheel,Light sensor,Lumbar support,Multi-function steering wheel,Navigation system,Park Distance Control,Parking assist system camera,Parking assist system sensors front,Parking assist system sensors rear,Power windows,Rain sensor,Seat heating,Start-stop system    161\n",
       "Air conditioning,Automatic climate control,Cruise control,Multi-function steering wheel,Park Distance Control,Power windows                                                                                                                                                                                                                                                                                                                                                                    160\n",
       "Air conditioning,Electrical side mirrors,Power windows                                                                                                                                                                                                                                                                                                                                                                                                                                         134\n",
       "                                                                                                                                                                                                                                                                                                                                                                                                                                                                                              ... \n",
       "Air conditioning,Armrest,Cruise control,Heated steering wheel,Hill Holder,Leather steering wheel,Multi-function steering wheel,Park Distance Control,Parking assist system sensors rear,Power windows,Seat heating                                                                                                                                                                                                                                                                               1\n",
       "Air conditioning,Armrest,Automatic climate control,Cruise control,Electrical side mirrors,Hill Holder,Leather steering wheel,Light sensor,Navigation system,Park Distance Control,Parking assist system sensors front,Parking assist system sensors rear,Power windows,Rain sensor,Start-stop system                                                                                                                                                                                             1\n",
       "Air conditioning,Armrest,Automatic climate control,Cruise control,Electrically adjustable seats,Electrical side mirrors,Hill Holder,Leather steering wheel,Lumbar support,Massage seats,Navigation system,Parking assist system camera,Parking assist system self-steering,Power windows,Rain sensor,Seat heating,Seat ventilation,Split rear seats,Sunroof,Tinted windows                                                                                                                       1\n",
       "Air conditioning,Armrest,Automatic climate control,Cruise control,Electrical side mirrors,Hill Holder,Leather steering wheel,Multi-function steering wheel,Power windows,Split rear seats,Start-stop system                                                                                                                                                                                                                                                                                      1\n",
       "Air conditioning,Armrest,Electrical side mirrors,Leather steering wheel,Light sensor,Multi-function steering wheel,Park Distance Control,Parking assist system sensors front,Parking assist system sensors rear,Power windows,Rain sensor,Start-stop system                                                                                                                                                                                                                                      1\n",
       "Name: Comfort_Convenience, Length: 6189, dtype: int64"
      ]
     },
     "execution_count": 100,
     "metadata": {},
     "output_type": "execute_result"
    }
   ],
   "source": [
    "df.Comfort_Convenience.value_counts()"
   ]
  },
  {
   "cell_type": "code",
   "execution_count": 101,
   "id": "7654c85d",
   "metadata": {},
   "outputs": [],
   "source": [
    "df.drop(\"Comfort_Convenience\", axis=1,inplace=True)\n",
    "df.drop(\"Entertainment_Media\", axis=1,inplace=True)\n",
    "df.drop(\"Extras\", axis=1,inplace=True)\n",
    "df.drop(\"Safety_Security\", axis=1,inplace=True)"
   ]
  },
  {
   "cell_type": "code",
   "execution_count": 102,
   "id": "1bae6457",
   "metadata": {},
   "outputs": [
    {
     "data": {
      "text/plain": [
       "Index(['make_model', 'body_type', 'price', 'vat', 'km', 'Type', 'Fuel',\n",
       "       'Gears', 'age', 'Previous_Owners', 'hp_kW', 'Inspection_new',\n",
       "       'Paint_Type', 'Upholstery_type', 'Gearing_Type', 'Displacement_cc',\n",
       "       'Weight_kg', 'Drive_chain', 'cons_comb'],\n",
       "      dtype='object')"
      ]
     },
     "execution_count": 102,
     "metadata": {},
     "output_type": "execute_result"
    }
   ],
   "source": [
    "df.columns"
   ]
  },
  {
   "cell_type": "code",
   "execution_count": 103,
   "id": "cdd0138f",
   "metadata": {},
   "outputs": [
    {
     "data": {
      "text/plain": [
       "1.0    4519\n",
       "0.0    4433\n",
       "3.0    3676\n",
       "2.0    3273\n",
       "Name: age, dtype: int64"
      ]
     },
     "execution_count": 103,
     "metadata": {},
     "output_type": "execute_result"
    }
   ],
   "source": [
    "df.age.value_counts()"
   ]
  },
  {
   "cell_type": "code",
   "execution_count": 104,
   "id": "dec97854",
   "metadata": {},
   "outputs": [
    {
     "data": {
      "text/plain": [
       "1.0    14144\n",
       "2.0     1172\n",
       "0.0      554\n",
       "3.0       29\n",
       "4.0        2\n",
       "Name: Previous_Owners, dtype: int64"
      ]
     },
     "execution_count": 104,
     "metadata": {},
     "output_type": "execute_result"
    }
   ],
   "source": [
    "df.Previous_Owners.value_counts()"
   ]
  },
  {
   "cell_type": "code",
   "execution_count": 105,
   "id": "efaedf27",
   "metadata": {},
   "outputs": [],
   "source": [
    "df = df[df.Previous_Owners != 4.0]"
   ]
  },
  {
   "cell_type": "code",
   "execution_count": 106,
   "id": "24e4c0f7",
   "metadata": {},
   "outputs": [
    {
     "data": {
      "text/plain": [
       "1.0    14144\n",
       "2.0     1172\n",
       "0.0      554\n",
       "3.0       29\n",
       "Name: Previous_Owners, dtype: int64"
      ]
     },
     "execution_count": 106,
     "metadata": {},
     "output_type": "execute_result"
    }
   ],
   "source": [
    "df.Previous_Owners.value_counts()"
   ]
  },
  {
   "cell_type": "code",
   "execution_count": 107,
   "id": "afa0e4cf",
   "metadata": {},
   "outputs": [
    {
     "data": {
      "text/plain": [
       "85.0     2543\n",
       "66.0     2121\n",
       "81.0     1402\n",
       "100.0    1316\n",
       "110.0    1109\n",
       "         ... \n",
       "84.0        1\n",
       "137.0       1\n",
       "123.0       1\n",
       "150.0       1\n",
       "75.0        1\n",
       "Name: hp_kW, Length: 77, dtype: int64"
      ]
     },
     "execution_count": 107,
     "metadata": {},
     "output_type": "execute_result"
    }
   ],
   "source": [
    "df.hp_kW.value_counts()"
   ]
  },
  {
   "cell_type": "code",
   "execution_count": 108,
   "id": "c19e3c72",
   "metadata": {},
   "outputs": [
    {
     "data": {
      "text/plain": [
       "<AxesSubplot:xlabel='hp_kW', ylabel='Count'>"
      ]
     },
     "execution_count": 108,
     "metadata": {},
     "output_type": "execute_result"
    },
    {
     "data": {
      "image/png": "[encoded data removed]",
      "text/plain": [
       "<Figure size 432x288 with 1 Axes>"
      ]
     },
     "metadata": {
      "needs_background": "light"
     },
     "output_type": "display_data"
    }
   ],
   "source": [
    "sns.histplot(df.hp_kW)"
   ]
  },
  {
   "cell_type": "code",
   "execution_count": 109,
   "id": "cbc444ea",
   "metadata": {},
   "outputs": [
    {
     "name": "stderr",
     "output_type": "stream",
     "text": [
      "C:\\Users\\rusla\\Anaconda3\\lib\\site-packages\\seaborn\\_decorators.py:36: FutureWarning: Pass the following variable as a keyword arg: x. From version 0.12, the only valid positional argument will be `data`, and passing other arguments without an explicit keyword will result in an error or misinterpretation.\n",
      "  warnings.warn(\n"
     ]
    },
    {
     "data": {
      "text/plain": [
       "<AxesSubplot:xlabel='hp_kW'>"
      ]
     },
     "execution_count": 109,
     "metadata": {},
     "output_type": "execute_result"
    },
    {
     "data": {
      "image/png": "[encoded data removed]",
      "text/plain": [
       "<Figure size 432x288 with 1 Axes>"
      ]
     },
     "metadata": {
      "needs_background": "light"
     },
     "output_type": "display_data"
    }
   ],
   "source": [
    "sns.boxplot(df.hp_kW)"
   ]
  },
  {
   "cell_type": "code",
   "execution_count": 110,
   "id": "23b01ca4",
   "metadata": {},
   "outputs": [
    {
     "data": {
      "text/plain": [
       "0    11967\n",
       "1     3932\n",
       "Name: Inspection_new, dtype: int64"
      ]
     },
     "execution_count": 110,
     "metadata": {},
     "output_type": "execute_result"
    }
   ],
   "source": [
    "df.Inspection_new.value_counts()"
   ]
  },
  {
   "cell_type": "code",
   "execution_count": 111,
   "id": "90e09f37",
   "metadata": {},
   "outputs": [
    {
     "data": {
      "text/plain": [
       "Metallic       15230\n",
       "Uni/basic        637\n",
       "Perl effect       32\n",
       "Name: Paint_Type, dtype: int64"
      ]
     },
     "execution_count": 111,
     "metadata": {},
     "output_type": "execute_result"
    }
   ],
   "source": [
    "df.Paint_Type.value_counts()"
   ]
  },
  {
   "cell_type": "code",
   "execution_count": 112,
   "id": "382c356e",
   "metadata": {},
   "outputs": [
    {
     "data": {
      "text/plain": [
       "Cloth                12227\n",
       "Part/Full Leather     3672\n",
       "Name: Upholstery_type, dtype: int64"
      ]
     },
     "execution_count": 112,
     "metadata": {},
     "output_type": "execute_result"
    }
   ],
   "source": [
    "df.Upholstery_type.value_counts()"
   ]
  },
  {
   "cell_type": "code",
   "execution_count": 113,
   "id": "c7531ce7",
   "metadata": {},
   "outputs": [
    {
     "data": {
      "text/plain": [
       "Manual            8148\n",
       "Automatic         7291\n",
       "Semi-automatic     460\n",
       "Name: Gearing_Type, dtype: int64"
      ]
     },
     "execution_count": 113,
     "metadata": {},
     "output_type": "execute_result"
    }
   ],
   "source": [
    "df.Gearing_Type.value_counts()"
   ]
  },
  {
   "cell_type": "code",
   "execution_count": 114,
   "id": "c29511ee",
   "metadata": {},
   "outputs": [
    {
     "data": {
      "text/plain": [
       "count    15899.000000\n",
       "mean      1428.464054\n",
       "std        275.763102\n",
       "min        890.000000\n",
       "25%       1229.000000\n",
       "50%       1461.000000\n",
       "75%       1598.000000\n",
       "max       2967.000000\n",
       "Name: Displacement_cc, dtype: float64"
      ]
     },
     "execution_count": 114,
     "metadata": {},
     "output_type": "execute_result"
    }
   ],
   "source": [
    "df.Displacement_cc.describe()"
   ]
  },
  {
   "cell_type": "code",
   "execution_count": 115,
   "id": "22ba0c0d",
   "metadata": {},
   "outputs": [
    {
     "data": {
      "text/plain": [
       "<AxesSubplot:xlabel='Displacement_cc', ylabel='Count'>"
      ]
     },
     "execution_count": 115,
     "metadata": {},
     "output_type": "execute_result"
    },
    {
     "data": {
      "image/png": "[encoded data removed]",
      "text/plain": [
       "<Figure size 432x288 with 1 Axes>"
      ]
     },
     "metadata": {
      "needs_background": "light"
     },
     "output_type": "display_data"
    }
   ],
   "source": [
    "sns.histplot(df.Displacement_cc)"
   ]
  },
  {
   "cell_type": "code",
   "execution_count": 116,
   "id": "beb99962",
   "metadata": {},
   "outputs": [
    {
     "data": {
      "text/plain": [
       "count    15899.000000\n",
       "mean      1337.580351\n",
       "std        199.661388\n",
       "min        840.000000\n",
       "25%       1165.000000\n",
       "50%       1295.000000\n",
       "75%       1472.000000\n",
       "max       2471.000000\n",
       "Name: Weight_kg, dtype: float64"
      ]
     },
     "execution_count": 116,
     "metadata": {},
     "output_type": "execute_result"
    }
   ],
   "source": [
    "df.Weight_kg.describe()"
   ]
  },
  {
   "cell_type": "code",
   "execution_count": 117,
   "id": "c314af0c",
   "metadata": {},
   "outputs": [
    {
     "data": {
      "text/plain": [
       "front    15692\n",
       "4WD        203\n",
       "rear         4\n",
       "Name: Drive_chain, dtype: int64"
      ]
     },
     "execution_count": 117,
     "metadata": {},
     "output_type": "execute_result"
    }
   ],
   "source": [
    "df.Drive_chain.value_counts()"
   ]
  },
  {
   "cell_type": "code",
   "execution_count": 118,
   "id": "3eb0b722",
   "metadata": {},
   "outputs": [],
   "source": [
    "df = df[df.Drive_chain  != 'rear']"
   ]
  },
  {
   "cell_type": "code",
   "execution_count": 119,
   "id": "3f4e0f4a",
   "metadata": {},
   "outputs": [
    {
     "data": {
      "text/plain": [
       "front    15692\n",
       "4WD        203\n",
       "Name: Drive_chain, dtype: int64"
      ]
     },
     "execution_count": 119,
     "metadata": {},
     "output_type": "execute_result"
    }
   ],
   "source": [
    "df.Drive_chain.value_counts()"
   ]
  },
  {
   "cell_type": "code",
   "execution_count": 120,
   "id": "13d3b189",
   "metadata": {},
   "outputs": [
    {
     "data": {
      "text/plain": [
       "count    15895.000000\n",
       "mean         4.832120\n",
       "std          0.867531\n",
       "min          3.000000\n",
       "25%          4.100000\n",
       "50%          4.800000\n",
       "75%          5.400000\n",
       "max          9.100000\n",
       "Name: cons_comb, dtype: float64"
      ]
     },
     "execution_count": 120,
     "metadata": {},
     "output_type": "execute_result"
    }
   ],
   "source": [
    "df.cons_comb.describe()"
   ]
  },
  {
   "cell_type": "code",
   "execution_count": 121,
   "id": "7b6e38da",
   "metadata": {},
   "outputs": [
    {
     "data": {
      "text/plain": [
       "(15895, 19)"
      ]
     },
     "execution_count": 121,
     "metadata": {},
     "output_type": "execute_result"
    }
   ],
   "source": [
    "df.shape"
   ]
  },
  {
   "cell_type": "code",
   "execution_count": 122,
   "id": "181528de",
   "metadata": {},
   "outputs": [
    {
     "data": {
      "text/plain": [
       "<AxesSubplot:>"
      ]
     },
     "execution_count": 122,
     "metadata": {},
     "output_type": "execute_result"
    },
    {
     "data": {
      "image/png": "[encoded data removed]",
      "text/plain": [
       "<Figure size 720x432 with 2 Axes>"
      ]
     },
     "metadata": {
      "needs_background": "light"
     },
     "output_type": "display_data"
    }
   ],
   "source": [
    "plt.figure(figsize=(10,6))\n",
    "sns.heatmap(df.corr())\n"
   ]
  },
  {
   "cell_type": "code",
   "execution_count": 123,
   "id": "6ffcec31",
   "metadata": {},
   "outputs": [
    {
     "data": {
      "text/html": [
       "<div>\n",
       "<style scoped>\n",
       "    .dataframe tbody tr th:only-of-type {\n",
       "        vertical-align: middle;\n",
       "    }\n",
       "\n",
       "    .dataframe tbody tr th {\n",
       "        vertical-align: top;\n",
       "    }\n",
       "\n",
       "    .dataframe thead th {\n",
       "        text-align: right;\n",
       "    }\n",
       "</style>\n",
       "<table border=\"1\" class=\"dataframe\">\n",
       "  <thead>\n",
       "    <tr style=\"text-align: right;\">\n",
       "      <th></th>\n",
       "      <th>0</th>\n",
       "      <th>1</th>\n",
       "      <th>2</th>\n",
       "      <th>3</th>\n",
       "      <th>4</th>\n",
       "    </tr>\n",
       "  </thead>\n",
       "  <tbody>\n",
       "    <tr>\n",
       "      <th>make_model</th>\n",
       "      <td>Audi A1</td>\n",
       "      <td>Audi A1</td>\n",
       "      <td>Audi A1</td>\n",
       "      <td>Audi A1</td>\n",
       "      <td>Audi A1</td>\n",
       "    </tr>\n",
       "    <tr>\n",
       "      <th>body_type</th>\n",
       "      <td>Sedans</td>\n",
       "      <td>Sedans</td>\n",
       "      <td>Sedans</td>\n",
       "      <td>Sedans</td>\n",
       "      <td>Sedans</td>\n",
       "    </tr>\n",
       "    <tr>\n",
       "      <th>price</th>\n",
       "      <td>15770</td>\n",
       "      <td>14500</td>\n",
       "      <td>14640</td>\n",
       "      <td>14500</td>\n",
       "      <td>16790</td>\n",
       "    </tr>\n",
       "    <tr>\n",
       "      <th>vat</th>\n",
       "      <td>VAT deductible</td>\n",
       "      <td>Price negotiable</td>\n",
       "      <td>VAT deductible</td>\n",
       "      <td>VAT deductible</td>\n",
       "      <td>VAT deductible</td>\n",
       "    </tr>\n",
       "    <tr>\n",
       "      <th>km</th>\n",
       "      <td>56013.0</td>\n",
       "      <td>80000.0</td>\n",
       "      <td>83450.0</td>\n",
       "      <td>73000.0</td>\n",
       "      <td>16200.0</td>\n",
       "    </tr>\n",
       "    <tr>\n",
       "      <th>Type</th>\n",
       "      <td>Used</td>\n",
       "      <td>Used</td>\n",
       "      <td>Used</td>\n",
       "      <td>Used</td>\n",
       "      <td>Used</td>\n",
       "    </tr>\n",
       "    <tr>\n",
       "      <th>Fuel</th>\n",
       "      <td>Diesel</td>\n",
       "      <td>Benzine</td>\n",
       "      <td>Diesel</td>\n",
       "      <td>Diesel</td>\n",
       "      <td>Diesel</td>\n",
       "    </tr>\n",
       "    <tr>\n",
       "      <th>Gears</th>\n",
       "      <td>7.0</td>\n",
       "      <td>7.0</td>\n",
       "      <td>7.0</td>\n",
       "      <td>6.0</td>\n",
       "      <td>7.0</td>\n",
       "    </tr>\n",
       "    <tr>\n",
       "      <th>age</th>\n",
       "      <td>3.0</td>\n",
       "      <td>2.0</td>\n",
       "      <td>3.0</td>\n",
       "      <td>3.0</td>\n",
       "      <td>3.0</td>\n",
       "    </tr>\n",
       "    <tr>\n",
       "      <th>Previous_Owners</th>\n",
       "      <td>2.0</td>\n",
       "      <td>1.0</td>\n",
       "      <td>1.0</td>\n",
       "      <td>1.0</td>\n",
       "      <td>1.0</td>\n",
       "    </tr>\n",
       "    <tr>\n",
       "      <th>hp_kW</th>\n",
       "      <td>66.0</td>\n",
       "      <td>141.0</td>\n",
       "      <td>85.0</td>\n",
       "      <td>66.0</td>\n",
       "      <td>66.0</td>\n",
       "    </tr>\n",
       "    <tr>\n",
       "      <th>Inspection_new</th>\n",
       "      <td>1</td>\n",
       "      <td>0</td>\n",
       "      <td>0</td>\n",
       "      <td>0</td>\n",
       "      <td>1</td>\n",
       "    </tr>\n",
       "    <tr>\n",
       "      <th>Paint_Type</th>\n",
       "      <td>Metallic</td>\n",
       "      <td>Metallic</td>\n",
       "      <td>Metallic</td>\n",
       "      <td>Metallic</td>\n",
       "      <td>Metallic</td>\n",
       "    </tr>\n",
       "    <tr>\n",
       "      <th>Upholstery_type</th>\n",
       "      <td>Cloth</td>\n",
       "      <td>Cloth</td>\n",
       "      <td>Cloth</td>\n",
       "      <td>Cloth</td>\n",
       "      <td>Cloth</td>\n",
       "    </tr>\n",
       "    <tr>\n",
       "      <th>Gearing_Type</th>\n",
       "      <td>Automatic</td>\n",
       "      <td>Automatic</td>\n",
       "      <td>Automatic</td>\n",
       "      <td>Automatic</td>\n",
       "      <td>Automatic</td>\n",
       "    </tr>\n",
       "    <tr>\n",
       "      <th>Displacement_cc</th>\n",
       "      <td>1422.0</td>\n",
       "      <td>1798.0</td>\n",
       "      <td>1598.0</td>\n",
       "      <td>1422.0</td>\n",
       "      <td>1422.0</td>\n",
       "    </tr>\n",
       "    <tr>\n",
       "      <th>Weight_kg</th>\n",
       "      <td>1220.0</td>\n",
       "      <td>1255.0</td>\n",
       "      <td>1135.0</td>\n",
       "      <td>1195.0</td>\n",
       "      <td>1135.0</td>\n",
       "    </tr>\n",
       "    <tr>\n",
       "      <th>Drive_chain</th>\n",
       "      <td>front</td>\n",
       "      <td>front</td>\n",
       "      <td>front</td>\n",
       "      <td>front</td>\n",
       "      <td>front</td>\n",
       "    </tr>\n",
       "    <tr>\n",
       "      <th>cons_comb</th>\n",
       "      <td>3.8</td>\n",
       "      <td>5.6</td>\n",
       "      <td>3.8</td>\n",
       "      <td>3.8</td>\n",
       "      <td>4.1</td>\n",
       "    </tr>\n",
       "  </tbody>\n",
       "</table>\n",
       "</div>"
      ],
      "text/plain": [
       "                              0                 1               2  \\\n",
       "make_model              Audi A1           Audi A1         Audi A1   \n",
       "body_type                Sedans            Sedans          Sedans   \n",
       "price                     15770             14500           14640   \n",
       "vat              VAT deductible  Price negotiable  VAT deductible   \n",
       "km                      56013.0           80000.0         83450.0   \n",
       "Type                       Used              Used            Used   \n",
       "Fuel                     Diesel           Benzine          Diesel   \n",
       "Gears                       7.0               7.0             7.0   \n",
       "age                         3.0               2.0             3.0   \n",
       "Previous_Owners             2.0               1.0             1.0   \n",
       "hp_kW                      66.0             141.0            85.0   \n",
       "Inspection_new                1                 0               0   \n",
       "Paint_Type             Metallic          Metallic        Metallic   \n",
       "Upholstery_type           Cloth             Cloth           Cloth   \n",
       "Gearing_Type          Automatic         Automatic       Automatic   \n",
       "Displacement_cc          1422.0            1798.0          1598.0   \n",
       "Weight_kg                1220.0            1255.0          1135.0   \n",
       "Drive_chain               front             front           front   \n",
       "cons_comb                   3.8               5.6             3.8   \n",
       "\n",
       "                              3               4  \n",
       "make_model              Audi A1         Audi A1  \n",
       "body_type                Sedans          Sedans  \n",
       "price                     14500           16790  \n",
       "vat              VAT deductible  VAT deductible  \n",
       "km                      73000.0         16200.0  \n",
       "Type                       Used            Used  \n",
       "Fuel                     Diesel          Diesel  \n",
       "Gears                       6.0             7.0  \n",
       "age                         3.0             3.0  \n",
       "Previous_Owners             1.0             1.0  \n",
       "hp_kW                      66.0            66.0  \n",
       "Inspection_new                0               1  \n",
       "Paint_Type             Metallic        Metallic  \n",
       "Upholstery_type           Cloth           Cloth  \n",
       "Gearing_Type          Automatic       Automatic  \n",
       "Displacement_cc          1422.0          1422.0  \n",
       "Weight_kg                1195.0          1135.0  \n",
       "Drive_chain               front           front  \n",
       "cons_comb                   3.8             4.1  "
      ]
     },
     "execution_count": 123,
     "metadata": {},
     "output_type": "execute_result"
    }
   ],
   "source": [
    "df.head().T\n"
   ]
  },
  {
   "cell_type": "code",
   "execution_count": 124,
   "id": "b0b2a9ac",
   "metadata": {},
   "outputs": [],
   "source": [
    "df= pd.get_dummies(df,drop_first=True)\n"
   ]
  },
  {
   "cell_type": "code",
   "execution_count": 125,
   "id": "767ce2df",
   "metadata": {},
   "outputs": [
    {
     "data": {
      "text/html": [
       "<div>\n",
       "<style scoped>\n",
       "    .dataframe tbody tr th:only-of-type {\n",
       "        vertical-align: middle;\n",
       "    }\n",
       "\n",
       "    .dataframe tbody tr th {\n",
       "        vertical-align: top;\n",
       "    }\n",
       "\n",
       "    .dataframe thead th {\n",
       "        text-align: right;\n",
       "    }\n",
       "</style>\n",
       "<table border=\"1\" class=\"dataframe\">\n",
       "  <thead>\n",
       "    <tr style=\"text-align: right;\">\n",
       "      <th></th>\n",
       "      <th>0</th>\n",
       "      <th>1</th>\n",
       "      <th>2</th>\n",
       "      <th>3</th>\n",
       "      <th>4</th>\n",
       "      <th>5</th>\n",
       "      <th>6</th>\n",
       "      <th>7</th>\n",
       "      <th>8</th>\n",
       "      <th>9</th>\n",
       "    </tr>\n",
       "  </thead>\n",
       "  <tbody>\n",
       "    <tr>\n",
       "      <th>price</th>\n",
       "      <td>15770.0</td>\n",
       "      <td>14500.0</td>\n",
       "      <td>14640.0</td>\n",
       "      <td>14500.0</td>\n",
       "      <td>16790.0</td>\n",
       "      <td>15090.0</td>\n",
       "      <td>16422.0</td>\n",
       "      <td>14480.0</td>\n",
       "      <td>16700.0</td>\n",
       "      <td>17990.0</td>\n",
       "    </tr>\n",
       "    <tr>\n",
       "      <th>km</th>\n",
       "      <td>56013.0</td>\n",
       "      <td>80000.0</td>\n",
       "      <td>83450.0</td>\n",
       "      <td>73000.0</td>\n",
       "      <td>16200.0</td>\n",
       "      <td>63668.0</td>\n",
       "      <td>62111.0</td>\n",
       "      <td>14986.0</td>\n",
       "      <td>57000.0</td>\n",
       "      <td>16103.0</td>\n",
       "    </tr>\n",
       "    <tr>\n",
       "      <th>Gears</th>\n",
       "      <td>7.0</td>\n",
       "      <td>7.0</td>\n",
       "      <td>7.0</td>\n",
       "      <td>6.0</td>\n",
       "      <td>7.0</td>\n",
       "      <td>7.0</td>\n",
       "      <td>7.0</td>\n",
       "      <td>7.0</td>\n",
       "      <td>7.0</td>\n",
       "      <td>7.0</td>\n",
       "    </tr>\n",
       "    <tr>\n",
       "      <th>age</th>\n",
       "      <td>3.0</td>\n",
       "      <td>2.0</td>\n",
       "      <td>3.0</td>\n",
       "      <td>3.0</td>\n",
       "      <td>3.0</td>\n",
       "      <td>3.0</td>\n",
       "      <td>3.0</td>\n",
       "      <td>3.0</td>\n",
       "      <td>3.0</td>\n",
       "      <td>2.0</td>\n",
       "    </tr>\n",
       "    <tr>\n",
       "      <th>Previous_Owners</th>\n",
       "      <td>2.0</td>\n",
       "      <td>1.0</td>\n",
       "      <td>1.0</td>\n",
       "      <td>1.0</td>\n",
       "      <td>1.0</td>\n",
       "      <td>1.0</td>\n",
       "      <td>1.0</td>\n",
       "      <td>1.0</td>\n",
       "      <td>1.0</td>\n",
       "      <td>1.0</td>\n",
       "    </tr>\n",
       "    <tr>\n",
       "      <th>hp_kW</th>\n",
       "      <td>66.0</td>\n",
       "      <td>141.0</td>\n",
       "      <td>85.0</td>\n",
       "      <td>66.0</td>\n",
       "      <td>66.0</td>\n",
       "      <td>85.0</td>\n",
       "      <td>85.0</td>\n",
       "      <td>66.0</td>\n",
       "      <td>85.0</td>\n",
       "      <td>70.0</td>\n",
       "    </tr>\n",
       "    <tr>\n",
       "      <th>Inspection_new</th>\n",
       "      <td>1.0</td>\n",
       "      <td>0.0</td>\n",
       "      <td>0.0</td>\n",
       "      <td>0.0</td>\n",
       "      <td>1.0</td>\n",
       "      <td>0.0</td>\n",
       "      <td>1.0</td>\n",
       "      <td>1.0</td>\n",
       "      <td>0.0</td>\n",
       "      <td>0.0</td>\n",
       "    </tr>\n",
       "    <tr>\n",
       "      <th>Displacement_cc</th>\n",
       "      <td>1422.0</td>\n",
       "      <td>1798.0</td>\n",
       "      <td>1598.0</td>\n",
       "      <td>1422.0</td>\n",
       "      <td>1422.0</td>\n",
       "      <td>1598.0</td>\n",
       "      <td>1598.0</td>\n",
       "      <td>1422.0</td>\n",
       "      <td>1598.0</td>\n",
       "      <td>999.0</td>\n",
       "    </tr>\n",
       "    <tr>\n",
       "      <th>Weight_kg</th>\n",
       "      <td>1220.0</td>\n",
       "      <td>1255.0</td>\n",
       "      <td>1135.0</td>\n",
       "      <td>1195.0</td>\n",
       "      <td>1135.0</td>\n",
       "      <td>1135.0</td>\n",
       "      <td>1195.0</td>\n",
       "      <td>1180.0</td>\n",
       "      <td>1275.0</td>\n",
       "      <td>1135.0</td>\n",
       "    </tr>\n",
       "    <tr>\n",
       "      <th>cons_comb</th>\n",
       "      <td>3.8</td>\n",
       "      <td>5.6</td>\n",
       "      <td>3.8</td>\n",
       "      <td>3.8</td>\n",
       "      <td>4.1</td>\n",
       "      <td>3.5</td>\n",
       "      <td>3.7</td>\n",
       "      <td>3.7</td>\n",
       "      <td>3.7</td>\n",
       "      <td>4.2</td>\n",
       "    </tr>\n",
       "    <tr>\n",
       "      <th>make_model_Audi A3</th>\n",
       "      <td>0.0</td>\n",
       "      <td>0.0</td>\n",
       "      <td>0.0</td>\n",
       "      <td>0.0</td>\n",
       "      <td>0.0</td>\n",
       "      <td>0.0</td>\n",
       "      <td>0.0</td>\n",
       "      <td>0.0</td>\n",
       "      <td>0.0</td>\n",
       "      <td>0.0</td>\n",
       "    </tr>\n",
       "    <tr>\n",
       "      <th>make_model_Opel Astra</th>\n",
       "      <td>0.0</td>\n",
       "      <td>0.0</td>\n",
       "      <td>0.0</td>\n",
       "      <td>0.0</td>\n",
       "      <td>0.0</td>\n",
       "      <td>0.0</td>\n",
       "      <td>0.0</td>\n",
       "      <td>0.0</td>\n",
       "      <td>0.0</td>\n",
       "      <td>0.0</td>\n",
       "    </tr>\n",
       "    <tr>\n",
       "      <th>make_model_Opel Corsa</th>\n",
       "      <td>0.0</td>\n",
       "      <td>0.0</td>\n",
       "      <td>0.0</td>\n",
       "      <td>0.0</td>\n",
       "      <td>0.0</td>\n",
       "      <td>0.0</td>\n",
       "      <td>0.0</td>\n",
       "      <td>0.0</td>\n",
       "      <td>0.0</td>\n",
       "      <td>0.0</td>\n",
       "    </tr>\n",
       "    <tr>\n",
       "      <th>make_model_Opel Insignia</th>\n",
       "      <td>0.0</td>\n",
       "      <td>0.0</td>\n",
       "      <td>0.0</td>\n",
       "      <td>0.0</td>\n",
       "      <td>0.0</td>\n",
       "      <td>0.0</td>\n",
       "      <td>0.0</td>\n",
       "      <td>0.0</td>\n",
       "      <td>0.0</td>\n",
       "      <td>0.0</td>\n",
       "    </tr>\n",
       "    <tr>\n",
       "      <th>make_model_Renault Clio</th>\n",
       "      <td>0.0</td>\n",
       "      <td>0.0</td>\n",
       "      <td>0.0</td>\n",
       "      <td>0.0</td>\n",
       "      <td>0.0</td>\n",
       "      <td>0.0</td>\n",
       "      <td>0.0</td>\n",
       "      <td>0.0</td>\n",
       "      <td>0.0</td>\n",
       "      <td>0.0</td>\n",
       "    </tr>\n",
       "    <tr>\n",
       "      <th>make_model_Renault Duster</th>\n",
       "      <td>0.0</td>\n",
       "      <td>0.0</td>\n",
       "      <td>0.0</td>\n",
       "      <td>0.0</td>\n",
       "      <td>0.0</td>\n",
       "      <td>0.0</td>\n",
       "      <td>0.0</td>\n",
       "      <td>0.0</td>\n",
       "      <td>0.0</td>\n",
       "      <td>0.0</td>\n",
       "    </tr>\n",
       "    <tr>\n",
       "      <th>make_model_Renault Espace</th>\n",
       "      <td>0.0</td>\n",
       "      <td>0.0</td>\n",
       "      <td>0.0</td>\n",
       "      <td>0.0</td>\n",
       "      <td>0.0</td>\n",
       "      <td>0.0</td>\n",
       "      <td>0.0</td>\n",
       "      <td>0.0</td>\n",
       "      <td>0.0</td>\n",
       "      <td>0.0</td>\n",
       "    </tr>\n",
       "    <tr>\n",
       "      <th>body_type_Coupe</th>\n",
       "      <td>0.0</td>\n",
       "      <td>0.0</td>\n",
       "      <td>0.0</td>\n",
       "      <td>0.0</td>\n",
       "      <td>0.0</td>\n",
       "      <td>0.0</td>\n",
       "      <td>0.0</td>\n",
       "      <td>0.0</td>\n",
       "      <td>0.0</td>\n",
       "      <td>0.0</td>\n",
       "    </tr>\n",
       "    <tr>\n",
       "      <th>body_type_Off-Road</th>\n",
       "      <td>0.0</td>\n",
       "      <td>0.0</td>\n",
       "      <td>0.0</td>\n",
       "      <td>0.0</td>\n",
       "      <td>0.0</td>\n",
       "      <td>0.0</td>\n",
       "      <td>0.0</td>\n",
       "      <td>0.0</td>\n",
       "      <td>0.0</td>\n",
       "      <td>0.0</td>\n",
       "    </tr>\n",
       "    <tr>\n",
       "      <th>body_type_Sedans</th>\n",
       "      <td>1.0</td>\n",
       "      <td>1.0</td>\n",
       "      <td>1.0</td>\n",
       "      <td>1.0</td>\n",
       "      <td>1.0</td>\n",
       "      <td>1.0</td>\n",
       "      <td>0.0</td>\n",
       "      <td>0.0</td>\n",
       "      <td>1.0</td>\n",
       "      <td>1.0</td>\n",
       "    </tr>\n",
       "    <tr>\n",
       "      <th>body_type_Station wagon</th>\n",
       "      <td>0.0</td>\n",
       "      <td>0.0</td>\n",
       "      <td>0.0</td>\n",
       "      <td>0.0</td>\n",
       "      <td>0.0</td>\n",
       "      <td>0.0</td>\n",
       "      <td>1.0</td>\n",
       "      <td>0.0</td>\n",
       "      <td>0.0</td>\n",
       "      <td>0.0</td>\n",
       "    </tr>\n",
       "    <tr>\n",
       "      <th>body_type_Transporter</th>\n",
       "      <td>0.0</td>\n",
       "      <td>0.0</td>\n",
       "      <td>0.0</td>\n",
       "      <td>0.0</td>\n",
       "      <td>0.0</td>\n",
       "      <td>0.0</td>\n",
       "      <td>0.0</td>\n",
       "      <td>0.0</td>\n",
       "      <td>0.0</td>\n",
       "      <td>0.0</td>\n",
       "    </tr>\n",
       "    <tr>\n",
       "      <th>body_type_Van</th>\n",
       "      <td>0.0</td>\n",
       "      <td>0.0</td>\n",
       "      <td>0.0</td>\n",
       "      <td>0.0</td>\n",
       "      <td>0.0</td>\n",
       "      <td>0.0</td>\n",
       "      <td>0.0</td>\n",
       "      <td>0.0</td>\n",
       "      <td>0.0</td>\n",
       "      <td>0.0</td>\n",
       "    </tr>\n",
       "    <tr>\n",
       "      <th>vat_VAT deductible</th>\n",
       "      <td>1.0</td>\n",
       "      <td>0.0</td>\n",
       "      <td>1.0</td>\n",
       "      <td>1.0</td>\n",
       "      <td>1.0</td>\n",
       "      <td>1.0</td>\n",
       "      <td>1.0</td>\n",
       "      <td>1.0</td>\n",
       "      <td>1.0</td>\n",
       "      <td>1.0</td>\n",
       "    </tr>\n",
       "    <tr>\n",
       "      <th>Type_Employee's car</th>\n",
       "      <td>0.0</td>\n",
       "      <td>0.0</td>\n",
       "      <td>0.0</td>\n",
       "      <td>0.0</td>\n",
       "      <td>0.0</td>\n",
       "      <td>0.0</td>\n",
       "      <td>0.0</td>\n",
       "      <td>0.0</td>\n",
       "      <td>0.0</td>\n",
       "      <td>0.0</td>\n",
       "    </tr>\n",
       "    <tr>\n",
       "      <th>Type_New</th>\n",
       "      <td>0.0</td>\n",
       "      <td>0.0</td>\n",
       "      <td>0.0</td>\n",
       "      <td>0.0</td>\n",
       "      <td>0.0</td>\n",
       "      <td>0.0</td>\n",
       "      <td>0.0</td>\n",
       "      <td>0.0</td>\n",
       "      <td>0.0</td>\n",
       "      <td>0.0</td>\n",
       "    </tr>\n",
       "    <tr>\n",
       "      <th>Type_Pre-registered</th>\n",
       "      <td>0.0</td>\n",
       "      <td>0.0</td>\n",
       "      <td>0.0</td>\n",
       "      <td>0.0</td>\n",
       "      <td>0.0</td>\n",
       "      <td>0.0</td>\n",
       "      <td>0.0</td>\n",
       "      <td>0.0</td>\n",
       "      <td>0.0</td>\n",
       "      <td>0.0</td>\n",
       "    </tr>\n",
       "    <tr>\n",
       "      <th>Type_Used</th>\n",
       "      <td>1.0</td>\n",
       "      <td>1.0</td>\n",
       "      <td>1.0</td>\n",
       "      <td>1.0</td>\n",
       "      <td>1.0</td>\n",
       "      <td>1.0</td>\n",
       "      <td>1.0</td>\n",
       "      <td>1.0</td>\n",
       "      <td>1.0</td>\n",
       "      <td>1.0</td>\n",
       "    </tr>\n",
       "    <tr>\n",
       "      <th>Fuel_Diesel</th>\n",
       "      <td>1.0</td>\n",
       "      <td>0.0</td>\n",
       "      <td>1.0</td>\n",
       "      <td>1.0</td>\n",
       "      <td>1.0</td>\n",
       "      <td>1.0</td>\n",
       "      <td>1.0</td>\n",
       "      <td>1.0</td>\n",
       "      <td>1.0</td>\n",
       "      <td>0.0</td>\n",
       "    </tr>\n",
       "    <tr>\n",
       "      <th>Fuel_LPG/CNG</th>\n",
       "      <td>0.0</td>\n",
       "      <td>0.0</td>\n",
       "      <td>0.0</td>\n",
       "      <td>0.0</td>\n",
       "      <td>0.0</td>\n",
       "      <td>0.0</td>\n",
       "      <td>0.0</td>\n",
       "      <td>0.0</td>\n",
       "      <td>0.0</td>\n",
       "      <td>0.0</td>\n",
       "    </tr>\n",
       "    <tr>\n",
       "      <th>Paint_Type_Perl effect</th>\n",
       "      <td>0.0</td>\n",
       "      <td>0.0</td>\n",
       "      <td>0.0</td>\n",
       "      <td>0.0</td>\n",
       "      <td>0.0</td>\n",
       "      <td>0.0</td>\n",
       "      <td>0.0</td>\n",
       "      <td>0.0</td>\n",
       "      <td>0.0</td>\n",
       "      <td>0.0</td>\n",
       "    </tr>\n",
       "    <tr>\n",
       "      <th>Paint_Type_Uni/basic</th>\n",
       "      <td>0.0</td>\n",
       "      <td>0.0</td>\n",
       "      <td>0.0</td>\n",
       "      <td>0.0</td>\n",
       "      <td>0.0</td>\n",
       "      <td>0.0</td>\n",
       "      <td>0.0</td>\n",
       "      <td>0.0</td>\n",
       "      <td>0.0</td>\n",
       "      <td>0.0</td>\n",
       "    </tr>\n",
       "    <tr>\n",
       "      <th>Upholstery_type_Part/Full Leather</th>\n",
       "      <td>0.0</td>\n",
       "      <td>0.0</td>\n",
       "      <td>0.0</td>\n",
       "      <td>0.0</td>\n",
       "      <td>0.0</td>\n",
       "      <td>1.0</td>\n",
       "      <td>1.0</td>\n",
       "      <td>0.0</td>\n",
       "      <td>0.0</td>\n",
       "      <td>0.0</td>\n",
       "    </tr>\n",
       "    <tr>\n",
       "      <th>Gearing_Type_Manual</th>\n",
       "      <td>0.0</td>\n",
       "      <td>0.0</td>\n",
       "      <td>0.0</td>\n",
       "      <td>0.0</td>\n",
       "      <td>0.0</td>\n",
       "      <td>0.0</td>\n",
       "      <td>0.0</td>\n",
       "      <td>0.0</td>\n",
       "      <td>0.0</td>\n",
       "      <td>0.0</td>\n",
       "    </tr>\n",
       "    <tr>\n",
       "      <th>Gearing_Type_Semi-automatic</th>\n",
       "      <td>0.0</td>\n",
       "      <td>0.0</td>\n",
       "      <td>0.0</td>\n",
       "      <td>0.0</td>\n",
       "      <td>0.0</td>\n",
       "      <td>0.0</td>\n",
       "      <td>0.0</td>\n",
       "      <td>0.0</td>\n",
       "      <td>0.0</td>\n",
       "      <td>0.0</td>\n",
       "    </tr>\n",
       "    <tr>\n",
       "      <th>Drive_chain_front</th>\n",
       "      <td>1.0</td>\n",
       "      <td>1.0</td>\n",
       "      <td>1.0</td>\n",
       "      <td>1.0</td>\n",
       "      <td>1.0</td>\n",
       "      <td>1.0</td>\n",
       "      <td>1.0</td>\n",
       "      <td>1.0</td>\n",
       "      <td>1.0</td>\n",
       "      <td>1.0</td>\n",
       "    </tr>\n",
       "  </tbody>\n",
       "</table>\n",
       "</div>"
      ],
      "text/plain": [
       "                                         0        1        2        3  \\\n",
       "price                              15770.0  14500.0  14640.0  14500.0   \n",
       "km                                 56013.0  80000.0  83450.0  73000.0   \n",
       "Gears                                  7.0      7.0      7.0      6.0   \n",
       "age                                    3.0      2.0      3.0      3.0   \n",
       "Previous_Owners                        2.0      1.0      1.0      1.0   \n",
       "hp_kW                                 66.0    141.0     85.0     66.0   \n",
       "Inspection_new                         1.0      0.0      0.0      0.0   \n",
       "Displacement_cc                     1422.0   1798.0   1598.0   1422.0   \n",
       "Weight_kg                           1220.0   1255.0   1135.0   1195.0   \n",
       "cons_comb                              3.8      5.6      3.8      3.8   \n",
       "make_model_Audi A3                     0.0      0.0      0.0      0.0   \n",
       "make_model_Opel Astra                  0.0      0.0      0.0      0.0   \n",
       "make_model_Opel Corsa                  0.0      0.0      0.0      0.0   \n",
       "make_model_Opel Insignia               0.0      0.0      0.0      0.0   \n",
       "make_model_Renault Clio                0.0      0.0      0.0      0.0   \n",
       "make_model_Renault Duster              0.0      0.0      0.0      0.0   \n",
       "make_model_Renault Espace              0.0      0.0      0.0      0.0   \n",
       "body_type_Coupe                        0.0      0.0      0.0      0.0   \n",
       "body_type_Off-Road                     0.0      0.0      0.0      0.0   \n",
       "body_type_Sedans                       1.0      1.0      1.0      1.0   \n",
       "body_type_Station wagon                0.0      0.0      0.0      0.0   \n",
       "body_type_Transporter                  0.0      0.0      0.0      0.0   \n",
       "body_type_Van                          0.0      0.0      0.0      0.0   \n",
       "vat_VAT deductible                     1.0      0.0      1.0      1.0   \n",
       "Type_Employee's car                    0.0      0.0      0.0      0.0   \n",
       "Type_New                               0.0      0.0      0.0      0.0   \n",
       "Type_Pre-registered                    0.0      0.0      0.0      0.0   \n",
       "Type_Used                              1.0      1.0      1.0      1.0   \n",
       "Fuel_Diesel                            1.0      0.0      1.0      1.0   \n",
       "Fuel_LPG/CNG                           0.0      0.0      0.0      0.0   \n",
       "Paint_Type_Perl effect                 0.0      0.0      0.0      0.0   \n",
       "Paint_Type_Uni/basic                   0.0      0.0      0.0      0.0   \n",
       "Upholstery_type_Part/Full Leather      0.0      0.0      0.0      0.0   \n",
       "Gearing_Type_Manual                    0.0      0.0      0.0      0.0   \n",
       "Gearing_Type_Semi-automatic            0.0      0.0      0.0      0.0   \n",
       "Drive_chain_front                      1.0      1.0      1.0      1.0   \n",
       "\n",
       "                                         4        5        6        7  \\\n",
       "price                              16790.0  15090.0  16422.0  14480.0   \n",
       "km                                 16200.0  63668.0  62111.0  14986.0   \n",
       "Gears                                  7.0      7.0      7.0      7.0   \n",
       "age                                    3.0      3.0      3.0      3.0   \n",
       "Previous_Owners                        1.0      1.0      1.0      1.0   \n",
       "hp_kW                                 66.0     85.0     85.0     66.0   \n",
       "Inspection_new                         1.0      0.0      1.0      1.0   \n",
       "Displacement_cc                     1422.0   1598.0   1598.0   1422.0   \n",
       "Weight_kg                           1135.0   1135.0   1195.0   1180.0   \n",
       "cons_comb                              4.1      3.5      3.7      3.7   \n",
       "make_model_Audi A3                     0.0      0.0      0.0      0.0   \n",
       "make_model_Opel Astra                  0.0      0.0      0.0      0.0   \n",
       "make_model_Opel Corsa                  0.0      0.0      0.0      0.0   \n",
       "make_model_Opel Insignia               0.0      0.0      0.0      0.0   \n",
       "make_model_Renault Clio                0.0      0.0      0.0      0.0   \n",
       "make_model_Renault Duster              0.0      0.0      0.0      0.0   \n",
       "make_model_Renault Espace              0.0      0.0      0.0      0.0   \n",
       "body_type_Coupe                        0.0      0.0      0.0      0.0   \n",
       "body_type_Off-Road                     0.0      0.0      0.0      0.0   \n",
       "body_type_Sedans                       1.0      1.0      0.0      0.0   \n",
       "body_type_Station wagon                0.0      0.0      1.0      0.0   \n",
       "body_type_Transporter                  0.0      0.0      0.0      0.0   \n",
       "body_type_Van                          0.0      0.0      0.0      0.0   \n",
       "vat_VAT deductible                     1.0      1.0      1.0      1.0   \n",
       "Type_Employee's car                    0.0      0.0      0.0      0.0   \n",
       "Type_New                               0.0      0.0      0.0      0.0   \n",
       "Type_Pre-registered                    0.0      0.0      0.0      0.0   \n",
       "Type_Used                              1.0      1.0      1.0      1.0   \n",
       "Fuel_Diesel                            1.0      1.0      1.0      1.0   \n",
       "Fuel_LPG/CNG                           0.0      0.0      0.0      0.0   \n",
       "Paint_Type_Perl effect                 0.0      0.0      0.0      0.0   \n",
       "Paint_Type_Uni/basic                   0.0      0.0      0.0      0.0   \n",
       "Upholstery_type_Part/Full Leather      0.0      1.0      1.0      0.0   \n",
       "Gearing_Type_Manual                    0.0      0.0      0.0      0.0   \n",
       "Gearing_Type_Semi-automatic            0.0      0.0      0.0      0.0   \n",
       "Drive_chain_front                      1.0      1.0      1.0      1.0   \n",
       "\n",
       "                                         8        9  \n",
       "price                              16700.0  17990.0  \n",
       "km                                 57000.0  16103.0  \n",
       "Gears                                  7.0      7.0  \n",
       "age                                    3.0      2.0  \n",
       "Previous_Owners                        1.0      1.0  \n",
       "hp_kW                                 85.0     70.0  \n",
       "Inspection_new                         0.0      0.0  \n",
       "Displacement_cc                     1598.0    999.0  \n",
       "Weight_kg                           1275.0   1135.0  \n",
       "cons_comb                              3.7      4.2  \n",
       "make_model_Audi A3                     0.0      0.0  \n",
       "make_model_Opel Astra                  0.0      0.0  \n",
       "make_model_Opel Corsa                  0.0      0.0  \n",
       "make_model_Opel Insignia               0.0      0.0  \n",
       "make_model_Renault Clio                0.0      0.0  \n",
       "make_model_Renault Duster              0.0      0.0  \n",
       "make_model_Renault Espace              0.0      0.0  \n",
       "body_type_Coupe                        0.0      0.0  \n",
       "body_type_Off-Road                     0.0      0.0  \n",
       "body_type_Sedans                       1.0      1.0  \n",
       "body_type_Station wagon                0.0      0.0  \n",
       "body_type_Transporter                  0.0      0.0  \n",
       "body_type_Van                          0.0      0.0  \n",
       "vat_VAT deductible                     1.0      1.0  \n",
       "Type_Employee's car                    0.0      0.0  \n",
       "Type_New                               0.0      0.0  \n",
       "Type_Pre-registered                    0.0      0.0  \n",
       "Type_Used                              1.0      1.0  \n",
       "Fuel_Diesel                            1.0      0.0  \n",
       "Fuel_LPG/CNG                           0.0      0.0  \n",
       "Paint_Type_Perl effect                 0.0      0.0  \n",
       "Paint_Type_Uni/basic                   0.0      0.0  \n",
       "Upholstery_type_Part/Full Leather      0.0      0.0  \n",
       "Gearing_Type_Manual                    0.0      0.0  \n",
       "Gearing_Type_Semi-automatic            0.0      0.0  \n",
       "Drive_chain_front                      1.0      1.0  "
      ]
     },
     "execution_count": 125,
     "metadata": {},
     "output_type": "execute_result"
    }
   ],
   "source": [
    "df.head(10).T"
   ]
  },
  {
   "cell_type": "code",
   "execution_count": 126,
   "id": "1c74391a",
   "metadata": {},
   "outputs": [],
   "source": [
    "df2=pd.get_dummies(df) "
   ]
  },
  {
   "cell_type": "code",
   "execution_count": 127,
   "id": "88956385",
   "metadata": {},
   "outputs": [
    {
     "data": {
      "text/plain": [
       "(15895, 36)"
      ]
     },
     "execution_count": 127,
     "metadata": {},
     "output_type": "execute_result"
    }
   ],
   "source": [
    "df2.shape"
   ]
  },
  {
   "cell_type": "code",
   "execution_count": 128,
   "id": "0adf37ff",
   "metadata": {},
   "outputs": [
    {
     "data": {
      "text/plain": [
       "(15895, 36)"
      ]
     },
     "execution_count": 128,
     "metadata": {},
     "output_type": "execute_result"
    }
   ],
   "source": [
    "df.shape"
   ]
  },
  {
   "cell_type": "code",
   "execution_count": 129,
   "id": "2b4a60df",
   "metadata": {},
   "outputs": [],
   "source": [
    "y = df.price"
   ]
  },
  {
   "cell_type": "code",
   "execution_count": 130,
   "id": "6c2d6565",
   "metadata": {},
   "outputs": [],
   "source": [
    "X=df.drop(\"price\",axis=1)"
   ]
  },
  {
   "cell_type": "code",
   "execution_count": 131,
   "id": "07f339bc",
   "metadata": {},
   "outputs": [],
   "source": [
    "X_train, X_test, y_train, y_test = train_test_split(X, y, test_size=0.3, random_state=101)"
   ]
  },
  {
   "cell_type": "code",
   "execution_count": null,
   "id": "4dde5e8e",
   "metadata": {},
   "outputs": [],
   "source": []
  },
  {
   "cell_type": "code",
   "execution_count": 132,
   "id": "3ed197b4",
   "metadata": {},
   "outputs": [],
   "source": [
    "lm=LinearRegression().fit(X_train, y_train)"
   ]
  },
  {
   "cell_type": "code",
   "execution_count": 133,
   "id": "7597d9f5",
   "metadata": {},
   "outputs": [
    {
     "data": {
      "text/plain": [
       "array([-3.56551542e-02,  6.56891532e+02, -1.75129829e+03,  2.41637509e+02,\n",
       "        1.03796269e+02, -2.16029702e+02, -9.24963003e-01, -1.29950181e+00,\n",
       "        2.90800342e+02,  1.06674439e+03, -3.98966076e+03, -5.39497876e+03,\n",
       "       -1.40329176e+03, -5.54909939e+03, -1.00194638e+04,  3.56951379e+03,\n",
       "       -5.77032573e+02, -3.28274983e+02,  9.04777547e+01,  3.33004399e+02,\n",
       "       -8.43189849e+02,  1.97889749e+03,  3.81617207e+02, -3.65763847e+03,\n",
       "       -1.36623737e+03, -2.96785944e+03, -3.34599658e+03,  1.15678466e+03,\n",
       "        5.16355122e+02,  2.05577258e+03,  1.12615481e+02,  8.78235656e+02,\n",
       "       -1.53179522e+03,  2.73658602e+03, -2.01236097e+03])"
      ]
     },
     "execution_count": 133,
     "metadata": {},
     "output_type": "execute_result"
    }
   ],
   "source": [
    "lm.coef_"
   ]
  },
  {
   "cell_type": "code",
   "execution_count": 134,
   "id": "9108216d",
   "metadata": {},
   "outputs": [],
   "source": [
    "y_pred = lm.predict(X_test)"
   ]
  },
  {
   "cell_type": "code",
   "execution_count": 135,
   "id": "6bbe6da5",
   "metadata": {},
   "outputs": [],
   "source": [
    "def eval_metrics(actual, pred):\n",
    "    mae = mean_absolute_error(actual, pred)\n",
    "    mse = mean_squared_error(actual, pred)\n",
    "    rmse = np.sqrt(mean_squared_error(actual, pred))\n",
    "    R2_score = r2_score(actual, pred)\n",
    "    print(\"Model testing performance:\")\n",
    "    print(\"--------------------------\")\n",
    "    print(f\"R2_score \\t: {R2_score}\")\n",
    "    print(f\"MAE \\t\\t: {mae}\")\n",
    "    print(f\"MSE \\t\\t: {mse}\")\n",
    "    print(f\"RMSE \\t\\t: {rmse}\")"
   ]
  },
  {
   "cell_type": "code",
   "execution_count": 136,
   "id": "ed84350e",
   "metadata": {},
   "outputs": [
    {
     "name": "stdout",
     "output_type": "stream",
     "text": [
      "Model testing performance:\n",
      "--------------------------\n",
      "R2_score \t: 0.8645992492007557\n",
      "MAE \t\t: 1883.1035861537728\n",
      "MSE \t\t: 7305339.728508112\n",
      "RMSE \t\t: 2702.8391976786397\n"
     ]
    }
   ],
   "source": [
    "eval_metrics(y_test, y_pred)"
   ]
  },
  {
   "cell_type": "code",
   "execution_count": 137,
   "id": "249e4048",
   "metadata": {},
   "outputs": [
    {
     "data": {
      "text/plain": [
       "0.8685317557047424"
      ]
     },
     "execution_count": 137,
     "metadata": {},
     "output_type": "execute_result"
    }
   ],
   "source": [
    "lm.score(X_train,y_train)"
   ]
  },
  {
   "cell_type": "code",
   "execution_count": null,
   "id": "23e34ea4",
   "metadata": {},
   "outputs": [],
   "source": []
  },
  {
   "cell_type": "code",
   "execution_count": 138,
   "id": "b091d0ed",
   "metadata": {},
   "outputs": [],
   "source": [
    "rm=Ridge().fit(X_train,y_train)"
   ]
  },
  {
   "cell_type": "code",
   "execution_count": 139,
   "id": "c00572c4",
   "metadata": {},
   "outputs": [],
   "source": [
    "y_pred = rm.predict(X_test)"
   ]
  },
  {
   "cell_type": "code",
   "execution_count": 140,
   "id": "5ebbbb3b",
   "metadata": {},
   "outputs": [
    {
     "name": "stdout",
     "output_type": "stream",
     "text": [
      "Model testing performance:\n",
      "--------------------------\n",
      "R2_score \t: 0.8644249852334516\n",
      "MAE \t\t: 1883.8872807362638\n",
      "MSE \t\t: 7314741.87344512\n",
      "RMSE \t\t: 2704.5779473783186\n"
     ]
    }
   ],
   "source": [
    "eval_metrics(y_test, y_pred)"
   ]
  },
  {
   "cell_type": "code",
   "execution_count": null,
   "id": "68a05da7",
   "metadata": {},
   "outputs": [],
   "source": []
  },
  {
   "cell_type": "code",
   "execution_count": 141,
   "id": "bbd283f9",
   "metadata": {},
   "outputs": [],
   "source": [
    "ls=Lasso().fit(X_train,y_train)"
   ]
  },
  {
   "cell_type": "code",
   "execution_count": 142,
   "id": "d8dca547",
   "metadata": {},
   "outputs": [],
   "source": [
    "y_pred = ls.predict(X_test)"
   ]
  },
  {
   "cell_type": "code",
   "execution_count": 143,
   "id": "e40f7de2",
   "metadata": {},
   "outputs": [
    {
     "name": "stdout",
     "output_type": "stream",
     "text": [
      "Model testing performance:\n",
      "--------------------------\n",
      "R2_score \t: 0.8643093743590082\n",
      "MAE \t\t: 1884.5446699388626\n",
      "MSE \t\t: 7320979.480763646\n",
      "RMSE \t\t: 2705.7308588925926\n"
     ]
    }
   ],
   "source": [
    "eval_metrics(y_test, y_pred)"
   ]
  },
  {
   "cell_type": "code",
   "execution_count": 144,
   "id": "ccf72624",
   "metadata": {},
   "outputs": [
    {
     "data": {
      "text/plain": [
       "0.8684695095654453"
      ]
     },
     "execution_count": 144,
     "metadata": {},
     "output_type": "execute_result"
    }
   ],
   "source": [
    "ls.score(X_train,y_train)"
   ]
  },
  {
   "cell_type": "code",
   "execution_count": 145,
   "id": "4fb3d59b",
   "metadata": {},
   "outputs": [
    {
     "data": {
      "text/plain": [
       "array([-3.56499321e-02,  6.67070058e+02, -1.75039585e+03,  2.47955884e+02,\n",
       "        1.04690810e+02, -2.07097658e+02, -9.75564870e-01, -1.27897783e+00,\n",
       "        2.82691495e+02,  1.07996695e+03, -3.96061554e+03, -5.33301525e+03,\n",
       "       -1.37344277e+03, -5.49549571e+03, -9.19472342e+03,  3.51115263e+03,\n",
       "       -0.00000000e+00, -2.95301224e+02,  9.08525491e+01,  3.19388329e+02,\n",
       "       -6.16769044e+02,  2.02470794e+03,  3.46140074e+02, -3.55572023e+03,\n",
       "       -1.27551872e+03, -2.86671422e+03, -3.26475611e+03,  1.16336563e+03,\n",
       "        2.44532043e+02,  1.45582478e+03,  4.82956137e+01,  8.76295219e+02,\n",
       "       -1.52222458e+03,  2.68658269e+03, -1.79382559e+03])"
      ]
     },
     "execution_count": 145,
     "metadata": {},
     "output_type": "execute_result"
    }
   ],
   "source": [
    "ls.coef_"
   ]
  },
  {
   "cell_type": "code",
   "execution_count": null,
   "id": "574b107f",
   "metadata": {},
   "outputs": [],
   "source": []
  },
  {
   "cell_type": "code",
   "execution_count": null,
   "id": "b81b87cb",
   "metadata": {},
   "outputs": [],
   "source": []
  },
  {
   "cell_type": "code",
   "execution_count": null,
   "id": "02221476",
   "metadata": {},
   "outputs": [],
   "source": []
  },
  {
   "cell_type": "code",
   "execution_count": null,
   "id": "ac12c918",
   "metadata": {},
   "outputs": [],
   "source": []
  },
  {
   "cell_type": "code",
   "execution_count": null,
   "id": "64bfd9f0",
   "metadata": {},
   "outputs": [],
   "source": []
  }
 ],
 "metadata": {
  "kernelspec": {
   "display_name": "Python 3",
   "language": "python",
   "name": "python3"
  },
  "language_info": {
   "codemirror_mode": {
    "name": "ipython",
    "version": 3
   },
   "file_extension": ".py",
   "mimetype": "text/x-python",
   "name": "python",
   "nbconvert_exporter": "python",
   "pygments_lexer": "ipython3",
   "version": "3.8.8"
  }
 },
 "nbformat": 4,
 "nbformat_minor": 5
}
