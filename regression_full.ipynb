{
 "cells": [
  {
   "cell_type": "code",
   "execution_count": 1,
   "id": "threaded-frank",
   "metadata": {},
   "outputs": [],
   "source": [
    "import pandas as pd\n",
    "import numpy as np\n",
    "import matplotlib.pyplot as plt\n",
    "import seaborn as sns"
   ]
  },
  {
   "cell_type": "code",
   "execution_count": 2,
   "id": "resident-berkeley",
   "metadata": {},
   "outputs": [
    {
     "data": {
      "text/html": [
       "<div>\n",
       "<style scoped>\n",
       "    .dataframe tbody tr th:only-of-type {\n",
       "        vertical-align: middle;\n",
       "    }\n",
       "\n",
       "    .dataframe tbody tr th {\n",
       "        vertical-align: top;\n",
       "    }\n",
       "\n",
       "    .dataframe thead th {\n",
       "        text-align: right;\n",
       "    }\n",
       "</style>\n",
       "<table border=\"1\" class=\"dataframe\">\n",
       "  <thead>\n",
       "    <tr style=\"text-align: right;\">\n",
       "      <th></th>\n",
       "      <th>Car_Name</th>\n",
       "      <th>Year</th>\n",
       "      <th>Selling_Price</th>\n",
       "      <th>Present_Price</th>\n",
       "      <th>Kms_Driven</th>\n",
       "      <th>Fuel_Type</th>\n",
       "      <th>Seller_Type</th>\n",
       "      <th>Transmission</th>\n",
       "      <th>Owner</th>\n",
       "    </tr>\n",
       "  </thead>\n",
       "  <tbody>\n",
       "    <tr>\n",
       "      <th>0</th>\n",
       "      <td>ritz</td>\n",
       "      <td>2014</td>\n",
       "      <td>3.35</td>\n",
       "      <td>5.59</td>\n",
       "      <td>27000</td>\n",
       "      <td>Petrol</td>\n",
       "      <td>Dealer</td>\n",
       "      <td>Manual</td>\n",
       "      <td>0</td>\n",
       "    </tr>\n",
       "    <tr>\n",
       "      <th>1</th>\n",
       "      <td>sx4</td>\n",
       "      <td>2013</td>\n",
       "      <td>4.75</td>\n",
       "      <td>9.54</td>\n",
       "      <td>43000</td>\n",
       "      <td>Diesel</td>\n",
       "      <td>Dealer</td>\n",
       "      <td>Manual</td>\n",
       "      <td>0</td>\n",
       "    </tr>\n",
       "    <tr>\n",
       "      <th>2</th>\n",
       "      <td>ciaz</td>\n",
       "      <td>2017</td>\n",
       "      <td>7.25</td>\n",
       "      <td>9.85</td>\n",
       "      <td>6900</td>\n",
       "      <td>Petrol</td>\n",
       "      <td>Dealer</td>\n",
       "      <td>Manual</td>\n",
       "      <td>0</td>\n",
       "    </tr>\n",
       "    <tr>\n",
       "      <th>3</th>\n",
       "      <td>wagon r</td>\n",
       "      <td>2011</td>\n",
       "      <td>2.85</td>\n",
       "      <td>4.15</td>\n",
       "      <td>5200</td>\n",
       "      <td>Petrol</td>\n",
       "      <td>Dealer</td>\n",
       "      <td>Manual</td>\n",
       "      <td>0</td>\n",
       "    </tr>\n",
       "    <tr>\n",
       "      <th>4</th>\n",
       "      <td>swift</td>\n",
       "      <td>2014</td>\n",
       "      <td>4.60</td>\n",
       "      <td>6.87</td>\n",
       "      <td>42450</td>\n",
       "      <td>Diesel</td>\n",
       "      <td>Dealer</td>\n",
       "      <td>Manual</td>\n",
       "      <td>0</td>\n",
       "    </tr>\n",
       "  </tbody>\n",
       "</table>\n",
       "</div>"
      ],
      "text/plain": [
       "  Car_Name  Year  Selling_Price  Present_Price  Kms_Driven Fuel_Type  \\\n",
       "0     ritz  2014           3.35           5.59       27000    Petrol   \n",
       "1      sx4  2013           4.75           9.54       43000    Diesel   \n",
       "2     ciaz  2017           7.25           9.85        6900    Petrol   \n",
       "3  wagon r  2011           2.85           4.15        5200    Petrol   \n",
       "4    swift  2014           4.60           6.87       42450    Diesel   \n",
       "\n",
       "  Seller_Type Transmission  Owner  \n",
       "0      Dealer       Manual      0  \n",
       "1      Dealer       Manual      0  \n",
       "2      Dealer       Manual      0  \n",
       "3      Dealer       Manual      0  \n",
       "4      Dealer       Manual      0  "
      ]
     },
     "execution_count": 2,
     "metadata": {},
     "output_type": "execute_result"
    }
   ],
   "source": [
    "df=pd.read_csv(\"../data/car_dataset.csv\")\n",
    "df.head()"
   ]
  },
  {
   "cell_type": "code",
   "execution_count": 3,
   "id": "improved-destruction",
   "metadata": {},
   "outputs": [
    {
     "data": {
      "text/plain": [
       "(301, 9)"
      ]
     },
     "execution_count": 3,
     "metadata": {},
     "output_type": "execute_result"
    }
   ],
   "source": [
    "df.shape"
   ]
  },
  {
   "cell_type": "code",
   "execution_count": 4,
   "id": "available-berkeley",
   "metadata": {},
   "outputs": [
    {
     "name": "stdout",
     "output_type": "stream",
     "text": [
      "<class 'pandas.core.frame.DataFrame'>\n",
      "RangeIndex: 301 entries, 0 to 300\n",
      "Data columns (total 9 columns):\n",
      " #   Column         Non-Null Count  Dtype  \n",
      "---  ------         --------------  -----  \n",
      " 0   Car_Name       301 non-null    object \n",
      " 1   Year           301 non-null    int64  \n",
      " 2   Selling_Price  301 non-null    float64\n",
      " 3   Present_Price  301 non-null    float64\n",
      " 4   Kms_Driven     301 non-null    int64  \n",
      " 5   Fuel_Type      301 non-null    object \n",
      " 6   Seller_Type    301 non-null    object \n",
      " 7   Transmission   301 non-null    object \n",
      " 8   Owner          301 non-null    int64  \n",
      "dtypes: float64(2), int64(3), object(4)\n",
      "memory usage: 21.3+ KB\n"
     ]
    }
   ],
   "source": [
    "df.info()"
   ]
  },
  {
   "cell_type": "code",
   "execution_count": 5,
   "id": "extended-maximum",
   "metadata": {},
   "outputs": [
    {
     "data": {
      "text/plain": [
       "Car_Name         False\n",
       "Year             False\n",
       "Selling_Price    False\n",
       "Present_Price    False\n",
       "Kms_Driven       False\n",
       "Fuel_Type        False\n",
       "Seller_Type      False\n",
       "Transmission     False\n",
       "Owner            False\n",
       "dtype: bool"
      ]
     },
     "execution_count": 5,
     "metadata": {},
     "output_type": "execute_result"
    }
   ],
   "source": [
    "df.isnull().any()"
   ]
  },
  {
   "cell_type": "code",
   "execution_count": 6,
   "id": "5be230e9-bf9b-474a-afe8-4c1306b74573",
   "metadata": {},
   "outputs": [
    {
     "data": {
      "text/plain": [
       "2"
      ]
     },
     "execution_count": 6,
     "metadata": {},
     "output_type": "execute_result"
    }
   ],
   "source": [
    "df.duplicated().sum()"
   ]
  },
  {
   "cell_type": "code",
   "execution_count": 7,
   "id": "efe239ce-6357-434b-b575-50bebd44f5bb",
   "metadata": {},
   "outputs": [
    {
     "data": {
      "text/html": [
       "<div>\n",
       "<style scoped>\n",
       "    .dataframe tbody tr th:only-of-type {\n",
       "        vertical-align: middle;\n",
       "    }\n",
       "\n",
       "    .dataframe tbody tr th {\n",
       "        vertical-align: top;\n",
       "    }\n",
       "\n",
       "    .dataframe thead th {\n",
       "        text-align: right;\n",
       "    }\n",
       "</style>\n",
       "<table border=\"1\" class=\"dataframe\">\n",
       "  <thead>\n",
       "    <tr style=\"text-align: right;\">\n",
       "      <th></th>\n",
       "      <th>Car_Name</th>\n",
       "      <th>Year</th>\n",
       "      <th>Selling_Price</th>\n",
       "      <th>Present_Price</th>\n",
       "      <th>Kms_Driven</th>\n",
       "      <th>Fuel_Type</th>\n",
       "      <th>Seller_Type</th>\n",
       "      <th>Transmission</th>\n",
       "      <th>Owner</th>\n",
       "    </tr>\n",
       "  </thead>\n",
       "  <tbody>\n",
       "    <tr>\n",
       "      <th>17</th>\n",
       "      <td>ertiga</td>\n",
       "      <td>2016</td>\n",
       "      <td>7.75</td>\n",
       "      <td>10.79</td>\n",
       "      <td>43000</td>\n",
       "      <td>Diesel</td>\n",
       "      <td>Dealer</td>\n",
       "      <td>Manual</td>\n",
       "      <td>0</td>\n",
       "    </tr>\n",
       "    <tr>\n",
       "      <th>93</th>\n",
       "      <td>fortuner</td>\n",
       "      <td>2015</td>\n",
       "      <td>23.00</td>\n",
       "      <td>30.61</td>\n",
       "      <td>40000</td>\n",
       "      <td>Diesel</td>\n",
       "      <td>Dealer</td>\n",
       "      <td>Automatic</td>\n",
       "      <td>0</td>\n",
       "    </tr>\n",
       "  </tbody>\n",
       "</table>\n",
       "</div>"
      ],
      "text/plain": [
       "    Car_Name  Year  Selling_Price  Present_Price  Kms_Driven Fuel_Type  \\\n",
       "17    ertiga  2016           7.75          10.79       43000    Diesel   \n",
       "93  fortuner  2015          23.00          30.61       40000    Diesel   \n",
       "\n",
       "   Seller_Type Transmission  Owner  \n",
       "17      Dealer       Manual      0  \n",
       "93      Dealer    Automatic      0  "
      ]
     },
     "execution_count": 7,
     "metadata": {},
     "output_type": "execute_result"
    }
   ],
   "source": [
    "df[df.duplicated()]"
   ]
  },
  {
   "cell_type": "code",
   "execution_count": 8,
   "id": "bee0389c-bc35-4ac6-9b5c-bb03b8e94cc0",
   "metadata": {},
   "outputs": [],
   "source": [
    "df.drop_duplicates(inplace=True)"
   ]
  },
  {
   "cell_type": "code",
   "execution_count": 9,
   "id": "iraqi-invitation",
   "metadata": {},
   "outputs": [
    {
     "data": {
      "text/html": [
       "<div>\n",
       "<style scoped>\n",
       "    .dataframe tbody tr th:only-of-type {\n",
       "        vertical-align: middle;\n",
       "    }\n",
       "\n",
       "    .dataframe tbody tr th {\n",
       "        vertical-align: top;\n",
       "    }\n",
       "\n",
       "    .dataframe thead th {\n",
       "        text-align: right;\n",
       "    }\n",
       "</style>\n",
       "<table border=\"1\" class=\"dataframe\">\n",
       "  <thead>\n",
       "    <tr style=\"text-align: right;\">\n",
       "      <th></th>\n",
       "      <th>count</th>\n",
       "      <th>mean</th>\n",
       "      <th>std</th>\n",
       "      <th>min</th>\n",
       "      <th>25%</th>\n",
       "      <th>50%</th>\n",
       "      <th>75%</th>\n",
       "      <th>max</th>\n",
       "    </tr>\n",
       "  </thead>\n",
       "  <tbody>\n",
       "    <tr>\n",
       "      <th>Year</th>\n",
       "      <td>299.0</td>\n",
       "      <td>2013.615385</td>\n",
       "      <td>2.896868</td>\n",
       "      <td>2003.00</td>\n",
       "      <td>2012.00</td>\n",
       "      <td>2014.00</td>\n",
       "      <td>2016.00</td>\n",
       "      <td>2018.0</td>\n",
       "    </tr>\n",
       "    <tr>\n",
       "      <th>Selling_Price</th>\n",
       "      <td>299.0</td>\n",
       "      <td>4.589632</td>\n",
       "      <td>4.984240</td>\n",
       "      <td>0.10</td>\n",
       "      <td>0.85</td>\n",
       "      <td>3.51</td>\n",
       "      <td>6.00</td>\n",
       "      <td>35.0</td>\n",
       "    </tr>\n",
       "    <tr>\n",
       "      <th>Present_Price</th>\n",
       "      <td>299.0</td>\n",
       "      <td>7.541037</td>\n",
       "      <td>8.567887</td>\n",
       "      <td>0.32</td>\n",
       "      <td>1.20</td>\n",
       "      <td>6.10</td>\n",
       "      <td>9.84</td>\n",
       "      <td>92.6</td>\n",
       "    </tr>\n",
       "    <tr>\n",
       "      <th>Kms_Driven</th>\n",
       "      <td>299.0</td>\n",
       "      <td>36916.752508</td>\n",
       "      <td>39015.170352</td>\n",
       "      <td>500.00</td>\n",
       "      <td>15000.00</td>\n",
       "      <td>32000.00</td>\n",
       "      <td>48883.50</td>\n",
       "      <td>500000.0</td>\n",
       "    </tr>\n",
       "    <tr>\n",
       "      <th>Owner</th>\n",
       "      <td>299.0</td>\n",
       "      <td>0.043478</td>\n",
       "      <td>0.248720</td>\n",
       "      <td>0.00</td>\n",
       "      <td>0.00</td>\n",
       "      <td>0.00</td>\n",
       "      <td>0.00</td>\n",
       "      <td>3.0</td>\n",
       "    </tr>\n",
       "  </tbody>\n",
       "</table>\n",
       "</div>"
      ],
      "text/plain": [
       "               count          mean           std      min       25%       50%  \\\n",
       "Year           299.0   2013.615385      2.896868  2003.00   2012.00   2014.00   \n",
       "Selling_Price  299.0      4.589632      4.984240     0.10      0.85      3.51   \n",
       "Present_Price  299.0      7.541037      8.567887     0.32      1.20      6.10   \n",
       "Kms_Driven     299.0  36916.752508  39015.170352   500.00  15000.00  32000.00   \n",
       "Owner          299.0      0.043478      0.248720     0.00      0.00      0.00   \n",
       "\n",
       "                    75%       max  \n",
       "Year            2016.00    2018.0  \n",
       "Selling_Price      6.00      35.0  \n",
       "Present_Price      9.84      92.6  \n",
       "Kms_Driven     48883.50  500000.0  \n",
       "Owner              0.00       3.0  "
      ]
     },
     "execution_count": 9,
     "metadata": {},
     "output_type": "execute_result"
    }
   ],
   "source": [
    "df.describe().T"
   ]
  },
  {
   "cell_type": "code",
   "execution_count": 10,
   "id": "global-guess",
   "metadata": {},
   "outputs": [
    {
     "data": {
      "image/png": "[encoded data removed]",
      "text/plain": [
       "<Figure size 432x288 with 1 Axes>"
      ]
     },
     "metadata": {
      "needs_background": "light"
     },
     "output_type": "display_data"
    },
    {
     "data": {
      "image/png": "[encoded data removed]",
      "text/plain": [
       "<Figure size 432x288 with 1 Axes>"
      ]
     },
     "metadata": {
      "needs_background": "light"
     },
     "output_type": "display_data"
    },
    {
     "data": {
      "image/png": "[encoded data removed]",
      "text/plain": [
       "<Figure size 432x288 with 1 Axes>"
      ]
     },
     "metadata": {
      "needs_background": "light"
     },
     "output_type": "display_data"
    },
    {
     "data": {
      "image/png": "[encoded data removed]",
      "text/plain": [
       "<Figure size 432x288 with 1 Axes>"
      ]
     },
     "metadata": {
      "needs_background": "light"
     },
     "output_type": "display_data"
    },
    {
     "data": {
      "image/png": "[encoded data removed]",
      "text/plain": [
       "<Figure size 432x288 with 1 Axes>"
      ]
     },
     "metadata": {
      "needs_background": "light"
     },
     "output_type": "display_data"
    },
    {
     "data": {
      "image/png": "[encoded data removed]",
      "text/plain": [
       "<Figure size 432x288 with 1 Axes>"
      ]
     },
     "metadata": {
      "needs_background": "light"
     },
     "output_type": "display_data"
    },
    {
     "data": {
      "image/png": "[encoded data removed]",
      "text/plain": [
       "<Figure size 432x288 with 1 Axes>"
      ]
     },
     "metadata": {
      "needs_background": "light"
     },
     "output_type": "display_data"
    },
    {
     "data": {
      "image/png": "[encoded data removed]",
      "text/plain": [
       "<Figure size 432x288 with 1 Axes>"
      ]
     },
     "metadata": {
      "needs_background": "light"
     },
     "output_type": "display_data"
    },
    {
     "data": {
      "image/png": "[encoded data removed]",
      "text/plain": [
       "<Figure size 432x288 with 1 Axes>"
      ]
     },
     "metadata": {
      "needs_background": "light"
     },
     "output_type": "display_data"
    }
   ],
   "source": [
    "for i,col in enumerate(df.columns):\n",
    "    plt.figure(i)\n",
    "    sns.histplot(df[col])"
   ]
  },
  {
   "cell_type": "code",
   "execution_count": 11,
   "id": "similar-metabolism",
   "metadata": {},
   "outputs": [
    {
     "data": {
      "image/png": "[encoded data removed]",
      "text/plain": [
       "<Figure size 720x432 with 2 Axes>"
      ]
     },
     "metadata": {
      "needs_background": "light"
     },
     "output_type": "display_data"
    }
   ],
   "source": [
    "plt.figure(figsize=(10, 6))\n",
    "sns.heatmap(df.corr(), annot=True)\n",
    "plt.show()"
   ]
  },
  {
   "cell_type": "code",
   "execution_count": 12,
   "id": "civil-footwear",
   "metadata": {},
   "outputs": [
    {
     "data": {
      "text/html": [
       "<div>\n",
       "<style scoped>\n",
       "    .dataframe tbody tr th:only-of-type {\n",
       "        vertical-align: middle;\n",
       "    }\n",
       "\n",
       "    .dataframe tbody tr th {\n",
       "        vertical-align: top;\n",
       "    }\n",
       "\n",
       "    .dataframe thead th {\n",
       "        text-align: right;\n",
       "    }\n",
       "</style>\n",
       "<table border=\"1\" class=\"dataframe\">\n",
       "  <thead>\n",
       "    <tr style=\"text-align: right;\">\n",
       "      <th></th>\n",
       "      <th>Car_Name</th>\n",
       "      <th>Year</th>\n",
       "      <th>Selling_Price</th>\n",
       "      <th>Present_Price</th>\n",
       "      <th>Kms_Driven</th>\n",
       "      <th>Fuel_Type</th>\n",
       "      <th>Seller_Type</th>\n",
       "      <th>Transmission</th>\n",
       "      <th>Owner</th>\n",
       "    </tr>\n",
       "  </thead>\n",
       "  <tbody>\n",
       "    <tr>\n",
       "      <th>0</th>\n",
       "      <td>ritz</td>\n",
       "      <td>2014</td>\n",
       "      <td>3.35</td>\n",
       "      <td>5.59</td>\n",
       "      <td>27000</td>\n",
       "      <td>Petrol</td>\n",
       "      <td>Dealer</td>\n",
       "      <td>Manual</td>\n",
       "      <td>0</td>\n",
       "    </tr>\n",
       "    <tr>\n",
       "      <th>1</th>\n",
       "      <td>sx4</td>\n",
       "      <td>2013</td>\n",
       "      <td>4.75</td>\n",
       "      <td>9.54</td>\n",
       "      <td>43000</td>\n",
       "      <td>Diesel</td>\n",
       "      <td>Dealer</td>\n",
       "      <td>Manual</td>\n",
       "      <td>0</td>\n",
       "    </tr>\n",
       "    <tr>\n",
       "      <th>2</th>\n",
       "      <td>ciaz</td>\n",
       "      <td>2017</td>\n",
       "      <td>7.25</td>\n",
       "      <td>9.85</td>\n",
       "      <td>6900</td>\n",
       "      <td>Petrol</td>\n",
       "      <td>Dealer</td>\n",
       "      <td>Manual</td>\n",
       "      <td>0</td>\n",
       "    </tr>\n",
       "    <tr>\n",
       "      <th>3</th>\n",
       "      <td>wagon r</td>\n",
       "      <td>2011</td>\n",
       "      <td>2.85</td>\n",
       "      <td>4.15</td>\n",
       "      <td>5200</td>\n",
       "      <td>Petrol</td>\n",
       "      <td>Dealer</td>\n",
       "      <td>Manual</td>\n",
       "      <td>0</td>\n",
       "    </tr>\n",
       "    <tr>\n",
       "      <th>4</th>\n",
       "      <td>swift</td>\n",
       "      <td>2014</td>\n",
       "      <td>4.60</td>\n",
       "      <td>6.87</td>\n",
       "      <td>42450</td>\n",
       "      <td>Diesel</td>\n",
       "      <td>Dealer</td>\n",
       "      <td>Manual</td>\n",
       "      <td>0</td>\n",
       "    </tr>\n",
       "  </tbody>\n",
       "</table>\n",
       "</div>"
      ],
      "text/plain": [
       "  Car_Name  Year  Selling_Price  Present_Price  Kms_Driven Fuel_Type  \\\n",
       "0     ritz  2014           3.35           5.59       27000    Petrol   \n",
       "1      sx4  2013           4.75           9.54       43000    Diesel   \n",
       "2     ciaz  2017           7.25           9.85        6900    Petrol   \n",
       "3  wagon r  2011           2.85           4.15        5200    Petrol   \n",
       "4    swift  2014           4.60           6.87       42450    Diesel   \n",
       "\n",
       "  Seller_Type Transmission  Owner  \n",
       "0      Dealer       Manual      0  \n",
       "1      Dealer       Manual      0  \n",
       "2      Dealer       Manual      0  \n",
       "3      Dealer       Manual      0  \n",
       "4      Dealer       Manual      0  "
      ]
     },
     "execution_count": 12,
     "metadata": {},
     "output_type": "execute_result"
    }
   ],
   "source": [
    "df.head()"
   ]
  },
  {
   "cell_type": "code",
   "execution_count": 13,
   "id": "attached-university",
   "metadata": {},
   "outputs": [],
   "source": [
    "df[\"vehicle_age\"]=2021-df.Year"
   ]
  },
  {
   "cell_type": "code",
   "execution_count": 14,
   "id": "invisible-partnership",
   "metadata": {},
   "outputs": [
    {
     "data": {
      "text/plain": [
       "city                        26\n",
       "corolla altis               16\n",
       "verna                       14\n",
       "brio                        10\n",
       "fortuner                    10\n",
       "                            ..\n",
       "Honda CB Trigger             1\n",
       "Yamaha FZ S                  1\n",
       "Bajaj Pulsar 135 LS          1\n",
       "Activa 4g                    1\n",
       "Bajaj Avenger Street 220     1\n",
       "Name: Car_Name, Length: 98, dtype: int64"
      ]
     },
     "execution_count": 14,
     "metadata": {},
     "output_type": "execute_result"
    }
   ],
   "source": [
    "df.Car_Name.value_counts()"
   ]
  },
  {
   "cell_type": "code",
   "execution_count": 15,
   "id": "private-retirement",
   "metadata": {},
   "outputs": [],
   "source": [
    "df.drop(columns=[\"Car_Name\", \"Year\"], inplace=True)"
   ]
  },
  {
   "cell_type": "code",
   "execution_count": 16,
   "id": "328d5942-f708-42c3-a768-e31ba61457f6",
   "metadata": {},
   "outputs": [
    {
     "data": {
      "text/plain": [
       "Petrol    239\n",
       "Diesel     58\n",
       "CNG         2\n",
       "Name: Fuel_Type, dtype: int64"
      ]
     },
     "execution_count": 16,
     "metadata": {},
     "output_type": "execute_result"
    }
   ],
   "source": [
    "df.Fuel_Type.value_counts()"
   ]
  },
  {
   "cell_type": "code",
   "execution_count": 17,
   "id": "c9c15a6e-1db5-4f89-86f0-cf328931e31e",
   "metadata": {},
   "outputs": [
    {
     "data": {
      "text/plain": [
       "Dealer        193\n",
       "Individual    106\n",
       "Name: Seller_Type, dtype: int64"
      ]
     },
     "execution_count": 17,
     "metadata": {},
     "output_type": "execute_result"
    }
   ],
   "source": [
    "df.Seller_Type.value_counts()"
   ]
  },
  {
   "cell_type": "code",
   "execution_count": 18,
   "id": "3ab33b43-d6eb-4c08-98c6-638dbf215c5f",
   "metadata": {},
   "outputs": [
    {
     "data": {
      "text/plain": [
       "Manual       260\n",
       "Automatic     39\n",
       "Name: Transmission, dtype: int64"
      ]
     },
     "execution_count": 18,
     "metadata": {},
     "output_type": "execute_result"
    }
   ],
   "source": [
    "df.Transmission.value_counts()"
   ]
  },
  {
   "cell_type": "code",
   "execution_count": 19,
   "id": "collective-cleaners",
   "metadata": {},
   "outputs": [],
   "source": [
    "df = pd.get_dummies(df, drop_first=True)"
   ]
  },
  {
   "cell_type": "code",
   "execution_count": 20,
   "id": "endless-attendance",
   "metadata": {},
   "outputs": [
    {
     "data": {
      "text/html": [
       "<div>\n",
       "<style scoped>\n",
       "    .dataframe tbody tr th:only-of-type {\n",
       "        vertical-align: middle;\n",
       "    }\n",
       "\n",
       "    .dataframe tbody tr th {\n",
       "        vertical-align: top;\n",
       "    }\n",
       "\n",
       "    .dataframe thead th {\n",
       "        text-align: right;\n",
       "    }\n",
       "</style>\n",
       "<table border=\"1\" class=\"dataframe\">\n",
       "  <thead>\n",
       "    <tr style=\"text-align: right;\">\n",
       "      <th></th>\n",
       "      <th>Selling_Price</th>\n",
       "      <th>Present_Price</th>\n",
       "      <th>Kms_Driven</th>\n",
       "      <th>Owner</th>\n",
       "      <th>vehicle_age</th>\n",
       "      <th>Fuel_Type_Diesel</th>\n",
       "      <th>Fuel_Type_Petrol</th>\n",
       "      <th>Seller_Type_Individual</th>\n",
       "      <th>Transmission_Manual</th>\n",
       "    </tr>\n",
       "  </thead>\n",
       "  <tbody>\n",
       "    <tr>\n",
       "      <th>0</th>\n",
       "      <td>3.35</td>\n",
       "      <td>5.59</td>\n",
       "      <td>27000</td>\n",
       "      <td>0</td>\n",
       "      <td>7</td>\n",
       "      <td>0</td>\n",
       "      <td>1</td>\n",
       "      <td>0</td>\n",
       "      <td>1</td>\n",
       "    </tr>\n",
       "    <tr>\n",
       "      <th>1</th>\n",
       "      <td>4.75</td>\n",
       "      <td>9.54</td>\n",
       "      <td>43000</td>\n",
       "      <td>0</td>\n",
       "      <td>8</td>\n",
       "      <td>1</td>\n",
       "      <td>0</td>\n",
       "      <td>0</td>\n",
       "      <td>1</td>\n",
       "    </tr>\n",
       "    <tr>\n",
       "      <th>2</th>\n",
       "      <td>7.25</td>\n",
       "      <td>9.85</td>\n",
       "      <td>6900</td>\n",
       "      <td>0</td>\n",
       "      <td>4</td>\n",
       "      <td>0</td>\n",
       "      <td>1</td>\n",
       "      <td>0</td>\n",
       "      <td>1</td>\n",
       "    </tr>\n",
       "    <tr>\n",
       "      <th>3</th>\n",
       "      <td>2.85</td>\n",
       "      <td>4.15</td>\n",
       "      <td>5200</td>\n",
       "      <td>0</td>\n",
       "      <td>10</td>\n",
       "      <td>0</td>\n",
       "      <td>1</td>\n",
       "      <td>0</td>\n",
       "      <td>1</td>\n",
       "    </tr>\n",
       "    <tr>\n",
       "      <th>4</th>\n",
       "      <td>4.60</td>\n",
       "      <td>6.87</td>\n",
       "      <td>42450</td>\n",
       "      <td>0</td>\n",
       "      <td>7</td>\n",
       "      <td>1</td>\n",
       "      <td>0</td>\n",
       "      <td>0</td>\n",
       "      <td>1</td>\n",
       "    </tr>\n",
       "  </tbody>\n",
       "</table>\n",
       "</div>"
      ],
      "text/plain": [
       "   Selling_Price  Present_Price  Kms_Driven  Owner  vehicle_age  \\\n",
       "0           3.35           5.59       27000      0            7   \n",
       "1           4.75           9.54       43000      0            8   \n",
       "2           7.25           9.85        6900      0            4   \n",
       "3           2.85           4.15        5200      0           10   \n",
       "4           4.60           6.87       42450      0            7   \n",
       "\n",
       "   Fuel_Type_Diesel  Fuel_Type_Petrol  Seller_Type_Individual  \\\n",
       "0                 0                 1                       0   \n",
       "1                 1                 0                       0   \n",
       "2                 0                 1                       0   \n",
       "3                 0                 1                       0   \n",
       "4                 1                 0                       0   \n",
       "\n",
       "   Transmission_Manual  \n",
       "0                    1  \n",
       "1                    1  \n",
       "2                    1  \n",
       "3                    1  \n",
       "4                    1  "
      ]
     },
     "execution_count": 20,
     "metadata": {},
     "output_type": "execute_result"
    }
   ],
   "source": [
    "df.head()"
   ]
  },
  {
   "cell_type": "code",
   "execution_count": 21,
   "id": "every-turtle",
   "metadata": {},
   "outputs": [],
   "source": [
    "X = df.drop(\"Selling_Price\", axis=1)\n",
    "y = df.Selling_Price"
   ]
  },
  {
   "cell_type": "code",
   "execution_count": 22,
   "id": "worth-compilation",
   "metadata": {},
   "outputs": [
    {
     "name": "stdout",
     "output_type": "stream",
     "text": [
      "Train features shape :  (239, 8)\n",
      "Train target shape   :  (239,)\n",
      "Test features shape  :  (60, 8)\n",
      "Test target shape    :  (60,)\n"
     ]
    }
   ],
   "source": [
    "from sklearn.model_selection import train_test_split\n",
    "X_train, X_test, y_train, y_test = train_test_split(X, y, test_size=0.2, random_state=5)\n",
    "print(\"Train features shape : \", X_train.shape)\n",
    "print(\"Train target shape   : \", y_train.shape)\n",
    "print(\"Test features shape  : \", X_test.shape)\n",
    "print(\"Test target shape    : \", y_test.shape)"
   ]
  },
  {
   "cell_type": "code",
   "execution_count": 23,
   "id": "hired-profession",
   "metadata": {},
   "outputs": [],
   "source": [
    "from sklearn.linear_model import LinearRegression"
   ]
  },
  {
   "cell_type": "code",
   "execution_count": 24,
   "id": "97016613-6eca-46cb-b448-bc2ca73ac4c6",
   "metadata": {},
   "outputs": [],
   "source": [
    "model = LinearRegression(n_jobs=-1)"
   ]
  },
  {
   "cell_type": "code",
   "execution_count": 25,
   "id": "542cdb0d-80a5-458b-8131-f1672a0d2736",
   "metadata": {},
   "outputs": [
    {
     "data": {
      "text/plain": [
       "LinearRegression(n_jobs=-1)"
      ]
     },
     "execution_count": 25,
     "metadata": {},
     "output_type": "execute_result"
    }
   ],
   "source": [
    "model.fit(X_train, y_train)"
   ]
  },
  {
   "cell_type": "code",
   "execution_count": 26,
   "id": "animated-induction",
   "metadata": {},
   "outputs": [
    {
     "data": {
      "text/plain": [
       "array([ 4.24853570e-01, -4.81478641e-06,  5.33687461e-01, -3.95416235e-01,\n",
       "        2.30146603e+00,  4.83432643e-01, -1.12054389e+00, -1.67261900e+00])"
      ]
     },
     "execution_count": 26,
     "metadata": {},
     "output_type": "execute_result"
    }
   ],
   "source": [
    "model.coef_"
   ]
  },
  {
   "cell_type": "code",
   "execution_count": 27,
   "id": "willing-pastor",
   "metadata": {},
   "outputs": [
    {
     "name": "stdout",
     "output_type": "stream",
     "text": [
      "Model intercept  :  5.416340531754047 \n",
      "\n",
      "Present_Price :  0.4248535699519811\n",
      "Kms_Driven :  -4.814786410267552e-06\n",
      "Owner :  0.5336874609133275\n",
      "vehicle_age :  -0.3954162348493528\n",
      "Fuel_Type_Diesel :  2.301466026583898\n",
      "Fuel_Type_Petrol :  0.4834326434645737\n",
      "Seller_Type_Individual :  -1.120543890264906\n",
      "Transmission_Manual :  -1.672618999948663\n"
     ]
    }
   ],
   "source": [
    "print(\"Model intercept  : \", model.intercept_, \"\\n\")\n",
    "\n",
    "for i in range(len(X.columns)):\n",
    "    print(X.columns[i], \": \", model.coef_[i])"
   ]
  },
  {
   "cell_type": "code",
   "execution_count": 28,
   "id": "liked-replacement",
   "metadata": {},
   "outputs": [
    {
     "data": {
      "text/html": [
       "<div>\n",
       "<style scoped>\n",
       "    .dataframe tbody tr th:only-of-type {\n",
       "        vertical-align: middle;\n",
       "    }\n",
       "\n",
       "    .dataframe tbody tr th {\n",
       "        vertical-align: top;\n",
       "    }\n",
       "\n",
       "    .dataframe thead th {\n",
       "        text-align: right;\n",
       "    }\n",
       "</style>\n",
       "<table border=\"1\" class=\"dataframe\">\n",
       "  <thead>\n",
       "    <tr style=\"text-align: right;\">\n",
       "      <th></th>\n",
       "      <th>Coefficient</th>\n",
       "    </tr>\n",
       "  </thead>\n",
       "  <tbody>\n",
       "    <tr>\n",
       "      <th>Present_Price</th>\n",
       "      <td>0.424854</td>\n",
       "    </tr>\n",
       "    <tr>\n",
       "      <th>Kms_Driven</th>\n",
       "      <td>-0.000005</td>\n",
       "    </tr>\n",
       "    <tr>\n",
       "      <th>Owner</th>\n",
       "      <td>0.533687</td>\n",
       "    </tr>\n",
       "    <tr>\n",
       "      <th>vehicle_age</th>\n",
       "      <td>-0.395416</td>\n",
       "    </tr>\n",
       "    <tr>\n",
       "      <th>Fuel_Type_Diesel</th>\n",
       "      <td>2.301466</td>\n",
       "    </tr>\n",
       "    <tr>\n",
       "      <th>Fuel_Type_Petrol</th>\n",
       "      <td>0.483433</td>\n",
       "    </tr>\n",
       "    <tr>\n",
       "      <th>Seller_Type_Individual</th>\n",
       "      <td>-1.120544</td>\n",
       "    </tr>\n",
       "    <tr>\n",
       "      <th>Transmission_Manual</th>\n",
       "      <td>-1.672619</td>\n",
       "    </tr>\n",
       "  </tbody>\n",
       "</table>\n",
       "</div>"
      ],
      "text/plain": [
       "                        Coefficient\n",
       "Present_Price              0.424854\n",
       "Kms_Driven                -0.000005\n",
       "Owner                      0.533687\n",
       "vehicle_age               -0.395416\n",
       "Fuel_Type_Diesel           2.301466\n",
       "Fuel_Type_Petrol           0.483433\n",
       "Seller_Type_Individual    -1.120544\n",
       "Transmission_Manual       -1.672619"
      ]
     },
     "execution_count": 28,
     "metadata": {},
     "output_type": "execute_result"
    }
   ],
   "source": [
    "coeff_df=pd.DataFrame(model.coef_, X.columns, columns=[\"Coefficient\"])\n",
    "coeff_df"
   ]
  },
  {
   "cell_type": "code",
   "execution_count": 29,
   "id": "median-defensive",
   "metadata": {},
   "outputs": [],
   "source": [
    "from sklearn.metrics import r2_score, mean_absolute_error, mean_squared_error"
   ]
  },
  {
   "cell_type": "code",
   "execution_count": 30,
   "id": "cheap-spring",
   "metadata": {},
   "outputs": [],
   "source": [
    "y_pred=model.predict(X_test)"
   ]
  },
  {
   "cell_type": "code",
   "execution_count": 31,
   "id": "civilian-arizona",
   "metadata": {},
   "outputs": [
    {
     "data": {
      "text/plain": [
       "array([-2.95007526e+00,  1.00997921e+01,  2.29671541e+00,  2.12973947e+00,\n",
       "        4.26469800e+00,  1.66596864e+01,  4.12610528e+00,  5.78885602e-01,\n",
       "        1.05228711e+01,  7.24502343e-01,  4.05995252e+00, -5.24347693e-01,\n",
       "        2.03967486e+01,  2.68294100e+00,  1.57052484e+00,  1.88065032e+00,\n",
       "        4.26880083e+00,  1.81574855e+01,  6.56621211e+00,  6.23964182e+00,\n",
       "        7.37077730e+00,  1.47392765e+00,  7.97521520e+00,  3.90066405e+00,\n",
       "        1.37311624e+00,  6.50182694e+00,  3.38464628e+00,  1.98520739e+01,\n",
       "        9.74666272e+00,  5.88256176e-03,  9.83274506e+00, -2.43493735e-01,\n",
       "        2.87370713e+00,  1.96991977e+00,  4.18766542e+00,  6.27346282e+00,\n",
       "        4.25962321e+00, -1.18518093e+00,  4.48821783e+00,  3.40798044e+00,\n",
       "        7.14821177e+00,  8.92189235e+00,  1.10759837e+01,  3.29223706e+00,\n",
       "        4.93060670e+00, -1.08748224e+00,  2.29143814e+00,  8.22826838e+00,\n",
       "        4.25469409e+00,  7.43851387e+00,  4.29494925e+00,  9.84712369e+00,\n",
       "        7.51362146e+00,  6.56688618e+00,  7.35373444e-01,  1.68014331e+00,\n",
       "        2.76929799e+00,  8.08685080e+00,  2.11890370e+00, -1.25988691e-01])"
      ]
     },
     "execution_count": 31,
     "metadata": {},
     "output_type": "execute_result"
    }
   ],
   "source": [
    "y_pred"
   ]
  },
  {
   "cell_type": "code",
   "execution_count": 32,
   "id": "adult-elephant",
   "metadata": {},
   "outputs": [],
   "source": [
    "rmse = np.sqrt(mean_squared_error(y_test, y_pred))\n",
    "mae = mean_absolute_error(y_test, y_pred)\n",
    "R2_score = r2_score(y_test, y_pred)"
   ]
  },
  {
   "cell_type": "code",
   "execution_count": 33,
   "id": "comprehensive-domain",
   "metadata": {},
   "outputs": [
    {
     "name": "stdout",
     "output_type": "stream",
     "text": [
      "Model testing performance:\n",
      "--------------------------\n",
      "RMSE is            1.9436610410343111\n",
      "MAE is             1.3255435126508195\n",
      "R2 score is          0.869674806383808\n"
     ]
    }
   ],
   "source": [
    "print(\"Model testing performance:\")\n",
    "print(\"--------------------------\")\n",
    "print('RMSE is {:29}'.format(rmse))\n",
    "print(\"MAE is {:30}\".format(mae))\n",
    "print('R2 score is {:26}'.format(R2_score))"
   ]
  },
  {
   "cell_type": "code",
   "execution_count": 34,
   "id": "consecutive-seven",
   "metadata": {},
   "outputs": [
    {
     "name": "stderr",
     "output_type": "stream",
     "text": [
      "/opt/conda/envs/intelml/lib/python3.7/site-packages/sklearn/base.py:446: UserWarning: X does not have valid feature names, but LinearRegression was fitted with feature names\n",
      "  \"X does not have valid feature names, but\"\n",
      "findfont: Font family ['sans-serif'] not found. Falling back to DejaVu Sans.\n",
      "findfont: Generic family 'sans-serif' not found because none of the following families were found: Arial, Liberation Sans, Bitstream Vera Sans, sans-serif\n",
      "findfont: Font family ['sans-serif'] not found. Falling back to DejaVu Sans.\n",
      "findfont: Generic family 'sans-serif' not found because none of the following families were found: Arial, Liberation Sans, Bitstream Vera Sans, sans-serif\n",
      "findfont: Font family ['sans-serif'] not found. Falling back to DejaVu Sans.\n",
      "findfont: Generic family 'sans-serif' not found because none of the following families were found: Arial, Liberation Sans, Bitstream Vera Sans, sans-serif\n"
     ]
    },
    {
     "data": {
      "image/png": "[encoded data removed]",
      "text/plain": [
       "<Figure size 576x396 with 1 Axes>"
      ]
     },
     "metadata": {},
     "output_type": "display_data"
    },
    {
     "data": {
      "text/plain": [
       "<AxesSubplot:title={'center':'Prediction Error for LinearRegression'}, xlabel='$y$', ylabel='$\\\\hat{y}$'>"
      ]
     },
     "execution_count": 34,
     "metadata": {},
     "output_type": "execute_result"
    }
   ],
   "source": [
    "from yellowbrick.regressor import PredictionError\n",
    "# Instantiate the linear model and visualizer\n",
    "lm = LinearRegression(normalize=True)\n",
    "visualizer = PredictionError(model)\n",
    "visualizer.fit(X_train, y_train)  # Fit the training data to the visualizer\n",
    "visualizer.score(X_test, y_test)  # Evaluate the model on the test data\n",
    "visualizer.show() "
   ]
  },
  {
   "cell_type": "code",
   "execution_count": 35,
   "id": "bizarre-medicare",
   "metadata": {},
   "outputs": [
    {
     "data": {
      "text/html": [
       "<div>\n",
       "<style scoped>\n",
       "    .dataframe tbody tr th:only-of-type {\n",
       "        vertical-align: middle;\n",
       "    }\n",
       "\n",
       "    .dataframe tbody tr th {\n",
       "        vertical-align: top;\n",
       "    }\n",
       "\n",
       "    .dataframe thead th {\n",
       "        text-align: right;\n",
       "    }\n",
       "</style>\n",
       "<table border=\"1\" class=\"dataframe\">\n",
       "  <thead>\n",
       "    <tr style=\"text-align: right;\">\n",
       "      <th></th>\n",
       "      <th>Actual</th>\n",
       "      <th>Predicted</th>\n",
       "    </tr>\n",
       "  </thead>\n",
       "  <tbody>\n",
       "    <tr>\n",
       "      <th>101</th>\n",
       "      <td>1.70</td>\n",
       "      <td>2.291438</td>\n",
       "    </tr>\n",
       "    <tr>\n",
       "      <th>289</th>\n",
       "      <td>10.11</td>\n",
       "      <td>7.975215</td>\n",
       "    </tr>\n",
       "    <tr>\n",
       "      <th>262</th>\n",
       "      <td>4.00</td>\n",
       "      <td>4.126105</td>\n",
       "    </tr>\n",
       "    <tr>\n",
       "      <th>170</th>\n",
       "      <td>0.40</td>\n",
       "      <td>-0.125989</td>\n",
       "    </tr>\n",
       "    <tr>\n",
       "      <th>234</th>\n",
       "      <td>5.50</td>\n",
       "      <td>4.254694</td>\n",
       "    </tr>\n",
       "    <tr>\n",
       "      <th>50</th>\n",
       "      <td>14.90</td>\n",
       "      <td>16.659686</td>\n",
       "    </tr>\n",
       "    <tr>\n",
       "      <th>117</th>\n",
       "      <td>1.10</td>\n",
       "      <td>1.473928</td>\n",
       "    </tr>\n",
       "    <tr>\n",
       "      <th>97</th>\n",
       "      <td>17.00</td>\n",
       "      <td>10.522871</td>\n",
       "    </tr>\n",
       "    <tr>\n",
       "      <th>125</th>\n",
       "      <td>0.90</td>\n",
       "      <td>-1.087482</td>\n",
       "    </tr>\n",
       "    <tr>\n",
       "      <th>49</th>\n",
       "      <td>7.75</td>\n",
       "      <td>8.086851</td>\n",
       "    </tr>\n",
       "  </tbody>\n",
       "</table>\n",
       "</div>"
      ],
      "text/plain": [
       "     Actual  Predicted\n",
       "101    1.70   2.291438\n",
       "289   10.11   7.975215\n",
       "262    4.00   4.126105\n",
       "170    0.40  -0.125989\n",
       "234    5.50   4.254694\n",
       "50    14.90  16.659686\n",
       "117    1.10   1.473928\n",
       "97    17.00  10.522871\n",
       "125    0.90  -1.087482\n",
       "49     7.75   8.086851"
      ]
     },
     "execution_count": 35,
     "metadata": {},
     "output_type": "execute_result"
    }
   ],
   "source": [
    "results = pd.DataFrame({'Actual': y_test, 'Predicted': y_pred})\n",
    "\n",
    "result_sample = results.sample(10)\n",
    "result_sample"
   ]
  },
  {
   "cell_type": "code",
   "execution_count": 36,
   "id": "static-brand",
   "metadata": {},
   "outputs": [],
   "source": [
    "def show_metrics(y_test, y_pred):\n",
    "    rmse = (np.sqrt(mean_squared_error(y_test,y_pred)))\n",
    "    mae = mean_absolute_error(y_test,y_pred)\n",
    "    R2_score = r2_score(y_test,y_pred)\n",
    "    print(\"Model testing performance:\")\n",
    "    print(\"--------------------------\")\n",
    "    print('RMSE is {:29}'.format(rmse))\n",
    "    print(\"MAE is {:30}\".format(mae))\n",
    "    print('R2 score is {:26}'.format(R2_score))"
   ]
  },
  {
   "cell_type": "code",
   "execution_count": 37,
   "id": "ranging-hopkins",
   "metadata": {},
   "outputs": [],
   "source": [
    "from sklearn.linear_model import Ridge, RidgeCV"
   ]
  },
  {
   "cell_type": "code",
   "execution_count": 38,
   "id": "1d026ad7-e905-421f-aec9-35b496d325f2",
   "metadata": {},
   "outputs": [],
   "source": [
    "from sklearn.preprocessing import MinMaxScaler"
   ]
  },
  {
   "cell_type": "code",
   "execution_count": 39,
   "id": "a35c6060-c4fe-499d-a02d-607c037f9b76",
   "metadata": {},
   "outputs": [],
   "source": [
    "scaler = MinMaxScaler()"
   ]
  },
  {
   "cell_type": "code",
   "execution_count": 40,
   "id": "3d892c7f-4e6c-43c0-8f5d-bdbcbd72f7f0",
   "metadata": {},
   "outputs": [],
   "source": [
    "X_train_scaled = scaler.fit_transform(X_train)"
   ]
  },
  {
   "cell_type": "code",
   "execution_count": 41,
   "id": "bbe24b3a-94e4-4429-808f-267a6cc1df69",
   "metadata": {},
   "outputs": [],
   "source": [
    "X_test_scaled = scaler.transform(X_test)"
   ]
  },
  {
   "cell_type": "code",
   "execution_count": 42,
   "id": "unsigned-dragon",
   "metadata": {},
   "outputs": [],
   "source": [
    "ridge_model = Ridge()\n",
    "ridge_model.fit(X_train_scaled, y_train)\n",
    "y_pred = ridge_model.predict(X_test_scaled)"
   ]
  },
  {
   "cell_type": "code",
   "execution_count": 43,
   "id": "czech-buffer",
   "metadata": {},
   "outputs": [
    {
     "name": "stdout",
     "output_type": "stream",
     "text": [
      "Model testing performance:\n",
      "--------------------------\n",
      "RMSE is             2.314807257737037\n",
      "MAE is              1.422881782678752\n",
      "R2 score is         0.8151510490934967\n"
     ]
    }
   ],
   "source": [
    "show_metrics(y_test,y_pred)"
   ]
  },
  {
   "cell_type": "code",
   "execution_count": 44,
   "id": "artificial-blair",
   "metadata": {},
   "outputs": [
    {
     "data": {
      "text/plain": [
       "1.0"
      ]
     },
     "execution_count": 44,
     "metadata": {},
     "output_type": "execute_result"
    }
   ],
   "source": [
    "ridge_model.alpha"
   ]
  },
  {
   "cell_type": "code",
   "execution_count": 45,
   "id": "dominican-porcelain",
   "metadata": {
    "tags": []
   },
   "outputs": [
    {
     "data": {
      "text/plain": [
       "array([ 0.1       ,  0.3010101 ,  0.5020202 ,  0.7030303 ,  0.9040404 ,\n",
       "        1.10505051,  1.30606061,  1.50707071,  1.70808081,  1.90909091,\n",
       "        2.11010101,  2.31111111,  2.51212121,  2.71313131,  2.91414141,\n",
       "        3.11515152,  3.31616162,  3.51717172,  3.71818182,  3.91919192,\n",
       "        4.12020202,  4.32121212,  4.52222222,  4.72323232,  4.92424242,\n",
       "        5.12525253,  5.32626263,  5.52727273,  5.72828283,  5.92929293,\n",
       "        6.13030303,  6.33131313,  6.53232323,  6.73333333,  6.93434343,\n",
       "        7.13535354,  7.33636364,  7.53737374,  7.73838384,  7.93939394,\n",
       "        8.14040404,  8.34141414,  8.54242424,  8.74343434,  8.94444444,\n",
       "        9.14545455,  9.34646465,  9.54747475,  9.74848485,  9.94949495,\n",
       "       10.15050505, 10.35151515, 10.55252525, 10.75353535, 10.95454545,\n",
       "       11.15555556, 11.35656566, 11.55757576, 11.75858586, 11.95959596,\n",
       "       12.16060606, 12.36161616, 12.56262626, 12.76363636, 12.96464646,\n",
       "       13.16565657, 13.36666667, 13.56767677, 13.76868687, 13.96969697,\n",
       "       14.17070707, 14.37171717, 14.57272727, 14.77373737, 14.97474747,\n",
       "       15.17575758, 15.37676768, 15.57777778, 15.77878788, 15.97979798,\n",
       "       16.18080808, 16.38181818, 16.58282828, 16.78383838, 16.98484848,\n",
       "       17.18585859, 17.38686869, 17.58787879, 17.78888889, 17.98989899,\n",
       "       18.19090909, 18.39191919, 18.59292929, 18.79393939, 18.99494949,\n",
       "       19.1959596 , 19.3969697 , 19.5979798 , 19.7989899 , 20.        ])"
      ]
     },
     "execution_count": 45,
     "metadata": {},
     "output_type": "execute_result"
    }
   ],
   "source": [
    "alpha_space = np.linspace(0.1, 20, 100)\n",
    "alpha_space"
   ]
  },
  {
   "cell_type": "code",
   "execution_count": 46,
   "id": "continuous-compact",
   "metadata": {},
   "outputs": [
    {
     "data": {
      "text/plain": [
       "RidgeCV(alphas=array([ 0.1       ,  0.3010101 ,  0.5020202 ,  0.7030303 ,  0.9040404 ,\n",
       "        1.10505051,  1.30606061,  1.50707071,  1.70808081,  1.90909091,\n",
       "        2.11010101,  2.31111111,  2.51212121,  2.71313131,  2.91414141,\n",
       "        3.11515152,  3.31616162,  3.51717172,  3.71818182,  3.91919192,\n",
       "        4.12020202,  4.32121212,  4.52222222,  4.72323232,  4.92424242,\n",
       "        5.12525253,  5.32626263,  5.52727273,  5.72828283,  5.92929293,\n",
       "        6.1303030...\n",
       "       14.17070707, 14.37171717, 14.57272727, 14.77373737, 14.97474747,\n",
       "       15.17575758, 15.37676768, 15.57777778, 15.77878788, 15.97979798,\n",
       "       16.18080808, 16.38181818, 16.58282828, 16.78383838, 16.98484848,\n",
       "       17.18585859, 17.38686869, 17.58787879, 17.78888889, 17.98989899,\n",
       "       18.19090909, 18.39191919, 18.59292929, 18.79393939, 18.99494949,\n",
       "       19.1959596 , 19.3969697 , 19.5979798 , 19.7989899 , 20.        ]),\n",
       "        cv=10)"
      ]
     },
     "execution_count": 46,
     "metadata": {},
     "output_type": "execute_result"
    }
   ],
   "source": [
    "ridgecv = RidgeCV(alphas=alpha_space, cv=10)\n",
    "ridgecv.fit(X_train_scaled, y_train)"
   ]
  },
  {
   "cell_type": "code",
   "execution_count": 47,
   "id": "seventh-zambia",
   "metadata": {},
   "outputs": [
    {
     "data": {
      "text/plain": [
       "0.1"
      ]
     },
     "execution_count": 47,
     "metadata": {},
     "output_type": "execute_result"
    }
   ],
   "source": [
    "ridgecv.alpha_"
   ]
  },
  {
   "cell_type": "code",
   "execution_count": 48,
   "id": "durable-catering",
   "metadata": {},
   "outputs": [
    {
     "data": {
      "text/plain": [
       "RidgeCV(alphas=array([ 0.01      ,  0.11090909,  0.21181818,  0.31272727,  0.41363636,\n",
       "        0.51454545,  0.61545455,  0.71636364,  0.81727273,  0.91818182,\n",
       "        1.01909091,  1.12      ,  1.22090909,  1.32181818,  1.42272727,\n",
       "        1.52363636,  1.62454545,  1.72545455,  1.82636364,  1.92727273,\n",
       "        2.02818182,  2.12909091,  2.23      ,  2.33090909,  2.43181818,\n",
       "        2.53272727,  2.63363636,  2.73454545,  2.83545455,  2.93636364,\n",
       "        3.03727273,  3.138...\n",
       "        6.56909091,  6.67      ,  6.77090909,  6.87181818,  6.97272727,\n",
       "        7.07363636,  7.17454545,  7.27545455,  7.37636364,  7.47727273,\n",
       "        7.57818182,  7.67909091,  7.78      ,  7.88090909,  7.98181818,\n",
       "        8.08272727,  8.18363636,  8.28454545,  8.38545455,  8.48636364,\n",
       "        8.58727273,  8.68818182,  8.78909091,  8.89      ,  8.99090909,\n",
       "        9.09181818,  9.19272727,  9.29363636,  9.39454545,  9.49545455,\n",
       "        9.59636364,  9.69727273,  9.79818182,  9.89909091, 10.        ]),\n",
       "        cv=10)"
      ]
     },
     "execution_count": 48,
     "metadata": {},
     "output_type": "execute_result"
    }
   ],
   "source": [
    "alpha_space = np.linspace(0.01, 10, 100)\n",
    "ridgecv = RidgeCV(alphas=alpha_space, cv=10)\n",
    "ridgecv.fit(X_train_scaled, y_train)"
   ]
  },
  {
   "cell_type": "code",
   "execution_count": 49,
   "id": "controlled-prescription",
   "metadata": {},
   "outputs": [
    {
     "data": {
      "text/plain": [
       "0.1109090909090909"
      ]
     },
     "execution_count": 49,
     "metadata": {},
     "output_type": "execute_result"
    }
   ],
   "source": [
    "ridgecv.alpha_"
   ]
  },
  {
   "cell_type": "code",
   "execution_count": 50,
   "id": "general-inquiry",
   "metadata": {},
   "outputs": [
    {
     "data": {
      "image/png": "[encoded data removed]",
      "text/plain": [
       "<Figure size 576x396 with 1 Axes>"
      ]
     },
     "metadata": {},
     "output_type": "display_data"
    },
    {
     "data": {
      "text/plain": [
       "<AxesSubplot:title={'center':'Ridge Alpha Error'}, xlabel='alpha', ylabel='error (or score)'>"
      ]
     },
     "execution_count": 50,
     "metadata": {},
     "output_type": "execute_result"
    }
   ],
   "source": [
    "from yellowbrick.regressor import ManualAlphaSelection\n",
    "# Create a list of alphas to cross-validate against\n",
    "alpha_space = np.linspace(0.01, 10, 100)\n",
    "# Instantiate the visualizer\n",
    "visualizer = ManualAlphaSelection(\n",
    "    Ridge(),\n",
    "    alphas=alpha_space,\n",
    "    cv=10\n",
    ")\n",
    "visualizer.fit(X_train_scaled, y_train)\n",
    "visualizer.show()"
   ]
  },
  {
   "cell_type": "code",
   "execution_count": 51,
   "id": "regional-detroit",
   "metadata": {},
   "outputs": [],
   "source": [
    "y_pred=ridgecv.predict(X_test_scaled)"
   ]
  },
  {
   "cell_type": "code",
   "execution_count": 52,
   "id": "swedish-portrait",
   "metadata": {},
   "outputs": [
    {
     "name": "stdout",
     "output_type": "stream",
     "text": [
      "Model testing performance:\n",
      "--------------------------\n",
      "RMSE is            1.9677378377246746\n",
      "MAE is             1.3247546882049375\n",
      "R2 score is          0.866426042624729\n"
     ]
    }
   ],
   "source": [
    "show_metrics(y_test,y_pred)"
   ]
  },
  {
   "cell_type": "code",
   "execution_count": 53,
   "id": "simplified-ballot",
   "metadata": {},
   "outputs": [
    {
     "data": {
      "image/png": "[encoded data removed]",
      "text/plain": [
       "<Figure size 576x396 with 1 Axes>"
      ]
     },
     "metadata": {},
     "output_type": "display_data"
    },
    {
     "data": {
      "text/plain": [
       "<AxesSubplot:title={'center':'Feature Importances of 8 Features using Ridge'}, xlabel='coefficient value'>"
      ]
     },
     "execution_count": 53,
     "metadata": {},
     "output_type": "execute_result"
    }
   ],
   "source": [
    "from yellowbrick.model_selection import FeatureImportances\n",
    "# Load the regression dataset\n",
    "# Title case the feature for better display and create the visualizer\n",
    "labels = list(map(lambda s: s.title(), X.columns))\n",
    "viz = FeatureImportances(ridge_model, labels=labels, relative=False)\n",
    "# Fit and show the feature importances\n",
    "viz.fit(X_train_scaled, y_train)\n",
    "viz.show()"
   ]
  },
  {
   "cell_type": "code",
   "execution_count": 54,
   "id": "backed-credits",
   "metadata": {},
   "outputs": [],
   "source": [
    "from sklearn.linear_model import Lasso\n",
    "from sklearn.linear_model import LassoCV"
   ]
  },
  {
   "cell_type": "code",
   "execution_count": 55,
   "id": "musical-internet",
   "metadata": {},
   "outputs": [
    {
     "name": "stdout",
     "output_type": "stream",
     "text": [
      "Model testing performance:\n",
      "--------------------------\n",
      "RMSE is             5.196707901721543\n",
      "MAE is              3.454313171036205\n",
      "R2 score is        0.06836899734675761\n"
     ]
    }
   ],
   "source": [
    "lasso_model = Lasso()\n",
    "lasso_model.fit(X_train_scaled, y_train)\n",
    "y_pred = lasso_model.predict(X_test_scaled)\n",
    "show_metrics(y_test,y_pred)"
   ]
  },
  {
   "cell_type": "code",
   "execution_count": 56,
   "id": "nearby-vault",
   "metadata": {},
   "outputs": [],
   "source": [
    "alpha_space = np.linspace(0.001, 10, 100)\n",
    "lasso_cv_model = LassoCV(alphas = alpha_space, cv = 10).fit(X_train_scaled, y_train)"
   ]
  },
  {
   "cell_type": "code",
   "execution_count": 57,
   "id": "alike-publicity",
   "metadata": {},
   "outputs": [
    {
     "name": "stdout",
     "output_type": "stream",
     "text": [
      "Model testing performance:\n",
      "--------------------------\n",
      "RMSE is            1.9425452076248035\n",
      "MAE is              1.325118456999874\n",
      "R2 score is         0.8698243998157378\n"
     ]
    }
   ],
   "source": [
    "y_pred=lasso_cv_model.predict(X_test_scaled)\n",
    "show_metrics(y_test,y_pred)"
   ]
  },
  {
   "cell_type": "code",
   "execution_count": 58,
   "id": "resistant-attraction",
   "metadata": {},
   "outputs": [
    {
     "data": {
      "text/plain": [
       "0.001"
      ]
     },
     "execution_count": 58,
     "metadata": {},
     "output_type": "execute_result"
    }
   ],
   "source": [
    "lasso_cv_model.alpha_"
   ]
  },
  {
   "cell_type": "code",
   "execution_count": 59,
   "id": "falling-frederick",
   "metadata": {},
   "outputs": [],
   "source": [
    "def plot_errors(lambdas, train_errors, test_errors, title):\n",
    "    plt.figure(figsize=(16, 9))\n",
    "    plt.plot(lambdas, train_errors, label=\"train\")\n",
    "    plt.plot(lambdas, test_errors, label=\"test\")\n",
    "    plt.xlabel(\"$\\\\lambda$\", fontsize=14)\n",
    "    plt.ylabel(\"MSE\", fontsize=14)\n",
    "    plt.title(title, fontsize=20)\n",
    "    plt.legend(fontsize=14)\n",
    "    plt.show()"
   ]
  },
  {
   "cell_type": "code",
   "execution_count": 60,
   "id": "valuable-suite",
   "metadata": {},
   "outputs": [],
   "source": [
    "def evaluate_model(Model, lambdas):\n",
    "    training_errors = [] \n",
    "    testing_errors = [] \n",
    "    for l in lambdas:\n",
    "\n",
    "        model = Model(alpha=l) \n",
    "        model.fit(X_train_scaled, y_train)\n",
    "\n",
    "        training_predictions = model.predict(X_train_scaled)\n",
    "        training_mse = mean_squared_error(y_train, training_predictions)\n",
    "        training_errors.append(training_mse)\n",
    "\n",
    "        testing_predictions = model.predict(X_test_scaled)\n",
    "        testing_mse = mean_squared_error(y_test, testing_predictions)\n",
    "        testing_errors.append(testing_mse)\n",
    "    return training_errors, testing_errors"
   ]
  },
  {
   "cell_type": "code",
   "execution_count": 61,
   "id": "final-waste",
   "metadata": {},
   "outputs": [
    {
     "name": "stderr",
     "output_type": "stream",
     "text": [
      "findfont: Font family ['sans-serif'] not found. Falling back to DejaVu Sans.\n",
      "findfont: Generic family 'sans-serif' not found because none of the following families were found: Arial, Liberation Sans, Bitstream Vera Sans, sans-serif\n",
      "findfont: Font family ['sans-serif'] not found. Falling back to DejaVu Sans.\n",
      "findfont: Generic family 'sans-serif' not found because none of the following families were found: Arial, Liberation Sans, Bitstream Vera Sans, sans-serif\n"
     ]
    },
    {
     "data": {
      "image/png": "[encoded data removed]",
      "text/plain": [
       "<Figure size 1152x648 with 1 Axes>"
      ]
     },
     "metadata": {},
     "output_type": "display_data"
    }
   ],
   "source": [
    "lambdas = np.arange(0.01, 10, step=0.1)\n",
    "lasso_train, lasso_test = evaluate_model(Lasso, lambdas)\n",
    "plot_errors(lambdas, lasso_train, lasso_test, \"Lasso\")"
   ]
  },
  {
   "cell_type": "markdown",
   "id": "0d74862a-6ed3-40de-a863-21c8a5861bbe",
   "metadata": {},
   "source": [
    "# KNN Regression"
   ]
  },
  {
   "cell_type": "code",
   "execution_count": 62,
   "id": "a6ac8f48-0688-4898-b65c-e4158a8ed370",
   "metadata": {},
   "outputs": [],
   "source": [
    "from sklearn.neighbors import KNeighborsRegressor"
   ]
  },
  {
   "cell_type": "code",
   "execution_count": 63,
   "id": "b11006f5-101b-43d4-9766-95ab545c24b4",
   "metadata": {},
   "outputs": [],
   "source": [
    "knn = KNeighborsRegressor(n_jobs=-1)"
   ]
  },
  {
   "cell_type": "code",
   "execution_count": 64,
   "id": "b93c4010-310b-4bb0-99c4-53e61e0037d3",
   "metadata": {},
   "outputs": [
    {
     "data": {
      "text/plain": [
       "KNeighborsRegressor(n_jobs=-1)"
      ]
     },
     "execution_count": 64,
     "metadata": {},
     "output_type": "execute_result"
    }
   ],
   "source": [
    "knn.fit(X_train_scaled, y_train)"
   ]
  },
  {
   "cell_type": "code",
   "execution_count": 65,
   "id": "f8ada620-3d79-4b3a-87c1-569c6ec3ebf5",
   "metadata": {},
   "outputs": [],
   "source": [
    "y_pred = knn.predict(X_test_scaled)"
   ]
  },
  {
   "cell_type": "code",
   "execution_count": 66,
   "id": "24ba53ea-b9af-412d-8cd2-e4336e3d0f45",
   "metadata": {},
   "outputs": [
    {
     "name": "stdout",
     "output_type": "stream",
     "text": [
      "Model testing performance:\n",
      "--------------------------\n",
      "RMSE is            2.0093681262194507\n",
      "MAE is             1.1932666666666667\n",
      "R2 score is         0.8607143621734235\n"
     ]
    }
   ],
   "source": [
    "show_metrics(y_test, y_pred)"
   ]
  },
  {
   "cell_type": "code",
   "execution_count": 67,
   "id": "5dd3b718-bf25-4951-9364-49ec84f5c630",
   "metadata": {},
   "outputs": [
    {
     "name": "stdout",
     "output_type": "stream",
     "text": [
      "RMSE value for k=  1 is: 1.3846822740253448\n",
      "RMSE value for k=  2 is: 1.7258808137682433\n",
      "RMSE value for k=  3 is: 1.6767373521658504\n",
      "RMSE value for k=  4 is: 1.7727129338483805\n",
      "RMSE value for k=  5 is: 2.0093681262194507\n",
      "RMSE value for k=  6 is: 2.020642568315557\n",
      "RMSE value for k=  7 is: 2.0627375229135128\n",
      "RMSE value for k=  8 is: 2.0437723495210194\n",
      "RMSE value for k=  9 is: 2.124426594144751\n",
      "RMSE value for k=  10 is: 2.174835645131221\n",
      "RMSE value for k=  11 is: 2.2285672613963197\n",
      "RMSE value for k=  12 is: 2.28841210564832\n",
      "RMSE value for k=  13 is: 2.3683212248474903\n",
      "RMSE value for k=  14 is: 2.455133903271509\n",
      "RMSE value for k=  15 is: 2.5594100998588054\n",
      "RMSE value for k=  16 is: 2.6523791010776216\n",
      "RMSE value for k=  17 is: 2.6972088813645207\n",
      "RMSE value for k=  18 is: 2.7558461381656993\n",
      "RMSE value for k=  19 is: 2.80976797706665\n",
      "RMSE value for k=  20 is: 2.873796118957177\n"
     ]
    }
   ],
   "source": [
    "rmse_val = []\n",
    "for K in range(20):\n",
    "    K = K+1\n",
    "    model = KNeighborsRegressor(n_neighbors = K)\n",
    "\n",
    "    model.fit(X_train_scaled, y_train)\n",
    "    pred=model.predict(X_test_scaled)\n",
    "    error = np.sqrt(mean_squared_error(y_test, pred))\n",
    "    rmse_val.append(error) #store rmse values\n",
    "    print('RMSE value for k= ' , K , 'is:', error)"
   ]
  },
  {
   "cell_type": "code",
   "execution_count": 68,
   "id": "c12e819d-f9a2-4728-9dbd-40393d64e8e3",
   "metadata": {},
   "outputs": [],
   "source": [
    "knn = KNeighborsRegressor(n_jobs=-1, n_neighbors=1)"
   ]
  },
  {
   "cell_type": "code",
   "execution_count": 69,
   "id": "ef27e0e2-7344-4343-b349-dec9c967f882",
   "metadata": {},
   "outputs": [
    {
     "data": {
      "text/plain": [
       "KNeighborsRegressor(n_jobs=-1, n_neighbors=1)"
      ]
     },
     "execution_count": 69,
     "metadata": {},
     "output_type": "execute_result"
    }
   ],
   "source": [
    "knn.fit(X_train_scaled, y_train)"
   ]
  },
  {
   "cell_type": "code",
   "execution_count": 70,
   "id": "234716a5-0349-481b-a62a-f1ee930bf5c2",
   "metadata": {},
   "outputs": [],
   "source": [
    "y_pred = knn.predict(X_test_scaled)"
   ]
  },
  {
   "cell_type": "code",
   "execution_count": 71,
   "id": "e39714c6-aeb1-4429-a27d-bba2b8d95c0f",
   "metadata": {},
   "outputs": [
    {
     "name": "stdout",
     "output_type": "stream",
     "text": [
      "Model testing performance:\n",
      "--------------------------\n",
      "RMSE is            1.3846822740253448\n",
      "MAE is             0.8511666666666666\n",
      "R2 score is         0.9338564371500823\n"
     ]
    }
   ],
   "source": [
    "show_metrics(y_test, y_pred)"
   ]
  },
  {
   "cell_type": "markdown",
   "id": "b03f91d9-7ae1-4990-b808-e32b5c6bc470",
   "metadata": {},
   "source": [
    "# SVM Regressor"
   ]
  },
  {
   "cell_type": "code",
   "execution_count": 72,
   "id": "d4f4ce12-ca13-4822-a715-f9118125f26b",
   "metadata": {},
   "outputs": [],
   "source": [
    "from sklearn.svm import SVR"
   ]
  },
  {
   "cell_type": "code",
   "execution_count": 73,
   "id": "14b889e4-ea56-4cc9-8a99-ec581b705a79",
   "metadata": {},
   "outputs": [],
   "source": [
    "svm = SVR()"
   ]
  },
  {
   "cell_type": "code",
   "execution_count": 74,
   "id": "d2457cfd-2971-4eda-967d-c3f5cadc5058",
   "metadata": {},
   "outputs": [
    {
     "data": {
      "text/plain": [
       "SVR()"
      ]
     },
     "execution_count": 74,
     "metadata": {},
     "output_type": "execute_result"
    }
   ],
   "source": [
    "svm.fit(X_train_scaled, y_train)"
   ]
  },
  {
   "cell_type": "code",
   "execution_count": 75,
   "id": "3a557110-6ca7-456f-98a3-a0b7f40cef6e",
   "metadata": {},
   "outputs": [],
   "source": [
    "y_pred = svm.predict(X_test_scaled)"
   ]
  },
  {
   "cell_type": "code",
   "execution_count": 76,
   "id": "96b14b08-1a72-4e71-b3b3-9b5faf34938a",
   "metadata": {},
   "outputs": [
    {
     "name": "stdout",
     "output_type": "stream",
     "text": [
      "Model testing performance:\n",
      "--------------------------\n",
      "RMSE is            3.6061005844073257\n",
      "MAE is             1.9875101493872032\n",
      "R2 score is         0.5513961546809143\n"
     ]
    }
   ],
   "source": [
    "show_metrics(y_test, y_pred)"
   ]
  },
  {
   "cell_type": "code",
   "execution_count": 77,
   "id": "4cc1f0e9-2aad-4897-a65d-2b1ae488077d",
   "metadata": {},
   "outputs": [],
   "source": [
    "params = {'kernel': ['linear', 'poly', 'rbf', 'sigmoid'],\n",
    "         'degree': [1, 2, 3, 4, 5],\n",
    "         'gamma': ['scale', 'auto', 3, 4],\n",
    "         'C': [2.2, 2.5, 3, 3.5],\n",
    "         'epsilon': [0.1, 0.2, 0.4]}"
   ]
  },
  {
   "cell_type": "code",
   "execution_count": 78,
   "id": "a1416262-dcdf-4c13-b6c0-8488bc0c5661",
   "metadata": {},
   "outputs": [],
   "source": [
    "from sklearn.model_selection import GridSearchCV"
   ]
  },
  {
   "cell_type": "code",
   "execution_count": 79,
   "id": "68c3095f-2e4b-4f6f-b45e-26765edf26c7",
   "metadata": {},
   "outputs": [],
   "source": [
    "grid_svm = GridSearchCV(SVR(), param_grid=params, n_jobs=-1, cv=10)"
   ]
  },
  {
   "cell_type": "code",
   "execution_count": 80,
   "id": "91adc53f-7b7d-4bab-b322-7f076db2b238",
   "metadata": {
    "tags": []
   },
   "outputs": [
    {
     "data": {
      "text/plain": [
       "GridSearchCV(cv=10, estimator=SVR(), n_jobs=-1,\n",
       "             param_grid={'C': [2.2, 2.5, 3, 3.5], 'degree': [1, 2, 3, 4, 5],\n",
       "                         'epsilon': [0.1, 0.2, 0.4],\n",
       "                         'gamma': ['scale', 'auto', 3, 4],\n",
       "                         'kernel': ['linear', 'poly', 'rbf', 'sigmoid']})"
      ]
     },
     "execution_count": 80,
     "metadata": {},
     "output_type": "execute_result"
    }
   ],
   "source": [
    "grid_svm.fit(X_train_scaled, y_train)"
   ]
  },
  {
   "cell_type": "code",
   "execution_count": 81,
   "id": "a3535923-e6eb-46d2-af4b-064bcea1f450",
   "metadata": {},
   "outputs": [
    {
     "data": {
      "text/plain": [
       "{'C': 2.5, 'degree': 3, 'epsilon': 0.1, 'gamma': 3, 'kernel': 'poly'}"
      ]
     },
     "execution_count": 81,
     "metadata": {},
     "output_type": "execute_result"
    }
   ],
   "source": [
    "grid_svm.best_params_"
   ]
  },
  {
   "cell_type": "code",
   "execution_count": 82,
   "id": "48f10d23-c022-4e02-a6f4-a21c1cb3267b",
   "metadata": {},
   "outputs": [
    {
     "data": {
      "text/plain": [
       "0.918421002605989"
      ]
     },
     "execution_count": 82,
     "metadata": {},
     "output_type": "execute_result"
    }
   ],
   "source": [
    "grid_svm.best_score_"
   ]
  },
  {
   "cell_type": "code",
   "execution_count": 83,
   "id": "b2b8060b-2862-49a3-803d-8221e0f8b589",
   "metadata": {},
   "outputs": [],
   "source": [
    "y_pred = grid_svm.predict(X_test_scaled)"
   ]
  },
  {
   "cell_type": "code",
   "execution_count": 84,
   "id": "862d8e0e-36a3-40c6-8c9c-74ebab20726e",
   "metadata": {},
   "outputs": [
    {
     "name": "stdout",
     "output_type": "stream",
     "text": [
      "Model testing performance:\n",
      "--------------------------\n",
      "RMSE is            1.9320993898957144\n",
      "MAE is             0.8583981665997847\n",
      "R2 score is           0.87122064483152\n"
     ]
    }
   ],
   "source": [
    "show_metrics(y_test, y_pred)"
   ]
  },
  {
   "cell_type": "code",
   "execution_count": 85,
   "id": "dc3a2928-da89-428c-85bc-26d55dbb6be3",
   "metadata": {},
   "outputs": [],
   "source": [
    "cvresults = pd.DataFrame(grid_svm.cv_results_)"
   ]
  },
  {
   "cell_type": "code",
   "execution_count": 86,
   "id": "6f3d61f8-d1b4-4a39-beb4-1d75a0465a53",
   "metadata": {},
   "outputs": [
    {
     "data": {
      "text/plain": [
       "mean_fit_time                                                 0.065739\n",
       "std_fit_time                                                  0.026301\n",
       "mean_score_time                                               0.000978\n",
       "std_score_time                                                0.000154\n",
       "param_C                                                            2.5\n",
       "param_degree                                                         3\n",
       "param_epsilon                                                      0.1\n",
       "param_gamma                                                          3\n",
       "param_kernel                                                      poly\n",
       "params               {'C': 2.5, 'degree': 3, 'epsilon': 0.1, 'gamma...\n",
       "split0_test_score                                             0.935681\n",
       "split1_test_score                                             0.820895\n",
       "split2_test_score                                             0.931837\n",
       "split3_test_score                                             0.952915\n",
       "split4_test_score                                             0.945404\n",
       "split5_test_score                                             0.982447\n",
       "split6_test_score                                             0.943327\n",
       "split7_test_score                                             0.841391\n",
       "split8_test_score                                             0.960989\n",
       "split9_test_score                                             0.869325\n",
       "mean_test_score                                               0.918421\n",
       "std_test_score                                                0.051752\n",
       "rank_test_score                                                      1\n",
       "Name: 345, dtype: object"
      ]
     },
     "execution_count": 86,
     "metadata": {},
     "output_type": "execute_result"
    }
   ],
   "source": [
    "cvresults.iloc[grid_svm.best_index_]"
   ]
  },
  {
   "cell_type": "code",
   "execution_count": 87,
   "id": "140afb9f-41c3-4171-bca0-c5717531cb3a",
   "metadata": {},
   "outputs": [],
   "source": [
    "from sklearn.tree import DecisionTreeRegressor"
   ]
  },
  {
   "cell_type": "code",
   "execution_count": 88,
   "id": "baf2c537-553a-4f8a-9af8-f203db79b3b9",
   "metadata": {},
   "outputs": [],
   "source": [
    "dt = DecisionTreeRegressor()"
   ]
  },
  {
   "cell_type": "code",
   "execution_count": 89,
   "id": "ecf72771-3cf4-4ffc-a1b0-5d4a63f16398",
   "metadata": {},
   "outputs": [
    {
     "data": {
      "text/plain": [
       "DecisionTreeRegressor()"
      ]
     },
     "execution_count": 89,
     "metadata": {},
     "output_type": "execute_result"
    }
   ],
   "source": [
    "dt.fit(X_train, y_train)"
   ]
  },
  {
   "cell_type": "code",
   "execution_count": 90,
   "id": "fa495b9a-81cd-4ab4-ae68-8d49e5998b95",
   "metadata": {},
   "outputs": [],
   "source": [
    "y_pred = dt.predict(X_test)"
   ]
  },
  {
   "cell_type": "code",
   "execution_count": 91,
   "id": "5cdf5b5d-7218-4d4f-a208-24eda39d7008",
   "metadata": {},
   "outputs": [
    {
     "name": "stdout",
     "output_type": "stream",
     "text": [
      "Model testing performance:\n",
      "--------------------------\n",
      "RMSE is             2.075887360463793\n",
      "MAE is             0.9384999999999999\n",
      "R2 score is         0.8513397398039958\n"
     ]
    }
   ],
   "source": [
    "show_metrics(y_test, y_pred)"
   ]
  },
  {
   "cell_type": "code",
   "execution_count": 92,
   "id": "8f99edda-3a60-4eea-8ee7-408c4f4af70a",
   "metadata": {},
   "outputs": [],
   "source": [
    "from sklearn.model_selection import cross_val_score, cross_validate"
   ]
  },
  {
   "cell_type": "code",
   "execution_count": 93,
   "id": "c3b2b773-d7d5-4249-abc8-f5d8f0458172",
   "metadata": {},
   "outputs": [],
   "source": [
    "dt = DecisionTreeRegressor(random_state=42)\n",
    "scores = cross_validate(dt, X_train, y_train, cv=10, n_jobs=-1)"
   ]
  },
  {
   "cell_type": "code",
   "execution_count": 94,
   "id": "94a833d7-4b99-49b8-bd07-cf68bedcc425",
   "metadata": {},
   "outputs": [
    {
     "data": {
      "text/html": [
       "<div>\n",
       "<style scoped>\n",
       "    .dataframe tbody tr th:only-of-type {\n",
       "        vertical-align: middle;\n",
       "    }\n",
       "\n",
       "    .dataframe tbody tr th {\n",
       "        vertical-align: top;\n",
       "    }\n",
       "\n",
       "    .dataframe thead th {\n",
       "        text-align: right;\n",
       "    }\n",
       "</style>\n",
       "<table border=\"1\" class=\"dataframe\">\n",
       "  <thead>\n",
       "    <tr style=\"text-align: right;\">\n",
       "      <th></th>\n",
       "      <th>fit_time</th>\n",
       "      <th>score_time</th>\n",
       "      <th>test_score</th>\n",
       "    </tr>\n",
       "  </thead>\n",
       "  <tbody>\n",
       "    <tr>\n",
       "      <th>0</th>\n",
       "      <td>0.003249</td>\n",
       "      <td>0.001386</td>\n",
       "      <td>0.903703</td>\n",
       "    </tr>\n",
       "    <tr>\n",
       "      <th>1</th>\n",
       "      <td>0.003071</td>\n",
       "      <td>0.001305</td>\n",
       "      <td>0.849986</td>\n",
       "    </tr>\n",
       "    <tr>\n",
       "      <th>2</th>\n",
       "      <td>0.003056</td>\n",
       "      <td>0.001404</td>\n",
       "      <td>0.922718</td>\n",
       "    </tr>\n",
       "    <tr>\n",
       "      <th>3</th>\n",
       "      <td>0.004644</td>\n",
       "      <td>0.002308</td>\n",
       "      <td>0.812128</td>\n",
       "    </tr>\n",
       "    <tr>\n",
       "      <th>4</th>\n",
       "      <td>0.003211</td>\n",
       "      <td>0.001363</td>\n",
       "      <td>0.826649</td>\n",
       "    </tr>\n",
       "    <tr>\n",
       "      <th>5</th>\n",
       "      <td>0.003417</td>\n",
       "      <td>0.001385</td>\n",
       "      <td>0.780828</td>\n",
       "    </tr>\n",
       "    <tr>\n",
       "      <th>6</th>\n",
       "      <td>0.003215</td>\n",
       "      <td>0.001301</td>\n",
       "      <td>0.869013</td>\n",
       "    </tr>\n",
       "    <tr>\n",
       "      <th>7</th>\n",
       "      <td>0.004489</td>\n",
       "      <td>0.001975</td>\n",
       "      <td>0.991297</td>\n",
       "    </tr>\n",
       "    <tr>\n",
       "      <th>8</th>\n",
       "      <td>0.003040</td>\n",
       "      <td>0.001350</td>\n",
       "      <td>0.946646</td>\n",
       "    </tr>\n",
       "    <tr>\n",
       "      <th>9</th>\n",
       "      <td>0.003183</td>\n",
       "      <td>0.001377</td>\n",
       "      <td>0.945795</td>\n",
       "    </tr>\n",
       "  </tbody>\n",
       "</table>\n",
       "</div>"
      ],
      "text/plain": [
       "   fit_time  score_time  test_score\n",
       "0  0.003249    0.001386    0.903703\n",
       "1  0.003071    0.001305    0.849986\n",
       "2  0.003056    0.001404    0.922718\n",
       "3  0.004644    0.002308    0.812128\n",
       "4  0.003211    0.001363    0.826649\n",
       "5  0.003417    0.001385    0.780828\n",
       "6  0.003215    0.001301    0.869013\n",
       "7  0.004489    0.001975    0.991297\n",
       "8  0.003040    0.001350    0.946646\n",
       "9  0.003183    0.001377    0.945795"
      ]
     },
     "execution_count": 94,
     "metadata": {},
     "output_type": "execute_result"
    }
   ],
   "source": [
    "pd.DataFrame(scores)"
   ]
  },
  {
   "cell_type": "code",
   "execution_count": 95,
   "id": "f519d93c-9dcf-46ab-a8f4-1ee562349acf",
   "metadata": {},
   "outputs": [
    {
     "data": {
      "text/plain": [
       "0.8848763044944963"
      ]
     },
     "execution_count": 95,
     "metadata": {},
     "output_type": "execute_result"
    }
   ],
   "source": [
    "pd.DataFrame(scores)['test_score'].mean()"
   ]
  },
  {
   "cell_type": "code",
   "execution_count": 96,
   "id": "b3800d37-3c18-4366-9424-1ba5955343cd",
   "metadata": {},
   "outputs": [],
   "source": [
    "param_grid = {\"splitter\":[\"best\", \"random\"],\n",
    "              \"max_depth\": [None, 4, 5, 6, 7 ,8 ,9 ,10, 15, 20],\n",
    "              \"min_samples_leaf\": [1, 2, 3, 4, 5, 6, 7, 10],\n",
    "              \"min_samples_split\": [2, 3, 5, 6, 7, 8, 9, 12, 15]}"
   ]
  },
  {
   "cell_type": "code",
   "execution_count": 97,
   "id": "ffe6c40a-cf1e-4bf7-a9d5-2997cee9e893",
   "metadata": {},
   "outputs": [],
   "source": [
    "grid_dt = GridSearchCV(DecisionTreeRegressor(random_state=42), param_grid=param_grid, n_jobs=-1, cv=10)"
   ]
  },
  {
   "cell_type": "code",
   "execution_count": 98,
   "id": "50dde001-03e7-45e6-963e-5bb9b1b9888e",
   "metadata": {},
   "outputs": [
    {
     "data": {
      "text/plain": [
       "GridSearchCV(cv=10, estimator=DecisionTreeRegressor(random_state=42), n_jobs=-1,\n",
       "             param_grid={'max_depth': [None, 4, 5, 6, 7, 8, 9, 10, 15, 20],\n",
       "                         'min_samples_leaf': [1, 2, 3, 4, 5, 6, 7, 10],\n",
       "                         'min_samples_split': [2, 3, 5, 6, 7, 8, 9, 12, 15],\n",
       "                         'splitter': ['best', 'random']})"
      ]
     },
     "execution_count": 98,
     "metadata": {},
     "output_type": "execute_result"
    }
   ],
   "source": [
    "grid_dt.fit(X_train, y_train)"
   ]
  },
  {
   "cell_type": "code",
   "execution_count": 99,
   "id": "18a44d41-8503-4bc7-aaf6-428b4e163792",
   "metadata": {},
   "outputs": [
    {
     "data": {
      "text/plain": [
       "{'max_depth': 6,\n",
       " 'min_samples_leaf': 1,\n",
       " 'min_samples_split': 2,\n",
       " 'splitter': 'best'}"
      ]
     },
     "execution_count": 99,
     "metadata": {},
     "output_type": "execute_result"
    }
   ],
   "source": [
    "grid_dt.best_params_"
   ]
  },
  {
   "cell_type": "code",
   "execution_count": 100,
   "id": "53a84654-fee2-4b98-bd03-feb5f5c7e0a4",
   "metadata": {},
   "outputs": [
    {
     "data": {
      "text/plain": [
       "0.8947425055441833"
      ]
     },
     "execution_count": 100,
     "metadata": {},
     "output_type": "execute_result"
    }
   ],
   "source": [
    "grid_dt.best_score_"
   ]
  },
  {
   "cell_type": "code",
   "execution_count": 101,
   "id": "b0990aad-967c-4561-8b0e-f3efaf3a0c97",
   "metadata": {},
   "outputs": [],
   "source": [
    "y_pred = grid_dt.predict(X_test)"
   ]
  },
  {
   "cell_type": "code",
   "execution_count": 102,
   "id": "3c83db23-3e82-4d9b-a375-2dfc3d4c077b",
   "metadata": {},
   "outputs": [
    {
     "name": "stdout",
     "output_type": "stream",
     "text": [
      "Model testing performance:\n",
      "--------------------------\n",
      "RMSE is            2.2087744133316836\n",
      "MAE is              1.075789710664087\n",
      "R2 score is         0.8316977023796659\n"
     ]
    }
   ],
   "source": [
    "show_metrics(y_test, y_pred)"
   ]
  },
  {
   "cell_type": "markdown",
   "id": "40f7e90b-10b6-44a4-9668-b10c6a1f2df7",
   "metadata": {},
   "source": [
    "# Random Forest Regressor"
   ]
  },
  {
   "cell_type": "code",
   "execution_count": 103,
   "id": "2748b79f-2779-43e6-a9ae-d4c249a6136f",
   "metadata": {},
   "outputs": [],
   "source": [
    "from sklearn.ensemble import RandomForestRegressor"
   ]
  },
  {
   "cell_type": "code",
   "execution_count": 104,
   "id": "988610e2-985c-4832-bc93-93c3298dbb30",
   "metadata": {},
   "outputs": [],
   "source": [
    "rf = RandomForestRegressor(random_state=42)"
   ]
  },
  {
   "cell_type": "code",
   "execution_count": 105,
   "id": "09ada882-ec90-4a0d-8ad4-788a8227e6f9",
   "metadata": {},
   "outputs": [
    {
     "data": {
      "text/plain": [
       "RandomForestRegressor(random_state=42)"
      ]
     },
     "execution_count": 105,
     "metadata": {},
     "output_type": "execute_result"
    }
   ],
   "source": [
    "rf.fit(X_train, y_train)"
   ]
  },
  {
   "cell_type": "code",
   "execution_count": 106,
   "id": "428ea1ab-541b-48d0-9ff3-c737625c651d",
   "metadata": {},
   "outputs": [],
   "source": [
    "y_pred = rf.predict(X_test)"
   ]
  },
  {
   "cell_type": "code",
   "execution_count": 107,
   "id": "4ddb1ab0-c5c9-45ef-982a-b6ff3bc52982",
   "metadata": {},
   "outputs": [
    {
     "name": "stdout",
     "output_type": "stream",
     "text": [
      "Model testing performance:\n",
      "--------------------------\n",
      "RMSE is            1.7787959586473092\n",
      "MAE is             0.8508350000000002\n",
      "R2 score is         0.8908460170178866\n"
     ]
    }
   ],
   "source": [
    "show_metrics(y_test, y_pred)"
   ]
  },
  {
   "cell_type": "code",
   "execution_count": 108,
   "id": "9d21b173-ea33-4485-b06b-0b195d347818",
   "metadata": {},
   "outputs": [],
   "source": [
    "scores = cross_validate(RandomForestRegressor(random_state=42), X_train, y_train, cv=10, n_jobs=-1)"
   ]
  },
  {
   "cell_type": "code",
   "execution_count": 109,
   "id": "26b312ac-1266-4e6e-896a-5a05265eb800",
   "metadata": {},
   "outputs": [
    {
     "data": {
      "text/html": [
       "<div>\n",
       "<style scoped>\n",
       "    .dataframe tbody tr th:only-of-type {\n",
       "        vertical-align: middle;\n",
       "    }\n",
       "\n",
       "    .dataframe tbody tr th {\n",
       "        vertical-align: top;\n",
       "    }\n",
       "\n",
       "    .dataframe thead th {\n",
       "        text-align: right;\n",
       "    }\n",
       "</style>\n",
       "<table border=\"1\" class=\"dataframe\">\n",
       "  <thead>\n",
       "    <tr style=\"text-align: right;\">\n",
       "      <th></th>\n",
       "      <th>fit_time</th>\n",
       "      <th>score_time</th>\n",
       "      <th>test_score</th>\n",
       "    </tr>\n",
       "  </thead>\n",
       "  <tbody>\n",
       "    <tr>\n",
       "      <th>0</th>\n",
       "      <td>0.118230</td>\n",
       "      <td>0.008021</td>\n",
       "      <td>0.933630</td>\n",
       "    </tr>\n",
       "    <tr>\n",
       "      <th>1</th>\n",
       "      <td>0.117699</td>\n",
       "      <td>0.007754</td>\n",
       "      <td>0.980922</td>\n",
       "    </tr>\n",
       "    <tr>\n",
       "      <th>2</th>\n",
       "      <td>0.117056</td>\n",
       "      <td>0.008057</td>\n",
       "      <td>0.874003</td>\n",
       "    </tr>\n",
       "    <tr>\n",
       "      <th>3</th>\n",
       "      <td>0.117363</td>\n",
       "      <td>0.007908</td>\n",
       "      <td>0.826043</td>\n",
       "    </tr>\n",
       "    <tr>\n",
       "      <th>4</th>\n",
       "      <td>0.116360</td>\n",
       "      <td>0.007746</td>\n",
       "      <td>0.857104</td>\n",
       "    </tr>\n",
       "    <tr>\n",
       "      <th>5</th>\n",
       "      <td>0.117716</td>\n",
       "      <td>0.007923</td>\n",
       "      <td>0.908533</td>\n",
       "    </tr>\n",
       "    <tr>\n",
       "      <th>6</th>\n",
       "      <td>0.119164</td>\n",
       "      <td>0.007931</td>\n",
       "      <td>0.929759</td>\n",
       "    </tr>\n",
       "    <tr>\n",
       "      <th>7</th>\n",
       "      <td>0.118069</td>\n",
       "      <td>0.008045</td>\n",
       "      <td>0.890375</td>\n",
       "    </tr>\n",
       "    <tr>\n",
       "      <th>8</th>\n",
       "      <td>0.116901</td>\n",
       "      <td>0.007714</td>\n",
       "      <td>0.973026</td>\n",
       "    </tr>\n",
       "    <tr>\n",
       "      <th>9</th>\n",
       "      <td>0.117686</td>\n",
       "      <td>0.007916</td>\n",
       "      <td>0.946911</td>\n",
       "    </tr>\n",
       "  </tbody>\n",
       "</table>\n",
       "</div>"
      ],
      "text/plain": [
       "   fit_time  score_time  test_score\n",
       "0  0.118230    0.008021    0.933630\n",
       "1  0.117699    0.007754    0.980922\n",
       "2  0.117056    0.008057    0.874003\n",
       "3  0.117363    0.007908    0.826043\n",
       "4  0.116360    0.007746    0.857104\n",
       "5  0.117716    0.007923    0.908533\n",
       "6  0.119164    0.007931    0.929759\n",
       "7  0.118069    0.008045    0.890375\n",
       "8  0.116901    0.007714    0.973026\n",
       "9  0.117686    0.007916    0.946911"
      ]
     },
     "execution_count": 109,
     "metadata": {},
     "output_type": "execute_result"
    }
   ],
   "source": [
    "pd.DataFrame(scores)"
   ]
  },
  {
   "cell_type": "code",
   "execution_count": 110,
   "id": "adb4d4a0-1b6a-4351-a526-717df669c8f8",
   "metadata": {},
   "outputs": [
    {
     "data": {
      "text/plain": [
       "0.9120306327014779"
      ]
     },
     "execution_count": 110,
     "metadata": {},
     "output_type": "execute_result"
    }
   ],
   "source": [
    "pd.DataFrame(scores)['test_score'].mean()"
   ]
  },
  {
   "cell_type": "code",
   "execution_count": 111,
   "id": "d101cfad-681c-4721-842f-8625bd77e0fb",
   "metadata": {},
   "outputs": [],
   "source": [
    "rf_feature_imp = pd.DataFrame(index = X.columns, data = rf.feature_importances_,\n",
    "                              columns = [\"Feature Importance\"]).sort_values(\"Feature Importance\", ascending = False)"
   ]
  },
  {
   "cell_type": "code",
   "execution_count": 112,
   "id": "d7217e73-5c3d-484b-b7aa-9ba3d8e1fb54",
   "metadata": {},
   "outputs": [
    {
     "data": {
      "image/png": "[encoded data removed]",
      "text/plain": [
       "<Figure size 576x396 with 1 Axes>"
      ]
     },
     "metadata": {},
     "output_type": "display_data"
    }
   ],
   "source": [
    "sns.barplot(x=rf_feature_imp[\"Feature Importance\"], y=rf_feature_imp.index)\n",
    "plt.title(\"Feature Importance\")\n",
    "plt.show()"
   ]
  },
  {
   "cell_type": "code",
   "execution_count": 113,
   "id": "e9f69ffc-2096-475e-82dd-ae9e78ff0e26",
   "metadata": {},
   "outputs": [],
   "source": [
    "param_grid = {\"n_estimators\":[100,300,500, 700, 900],\n",
    "             \"max_depth\":[3,5,7, 9, 11, 13, 15, 17, 21],\n",
    "             \"min_samples_split\":[2,4,6]}"
   ]
  },
  {
   "cell_type": "code",
   "execution_count": 114,
   "id": "60896910-da5c-4bf6-be86-41d6efd12ec4",
   "metadata": {},
   "outputs": [],
   "source": [
    "rf_grid = GridSearchCV(RandomForestRegressor(random_state=42), param_grid=param_grid, cv=10, n_jobs=-1)"
   ]
  },
  {
   "cell_type": "code",
   "execution_count": 115,
   "id": "43bc3b6e-62da-4d31-9f9f-5be96ec137f0",
   "metadata": {},
   "outputs": [
    {
     "data": {
      "text/plain": [
       "GridSearchCV(cv=10, estimator=RandomForestRegressor(random_state=42), n_jobs=-1,\n",
       "             param_grid={'max_depth': [3, 5, 7, 9, 11, 13, 15, 17, 21],\n",
       "                         'min_samples_split': [2, 4, 6],\n",
       "                         'n_estimators': [100, 300, 500, 700, 900]})"
      ]
     },
     "execution_count": 115,
     "metadata": {},
     "output_type": "execute_result"
    }
   ],
   "source": [
    "rf_grid.fit(X_train, y_train)"
   ]
  },
  {
   "cell_type": "code",
   "execution_count": 116,
   "id": "e2aa60e1-8731-4122-bfa2-794d3316c3c0",
   "metadata": {},
   "outputs": [
    {
     "data": {
      "text/plain": [
       "0.915723527340177"
      ]
     },
     "execution_count": 116,
     "metadata": {},
     "output_type": "execute_result"
    }
   ],
   "source": [
    "rf_grid.best_score_"
   ]
  },
  {
   "cell_type": "code",
   "execution_count": 117,
   "id": "0d600e4e-35fb-4799-918b-cde43b85725b",
   "metadata": {},
   "outputs": [
    {
     "data": {
      "text/plain": [
       "{'max_depth': 11, 'min_samples_split': 2, 'n_estimators': 500}"
      ]
     },
     "execution_count": 117,
     "metadata": {},
     "output_type": "execute_result"
    }
   ],
   "source": [
    "rf_grid.best_params_"
   ]
  },
  {
   "cell_type": "code",
   "execution_count": 118,
   "id": "a69b8136-33fd-4783-8eae-4423c6ac3858",
   "metadata": {},
   "outputs": [],
   "source": [
    "cvscores = pd.DataFrame(rf_grid.cv_results_)"
   ]
  },
  {
   "cell_type": "code",
   "execution_count": 119,
   "id": "54388187-59a5-440e-95e9-6b6a3a867496",
   "metadata": {},
   "outputs": [
    {
     "data": {
      "text/plain": [
       "mean_fit_time                                                       0.973101\n",
       "std_fit_time                                                        0.014572\n",
       "mean_score_time                                                      0.06119\n",
       "std_score_time                                                      0.001632\n",
       "param_max_depth                                                           11\n",
       "param_min_samples_split                                                    2\n",
       "param_n_estimators                                                       500\n",
       "params                     {'max_depth': 11, 'min_samples_split': 2, 'n_e...\n",
       "split0_test_score                                                   0.934558\n",
       "split1_test_score                                                   0.982244\n",
       "split2_test_score                                                   0.876512\n",
       "split3_test_score                                                   0.865094\n",
       "split4_test_score                                                    0.85613\n",
       "split5_test_score                                                   0.915756\n",
       "split6_test_score                                                    0.93205\n",
       "split7_test_score                                                   0.881777\n",
       "split8_test_score                                                   0.969577\n",
       "split9_test_score                                                   0.943536\n",
       "mean_test_score                                                     0.915724\n",
       "std_test_score                                                      0.041862\n",
       "rank_test_score                                                            1\n",
       "Name: 62, dtype: object"
      ]
     },
     "execution_count": 119,
     "metadata": {},
     "output_type": "execute_result"
    }
   ],
   "source": [
    "cvscores.iloc[rf_grid.best_index_]"
   ]
  },
  {
   "cell_type": "markdown",
   "id": "94d14fc6-6933-4c39-8aff-8ba8dae64e46",
   "metadata": {},
   "source": [
    "# AdaBoost, GradientBoost, XGBoost Regressor"
   ]
  },
  {
   "cell_type": "code",
   "execution_count": 120,
   "id": "96580a83-028f-4631-879e-3f2a5d21cb12",
   "metadata": {},
   "outputs": [],
   "source": [
    "from sklearn.ensemble import AdaBoostRegressor, GradientBoostingRegressor"
   ]
  },
  {
   "cell_type": "code",
   "execution_count": 121,
   "id": "5df474a9-299b-4019-9401-9781d56221c2",
   "metadata": {},
   "outputs": [],
   "source": [
    "from xgboost import XGBRegressor"
   ]
  },
  {
   "cell_type": "code",
   "execution_count": 122,
   "id": "d153e69f-dcf1-4788-8067-ad7b963f226e",
   "metadata": {},
   "outputs": [],
   "source": [
    "model = AdaBoostRegressor(random_state=101)"
   ]
  },
  {
   "cell_type": "code",
   "execution_count": 123,
   "id": "07fa4538-1772-4616-82c8-e69ce050a3e0",
   "metadata": {},
   "outputs": [
    {
     "data": {
      "text/plain": [
       "AdaBoostRegressor(random_state=101)"
      ]
     },
     "execution_count": 123,
     "metadata": {},
     "output_type": "execute_result"
    }
   ],
   "source": [
    "model.fit(X_train, y_train)"
   ]
  },
  {
   "cell_type": "code",
   "execution_count": 124,
   "id": "386fcbbb-59d7-4f6f-a85c-51b8c2d89988",
   "metadata": {},
   "outputs": [],
   "source": [
    "y_pred = model.predict(X_test)"
   ]
  },
  {
   "cell_type": "code",
   "execution_count": 125,
   "id": "ee8ca637-57c7-498d-bf27-ad1acf9a8e40",
   "metadata": {},
   "outputs": [
    {
     "name": "stdout",
     "output_type": "stream",
     "text": [
      "Model testing performance:\n",
      "--------------------------\n",
      "RMSE is            1.9079241436514156\n",
      "MAE is             0.9750849721227819\n",
      "R2 score is          0.874423166757099\n"
     ]
    }
   ],
   "source": [
    "show_metrics(y_test, y_pred)"
   ]
  },
  {
   "cell_type": "code",
   "execution_count": 126,
   "id": "ad5e8f01-ae5f-44be-8ef0-085808dbd5d9",
   "metadata": {},
   "outputs": [
    {
     "data": {
      "text/plain": [
       "0.9729587038001736"
      ]
     },
     "execution_count": 126,
     "metadata": {},
     "output_type": "execute_result"
    }
   ],
   "source": [
    "model.score(X_train, y_train)"
   ]
  },
  {
   "cell_type": "code",
   "execution_count": 127,
   "id": "b0fef57a-6c81-4044-946a-948c73735867",
   "metadata": {},
   "outputs": [],
   "source": [
    "model = AdaBoostRegressor(random_state=101)\n",
    "scores = cross_validate(model, X_train, y_train, cv =10)"
   ]
  },
  {
   "cell_type": "code",
   "execution_count": 128,
   "id": "8068da6c-6de4-4737-be6a-193a2e501d70",
   "metadata": {},
   "outputs": [
    {
     "data": {
      "text/plain": [
       "0.8244179227605652"
      ]
     },
     "execution_count": 128,
     "metadata": {},
     "output_type": "execute_result"
    }
   ],
   "source": [
    "pd.DataFrame(scores)['test_score'].mean()"
   ]
  },
  {
   "cell_type": "code",
   "execution_count": 129,
   "id": "ccc6fc91-e980-4f67-aca6-455ceaeddc4d",
   "metadata": {},
   "outputs": [],
   "source": [
    "param_grid = {\"n_estimators\":[10, 30, 50, 100, 200, 300, 400, 500, 600],\n",
    "              \"learning_rate\":[0.1, 0.5, 0.8, 1, 1.5, 2, 2.5, 3, 3.5]}"
   ]
  },
  {
   "cell_type": "code",
   "execution_count": 130,
   "id": "04554ef2-f291-45b8-89b6-4fa853dbbf70",
   "metadata": {},
   "outputs": [],
   "source": [
    "grid_ada = GridSearchCV(AdaBoostRegressor(random_state=42),param_grid=param_grid, cv=10, n_jobs=-1)"
   ]
  },
  {
   "cell_type": "code",
   "execution_count": 131,
   "id": "a86626e9-a8f8-4e25-a41d-ec2db9fd767a",
   "metadata": {},
   "outputs": [
    {
     "data": {
      "text/plain": [
       "GridSearchCV(cv=10, estimator=AdaBoostRegressor(random_state=42), n_jobs=-1,\n",
       "             param_grid={'learning_rate': [0.1, 0.5, 0.8, 1, 1.5, 2, 2.5, 3,\n",
       "                                           3.5],\n",
       "                         'n_estimators': [10, 30, 50, 100, 200, 300, 400, 500,\n",
       "                                          600]})"
      ]
     },
     "execution_count": 131,
     "metadata": {},
     "output_type": "execute_result"
    }
   ],
   "source": [
    "grid_ada.fit(X_train, y_train)"
   ]
  },
  {
   "cell_type": "code",
   "execution_count": 132,
   "id": "c9ebb721-e02f-4099-917b-d0ed9b8ca6ca",
   "metadata": {},
   "outputs": [
    {
     "data": {
      "text/plain": [
       "0.8336474223974705"
      ]
     },
     "execution_count": 132,
     "metadata": {},
     "output_type": "execute_result"
    }
   ],
   "source": [
    "grid_ada.best_score_"
   ]
  },
  {
   "cell_type": "code",
   "execution_count": 133,
   "id": "3afa588f-597f-4825-8970-48450a33354e",
   "metadata": {},
   "outputs": [
    {
     "data": {
      "text/plain": [
       "{'learning_rate': 2, 'n_estimators': 50}"
      ]
     },
     "execution_count": 133,
     "metadata": {},
     "output_type": "execute_result"
    }
   ],
   "source": [
    "grid_ada.best_params_"
   ]
  },
  {
   "cell_type": "code",
   "execution_count": 134,
   "id": "9fcc177b-f84b-491e-8e1f-0ff90ea52a0d",
   "metadata": {},
   "outputs": [],
   "source": [
    "model = GradientBoostingRegressor(random_state=101)"
   ]
  },
  {
   "cell_type": "code",
   "execution_count": 135,
   "id": "6d58f89b-c611-4962-846d-c2c0e6d7f56d",
   "metadata": {},
   "outputs": [
    {
     "data": {
      "text/plain": [
       "GradientBoostingRegressor(random_state=101)"
      ]
     },
     "execution_count": 135,
     "metadata": {},
     "output_type": "execute_result"
    }
   ],
   "source": [
    "model.fit(X_train, y_train)"
   ]
  },
  {
   "cell_type": "code",
   "execution_count": 136,
   "id": "d2c2d277-0cff-4ea6-a9eb-6ff6e03ae8cf",
   "metadata": {},
   "outputs": [],
   "source": [
    "y_pred = model.predict(X_test)"
   ]
  },
  {
   "cell_type": "code",
   "execution_count": 137,
   "id": "046107f1-b231-42dd-ad0e-d2c48f39f6e5",
   "metadata": {},
   "outputs": [
    {
     "data": {
      "text/plain": [
       "0.9964886722758032"
      ]
     },
     "execution_count": 137,
     "metadata": {},
     "output_type": "execute_result"
    }
   ],
   "source": [
    "model.score(X_train, y_train)"
   ]
  },
  {
   "cell_type": "code",
   "execution_count": 138,
   "id": "448c7e5c-a663-4c31-b409-b003db0fed0e",
   "metadata": {},
   "outputs": [
    {
     "data": {
      "text/plain": [
       "0.9327029333700011"
      ]
     },
     "execution_count": 138,
     "metadata": {},
     "output_type": "execute_result"
    }
   ],
   "source": [
    "model.score(X_test, y_test)"
   ]
  },
  {
   "cell_type": "code",
   "execution_count": 139,
   "id": "03b4cb34-6115-482f-8795-59aec1acfb57",
   "metadata": {},
   "outputs": [
    {
     "name": "stdout",
     "output_type": "stream",
     "text": [
      "Model testing performance:\n",
      "--------------------------\n",
      "RMSE is            1.3967040984294812\n",
      "MAE is             0.7105904042714664\n",
      "R2 score is         0.9327029333700011\n"
     ]
    }
   ],
   "source": [
    "show_metrics(y_test, y_pred)"
   ]
  },
  {
   "cell_type": "code",
   "execution_count": 140,
   "id": "ad08b95c-d058-4be4-a59e-db43bda53afd",
   "metadata": {},
   "outputs": [],
   "source": [
    "param_grid = {\"n_estimators\":[100, 200, 300], \"subsample\":[0.5, 0.8, 1], \"max_features\" : [None, 2, 3, 4],\n",
    "            \"learning_rate\": [0.001, 0.01, 0.1, 0.5, 0.7, 1, 1.2], 'max_depth':[2,3,4,5]}"
   ]
  },
  {
   "cell_type": "code",
   "execution_count": 141,
   "id": "da8b5312-3854-4ea8-b7af-63e44258a0b2",
   "metadata": {},
   "outputs": [],
   "source": [
    "model = GradientBoostingRegressor(random_state=101)\n",
    "grid_model = GridSearchCV(estimator=model,\n",
    "                          param_grid=param_grid,\n",
    "                          cv=10,\n",
    "                          n_jobs = -1)"
   ]
  },
  {
   "cell_type": "code",
   "execution_count": 142,
   "id": "2456c16a-01de-4b77-87da-46aee71544b9",
   "metadata": {},
   "outputs": [
    {
     "data": {
      "text/plain": [
       "GridSearchCV(cv=10, estimator=GradientBoostingRegressor(random_state=101),\n",
       "             n_jobs=-1,\n",
       "             param_grid={'learning_rate': [0.001, 0.01, 0.1, 0.5, 0.7, 1, 1.2],\n",
       "                         'max_depth': [2, 3, 4, 5],\n",
       "                         'max_features': [None, 2, 3, 4],\n",
       "                         'n_estimators': [100, 200, 300],\n",
       "                         'subsample': [0.5, 0.8, 1]})"
      ]
     },
     "execution_count": 142,
     "metadata": {},
     "output_type": "execute_result"
    }
   ],
   "source": [
    "grid_model.fit(X_train, y_train)"
   ]
  },
  {
   "cell_type": "code",
   "execution_count": 143,
   "id": "ebff137f-3b7d-4182-a682-f0b2885e5368",
   "metadata": {},
   "outputs": [
    {
     "data": {
      "text/plain": [
       "{'learning_rate': 0.1,\n",
       " 'max_depth': 4,\n",
       " 'max_features': None,\n",
       " 'n_estimators': 100,\n",
       " 'subsample': 0.5}"
      ]
     },
     "execution_count": 143,
     "metadata": {},
     "output_type": "execute_result"
    }
   ],
   "source": [
    "grid_model.best_params_"
   ]
  },
  {
   "cell_type": "code",
   "execution_count": 144,
   "id": "5145024c-f5dd-4fbd-9024-e3d2d22a0a9e",
   "metadata": {},
   "outputs": [
    {
     "data": {
      "text/plain": [
       "0.9388448998769976"
      ]
     },
     "execution_count": 144,
     "metadata": {},
     "output_type": "execute_result"
    }
   ],
   "source": [
    "grid_model.best_score_"
   ]
  },
  {
   "cell_type": "code",
   "execution_count": 145,
   "id": "591b90e3-d2c5-4137-aa7d-be8f3c569ba1",
   "metadata": {},
   "outputs": [],
   "source": [
    "model = XGBRegressor(random_state=101)"
   ]
  },
  {
   "cell_type": "code",
   "execution_count": 146,
   "id": "2e17aecf-8726-496b-a218-fa5903238669",
   "metadata": {},
   "outputs": [
    {
     "data": {
      "text/plain": [
       "XGBRegressor(base_score=0.5, booster='gbtree', colsample_bylevel=1,\n",
       "             colsample_bynode=1, colsample_bytree=1, enable_categorical=False,\n",
       "             gamma=0, gpu_id=-1, importance_type=None,\n",
       "             interaction_constraints='', learning_rate=0.300000012,\n",
       "             max_delta_step=0, max_depth=6, min_child_weight=1, missing=nan,\n",
       "             monotone_constraints='()', n_estimators=100, n_jobs=64,\n",
       "             num_parallel_tree=1, predictor='auto', random_state=101,\n",
       "             reg_alpha=0, reg_lambda=1, scale_pos_weight=1, subsample=1,\n",
       "             tree_method='exact', validate_parameters=1, verbosity=None)"
      ]
     },
     "execution_count": 146,
     "metadata": {},
     "output_type": "execute_result"
    }
   ],
   "source": [
    "model.fit(X_train, y_train)"
   ]
  },
  {
   "cell_type": "code",
   "execution_count": 148,
   "id": "cadf921a-3f0a-442b-b624-82562c334ae1",
   "metadata": {},
   "outputs": [
    {
     "data": {
      "text/plain": [
       "0.9999939549267836"
      ]
     },
     "execution_count": 148,
     "metadata": {},
     "output_type": "execute_result"
    }
   ],
   "source": [
    "model.score(X_train, y_train)"
   ]
  },
  {
   "cell_type": "code",
   "execution_count": 149,
   "id": "95f0512e-4467-4070-97fd-c786cde27591",
   "metadata": {},
   "outputs": [
    {
     "data": {
      "text/plain": [
       "0.9022317808226649"
      ]
     },
     "execution_count": 149,
     "metadata": {},
     "output_type": "execute_result"
    }
   ],
   "source": [
    "model.score(X_test, y_test)"
   ]
  },
  {
   "cell_type": "code",
   "execution_count": 150,
   "id": "2084ee8c-3690-41e9-8ae4-f5c4831d1189",
   "metadata": {},
   "outputs": [],
   "source": [
    "param_grid = {\"n_estimators\":[100, 300, 500],'max_depth':[3,5,6,7], \"learning_rate\": [0.05, 0.1, 0.2],\n",
    "             \"subsample\":[0.5, 1], \"colsample_bytree\":[0.5, 1]}"
   ]
  },
  {
   "cell_type": "code",
   "execution_count": 151,
   "id": "202634af-8bfb-42bf-9b2d-a69aaecfa83f",
   "metadata": {},
   "outputs": [],
   "source": [
    "model = XGBRegressor(random_state=101, silent=True)\n",
    "grid_model = GridSearchCV(estimator=model,\n",
    "                          param_grid=param_grid,\n",
    "                          cv=10,\n",
    "                          n_jobs = -1)"
   ]
  },
  {
   "cell_type": "code",
   "execution_count": null,
   "id": "0571e618-7c8c-4683-b210-cdcef362274a",
   "metadata": {},
   "outputs": [],
   "source": [
    "grid_model.fit(X_train, y_train)"
   ]
  },
  {
   "cell_type": "code",
   "execution_count": null,
   "id": "7d4f8e6a-1c71-45f6-917f-a8d523092821",
   "metadata": {},
   "outputs": [],
   "source": []
  }
 ],
 "metadata": {
  "environment": {
   "kernel": "intelml",
   "name": "common-cpu.m82",
   "type": "gcloud",
   "uri": "gcr.io/deeplearning-platform-release/base-cpu:m82"
  },
  "kernelspec": {
   "display_name": "Python 3",
   "language": "python",
   "name": "python3"
  },
  "language_info": {
   "codemirror_mode": {
    "name": "ipython",
    "version": 3
   },
   "file_extension": ".py",
   "mimetype": "text/x-python",
   "name": "python",
   "nbconvert_exporter": "python",
   "pygments_lexer": "ipython3",
   "version": "3.8.8"
  }
 },
 "nbformat": 4,
 "nbformat_minor": 5
}
