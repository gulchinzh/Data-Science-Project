{
 "cells": [
  {
   "cell_type": "code",
   "execution_count": 2,
   "id": "e7c58080",
   "metadata": {},
   "outputs": [],
   "source": [
    "import numpy as np\n",
    "import pandas as pd\n",
    "import matplotlib.pyplot as plt\n",
    "import seaborn as sns\n",
    "\n",
    "\n",
    "from sklearn.preprocessing import PolynomialFeatures\n",
    "from sklearn.model_selection import train_test_split, cross_validate, cross_val_score, GridSearchCV\n",
    "from sklearn.preprocessing import StandardScaler, MinMaxScaler, RobustScaler\n",
    "from sklearn.linear_model import LinearRegression, Ridge, RidgeCV, Lasso, LassoCV, ElasticNet, ElasticNetCV\n",
    "from sklearn.metrics import mean_absolute_error, mean_squared_error, r2_score"
   ]
  },
  {
   "cell_type": "code",
   "execution_count": 4,
   "id": "1c1aa04c",
   "metadata": {},
   "outputs": [],
   "source": [
    "df = pd.read_csv('final_scout_not_dummy.csv')"
   ]
  },
  {
   "cell_type": "code",
   "execution_count": 8,
   "id": "a1c363df",
   "metadata": {},
   "outputs": [
    {
     "data": {
      "text/html": [
       "<div>\n",
       "<style scoped>\n",
       "    .dataframe tbody tr th:only-of-type {\n",
       "        vertical-align: middle;\n",
       "    }\n",
       "\n",
       "    .dataframe tbody tr th {\n",
       "        vertical-align: top;\n",
       "    }\n",
       "\n",
       "    .dataframe thead th {\n",
       "        text-align: right;\n",
       "    }\n",
       "</style>\n",
       "<table border=\"1\" class=\"dataframe\">\n",
       "  <thead>\n",
       "    <tr style=\"text-align: right;\">\n",
       "      <th></th>\n",
       "      <th>0</th>\n",
       "      <th>1</th>\n",
       "      <th>2</th>\n",
       "      <th>3</th>\n",
       "      <th>4</th>\n",
       "      <th>5</th>\n",
       "      <th>6</th>\n",
       "      <th>7</th>\n",
       "      <th>8</th>\n",
       "      <th>9</th>\n",
       "    </tr>\n",
       "  </thead>\n",
       "  <tbody>\n",
       "    <tr>\n",
       "      <th>make_model</th>\n",
       "      <td>Audi A1</td>\n",
       "      <td>Audi A1</td>\n",
       "      <td>Audi A1</td>\n",
       "      <td>Audi A1</td>\n",
       "      <td>Audi A1</td>\n",
       "      <td>Audi A1</td>\n",
       "      <td>Audi A1</td>\n",
       "      <td>Audi A1</td>\n",
       "      <td>Audi A1</td>\n",
       "      <td>Audi A1</td>\n",
       "    </tr>\n",
       "    <tr>\n",
       "      <th>body_type</th>\n",
       "      <td>Sedans</td>\n",
       "      <td>Sedans</td>\n",
       "      <td>Sedans</td>\n",
       "      <td>Sedans</td>\n",
       "      <td>Sedans</td>\n",
       "      <td>Sedans</td>\n",
       "      <td>Station wagon</td>\n",
       "      <td>Compact</td>\n",
       "      <td>Sedans</td>\n",
       "      <td>Sedans</td>\n",
       "    </tr>\n",
       "    <tr>\n",
       "      <th>price</th>\n",
       "      <td>15770</td>\n",
       "      <td>14500</td>\n",
       "      <td>14640</td>\n",
       "      <td>14500</td>\n",
       "      <td>16790</td>\n",
       "      <td>15090</td>\n",
       "      <td>16422</td>\n",
       "      <td>14480</td>\n",
       "      <td>16700</td>\n",
       "      <td>17990</td>\n",
       "    </tr>\n",
       "    <tr>\n",
       "      <th>vat</th>\n",
       "      <td>VAT deductible</td>\n",
       "      <td>Price negotiable</td>\n",
       "      <td>VAT deductible</td>\n",
       "      <td>VAT deductible</td>\n",
       "      <td>VAT deductible</td>\n",
       "      <td>VAT deductible</td>\n",
       "      <td>VAT deductible</td>\n",
       "      <td>VAT deductible</td>\n",
       "      <td>VAT deductible</td>\n",
       "      <td>VAT deductible</td>\n",
       "    </tr>\n",
       "    <tr>\n",
       "      <th>km</th>\n",
       "      <td>56013.0</td>\n",
       "      <td>80000.0</td>\n",
       "      <td>83450.0</td>\n",
       "      <td>73000.0</td>\n",
       "      <td>16200.0</td>\n",
       "      <td>63668.0</td>\n",
       "      <td>62111.0</td>\n",
       "      <td>14986.0</td>\n",
       "      <td>57000.0</td>\n",
       "      <td>16103.0</td>\n",
       "    </tr>\n",
       "    <tr>\n",
       "      <th>Type</th>\n",
       "      <td>Used</td>\n",
       "      <td>Used</td>\n",
       "      <td>Used</td>\n",
       "      <td>Used</td>\n",
       "      <td>Used</td>\n",
       "      <td>Used</td>\n",
       "      <td>Used</td>\n",
       "      <td>Used</td>\n",
       "      <td>Used</td>\n",
       "      <td>Used</td>\n",
       "    </tr>\n",
       "    <tr>\n",
       "      <th>Fuel</th>\n",
       "      <td>Diesel</td>\n",
       "      <td>Benzine</td>\n",
       "      <td>Diesel</td>\n",
       "      <td>Diesel</td>\n",
       "      <td>Diesel</td>\n",
       "      <td>Diesel</td>\n",
       "      <td>Diesel</td>\n",
       "      <td>Diesel</td>\n",
       "      <td>Diesel</td>\n",
       "      <td>Benzine</td>\n",
       "    </tr>\n",
       "    <tr>\n",
       "      <th>Gears</th>\n",
       "      <td>7.0</td>\n",
       "      <td>7.0</td>\n",
       "      <td>7.0</td>\n",
       "      <td>6.0</td>\n",
       "      <td>7.0</td>\n",
       "      <td>7.0</td>\n",
       "      <td>7.0</td>\n",
       "      <td>7.0</td>\n",
       "      <td>7.0</td>\n",
       "      <td>7.0</td>\n",
       "    </tr>\n",
       "    <tr>\n",
       "      <th>Comfort_Convenience</th>\n",
       "      <td>Air conditioning,Armrest,Automatic climate con...</td>\n",
       "      <td>Air conditioning,Automatic climate control,Hil...</td>\n",
       "      <td>Air conditioning,Cruise control,Electrical sid...</td>\n",
       "      <td>Air suspension,Armrest,Auxiliary heating,Elect...</td>\n",
       "      <td>Air conditioning,Armrest,Automatic climate con...</td>\n",
       "      <td>Air conditioning,Armrest,Automatic climate con...</td>\n",
       "      <td>Air conditioning,Armrest,Automatic climate con...</td>\n",
       "      <td>Air conditioning,Armrest,Electrical side mirro...</td>\n",
       "      <td>Air conditioning,Power windows</td>\n",
       "      <td>Air conditioning,Armrest,Automatic climate con...</td>\n",
       "    </tr>\n",
       "    <tr>\n",
       "      <th>Entertainment_Media</th>\n",
       "      <td>Bluetooth,Hands-free equipment,On-board comput...</td>\n",
       "      <td>Bluetooth,Hands-free equipment,On-board comput...</td>\n",
       "      <td>MP3,On-board computer</td>\n",
       "      <td>Bluetooth,CD player,Hands-free equipment,MP3,O...</td>\n",
       "      <td>Bluetooth,CD player,Hands-free equipment,MP3,O...</td>\n",
       "      <td>Bluetooth,Hands-free equipment,On-board comput...</td>\n",
       "      <td>Bluetooth,CD player,Hands-free equipment,On-bo...</td>\n",
       "      <td>CD player,MP3,Radio</td>\n",
       "      <td>Radio</td>\n",
       "      <td>Radio</td>\n",
       "    </tr>\n",
       "    <tr>\n",
       "      <th>Extras</th>\n",
       "      <td>Alloy wheels,Catalytic Converter,Voice Control</td>\n",
       "      <td>Alloy wheels,Sport seats,Sport suspension,Voic...</td>\n",
       "      <td>Alloy wheels,Voice Control</td>\n",
       "      <td>Alloy wheels,Sport seats,Voice Control</td>\n",
       "      <td>Alloy wheels,Sport package,Sport suspension,Vo...</td>\n",
       "      <td>Alloy wheels,Sport package,Sport seats,Sport s...</td>\n",
       "      <td>Alloy wheels,Sport package,Sport seats,Sport s...</td>\n",
       "      <td>Alloy wheels</td>\n",
       "      <td>Alloy wheels</td>\n",
       "      <td>Alloy wheels</td>\n",
       "    </tr>\n",
       "    <tr>\n",
       "      <th>Safety_Security</th>\n",
       "      <td>ABS,Central door lock,Daytime running lights,D...</td>\n",
       "      <td>ABS,Central door lock,Central door lock with r...</td>\n",
       "      <td>ABS,Central door lock,Daytime running lights,D...</td>\n",
       "      <td>ABS,Alarm system,Central door lock with remote...</td>\n",
       "      <td>ABS,Central door lock,Driver-side airbag,Elect...</td>\n",
       "      <td>ABS,Central door lock,Daytime running lights,D...</td>\n",
       "      <td>ABS,Central door lock,Daytime running lights,D...</td>\n",
       "      <td>ABS,Central door lock,Daytime running lights,D...</td>\n",
       "      <td>ABS,Central door lock,Driver-side airbag,Elect...</td>\n",
       "      <td>ABS,Central door lock,Daytime running lights,D...</td>\n",
       "    </tr>\n",
       "    <tr>\n",
       "      <th>age</th>\n",
       "      <td>3.0</td>\n",
       "      <td>2.0</td>\n",
       "      <td>3.0</td>\n",
       "      <td>3.0</td>\n",
       "      <td>3.0</td>\n",
       "      <td>3.0</td>\n",
       "      <td>3.0</td>\n",
       "      <td>3.0</td>\n",
       "      <td>3.0</td>\n",
       "      <td>2.0</td>\n",
       "    </tr>\n",
       "    <tr>\n",
       "      <th>Previous_Owners</th>\n",
       "      <td>2.0</td>\n",
       "      <td>1.0</td>\n",
       "      <td>1.0</td>\n",
       "      <td>1.0</td>\n",
       "      <td>1.0</td>\n",
       "      <td>1.0</td>\n",
       "      <td>1.0</td>\n",
       "      <td>1.0</td>\n",
       "      <td>1.0</td>\n",
       "      <td>1.0</td>\n",
       "    </tr>\n",
       "    <tr>\n",
       "      <th>hp_kW</th>\n",
       "      <td>66.0</td>\n",
       "      <td>141.0</td>\n",
       "      <td>85.0</td>\n",
       "      <td>66.0</td>\n",
       "      <td>66.0</td>\n",
       "      <td>85.0</td>\n",
       "      <td>85.0</td>\n",
       "      <td>66.0</td>\n",
       "      <td>85.0</td>\n",
       "      <td>70.0</td>\n",
       "    </tr>\n",
       "    <tr>\n",
       "      <th>Inspection_new</th>\n",
       "      <td>1</td>\n",
       "      <td>0</td>\n",
       "      <td>0</td>\n",
       "      <td>0</td>\n",
       "      <td>1</td>\n",
       "      <td>0</td>\n",
       "      <td>1</td>\n",
       "      <td>1</td>\n",
       "      <td>0</td>\n",
       "      <td>0</td>\n",
       "    </tr>\n",
       "    <tr>\n",
       "      <th>Paint_Type</th>\n",
       "      <td>Metallic</td>\n",
       "      <td>Metallic</td>\n",
       "      <td>Metallic</td>\n",
       "      <td>Metallic</td>\n",
       "      <td>Metallic</td>\n",
       "      <td>Metallic</td>\n",
       "      <td>Metallic</td>\n",
       "      <td>Metallic</td>\n",
       "      <td>Metallic</td>\n",
       "      <td>Metallic</td>\n",
       "    </tr>\n",
       "    <tr>\n",
       "      <th>Upholstery_type</th>\n",
       "      <td>Cloth</td>\n",
       "      <td>Cloth</td>\n",
       "      <td>Cloth</td>\n",
       "      <td>Cloth</td>\n",
       "      <td>Cloth</td>\n",
       "      <td>Part/Full Leather</td>\n",
       "      <td>Part/Full Leather</td>\n",
       "      <td>Cloth</td>\n",
       "      <td>Cloth</td>\n",
       "      <td>Cloth</td>\n",
       "    </tr>\n",
       "    <tr>\n",
       "      <th>Gearing_Type</th>\n",
       "      <td>Automatic</td>\n",
       "      <td>Automatic</td>\n",
       "      <td>Automatic</td>\n",
       "      <td>Automatic</td>\n",
       "      <td>Automatic</td>\n",
       "      <td>Automatic</td>\n",
       "      <td>Automatic</td>\n",
       "      <td>Automatic</td>\n",
       "      <td>Automatic</td>\n",
       "      <td>Automatic</td>\n",
       "    </tr>\n",
       "    <tr>\n",
       "      <th>Displacement_cc</th>\n",
       "      <td>1422.0</td>\n",
       "      <td>1798.0</td>\n",
       "      <td>1598.0</td>\n",
       "      <td>1422.0</td>\n",
       "      <td>1422.0</td>\n",
       "      <td>1598.0</td>\n",
       "      <td>1598.0</td>\n",
       "      <td>1422.0</td>\n",
       "      <td>1598.0</td>\n",
       "      <td>999.0</td>\n",
       "    </tr>\n",
       "    <tr>\n",
       "      <th>Weight_kg</th>\n",
       "      <td>1220.0</td>\n",
       "      <td>1255.0</td>\n",
       "      <td>1135.0</td>\n",
       "      <td>1195.0</td>\n",
       "      <td>1135.0</td>\n",
       "      <td>1135.0</td>\n",
       "      <td>1195.0</td>\n",
       "      <td>1180.0</td>\n",
       "      <td>1275.0</td>\n",
       "      <td>1135.0</td>\n",
       "    </tr>\n",
       "    <tr>\n",
       "      <th>Drive_chain</th>\n",
       "      <td>front</td>\n",
       "      <td>front</td>\n",
       "      <td>front</td>\n",
       "      <td>front</td>\n",
       "      <td>front</td>\n",
       "      <td>front</td>\n",
       "      <td>front</td>\n",
       "      <td>front</td>\n",
       "      <td>front</td>\n",
       "      <td>front</td>\n",
       "    </tr>\n",
       "    <tr>\n",
       "      <th>cons_comb</th>\n",
       "      <td>3.8</td>\n",
       "      <td>5.6</td>\n",
       "      <td>3.8</td>\n",
       "      <td>3.8</td>\n",
       "      <td>4.1</td>\n",
       "      <td>3.5</td>\n",
       "      <td>3.7</td>\n",
       "      <td>3.7</td>\n",
       "      <td>3.7</td>\n",
       "      <td>4.2</td>\n",
       "    </tr>\n",
       "  </tbody>\n",
       "</table>\n",
       "</div>"
      ],
      "text/plain": [
       "                                                                     0  \\\n",
       "make_model                                                     Audi A1   \n",
       "body_type                                                       Sedans   \n",
       "price                                                            15770   \n",
       "vat                                                     VAT deductible   \n",
       "km                                                             56013.0   \n",
       "Type                                                              Used   \n",
       "Fuel                                                            Diesel   \n",
       "Gears                                                              7.0   \n",
       "Comfort_Convenience  Air conditioning,Armrest,Automatic climate con...   \n",
       "Entertainment_Media  Bluetooth,Hands-free equipment,On-board comput...   \n",
       "Extras                  Alloy wheels,Catalytic Converter,Voice Control   \n",
       "Safety_Security      ABS,Central door lock,Daytime running lights,D...   \n",
       "age                                                                3.0   \n",
       "Previous_Owners                                                    2.0   \n",
       "hp_kW                                                             66.0   \n",
       "Inspection_new                                                       1   \n",
       "Paint_Type                                                    Metallic   \n",
       "Upholstery_type                                                  Cloth   \n",
       "Gearing_Type                                                 Automatic   \n",
       "Displacement_cc                                                 1422.0   \n",
       "Weight_kg                                                       1220.0   \n",
       "Drive_chain                                                      front   \n",
       "cons_comb                                                          3.8   \n",
       "\n",
       "                                                                     1  \\\n",
       "make_model                                                     Audi A1   \n",
       "body_type                                                       Sedans   \n",
       "price                                                            14500   \n",
       "vat                                                   Price negotiable   \n",
       "km                                                             80000.0   \n",
       "Type                                                              Used   \n",
       "Fuel                                                           Benzine   \n",
       "Gears                                                              7.0   \n",
       "Comfort_Convenience  Air conditioning,Automatic climate control,Hil...   \n",
       "Entertainment_Media  Bluetooth,Hands-free equipment,On-board comput...   \n",
       "Extras               Alloy wheels,Sport seats,Sport suspension,Voic...   \n",
       "Safety_Security      ABS,Central door lock,Central door lock with r...   \n",
       "age                                                                2.0   \n",
       "Previous_Owners                                                    1.0   \n",
       "hp_kW                                                            141.0   \n",
       "Inspection_new                                                       0   \n",
       "Paint_Type                                                    Metallic   \n",
       "Upholstery_type                                                  Cloth   \n",
       "Gearing_Type                                                 Automatic   \n",
       "Displacement_cc                                                 1798.0   \n",
       "Weight_kg                                                       1255.0   \n",
       "Drive_chain                                                      front   \n",
       "cons_comb                                                          5.6   \n",
       "\n",
       "                                                                     2  \\\n",
       "make_model                                                     Audi A1   \n",
       "body_type                                                       Sedans   \n",
       "price                                                            14640   \n",
       "vat                                                     VAT deductible   \n",
       "km                                                             83450.0   \n",
       "Type                                                              Used   \n",
       "Fuel                                                            Diesel   \n",
       "Gears                                                              7.0   \n",
       "Comfort_Convenience  Air conditioning,Cruise control,Electrical sid...   \n",
       "Entertainment_Media                              MP3,On-board computer   \n",
       "Extras                                      Alloy wheels,Voice Control   \n",
       "Safety_Security      ABS,Central door lock,Daytime running lights,D...   \n",
       "age                                                                3.0   \n",
       "Previous_Owners                                                    1.0   \n",
       "hp_kW                                                             85.0   \n",
       "Inspection_new                                                       0   \n",
       "Paint_Type                                                    Metallic   \n",
       "Upholstery_type                                                  Cloth   \n",
       "Gearing_Type                                                 Automatic   \n",
       "Displacement_cc                                                 1598.0   \n",
       "Weight_kg                                                       1135.0   \n",
       "Drive_chain                                                      front   \n",
       "cons_comb                                                          3.8   \n",
       "\n",
       "                                                                     3  \\\n",
       "make_model                                                     Audi A1   \n",
       "body_type                                                       Sedans   \n",
       "price                                                            14500   \n",
       "vat                                                     VAT deductible   \n",
       "km                                                             73000.0   \n",
       "Type                                                              Used   \n",
       "Fuel                                                            Diesel   \n",
       "Gears                                                              6.0   \n",
       "Comfort_Convenience  Air suspension,Armrest,Auxiliary heating,Elect...   \n",
       "Entertainment_Media  Bluetooth,CD player,Hands-free equipment,MP3,O...   \n",
       "Extras                          Alloy wheels,Sport seats,Voice Control   \n",
       "Safety_Security      ABS,Alarm system,Central door lock with remote...   \n",
       "age                                                                3.0   \n",
       "Previous_Owners                                                    1.0   \n",
       "hp_kW                                                             66.0   \n",
       "Inspection_new                                                       0   \n",
       "Paint_Type                                                    Metallic   \n",
       "Upholstery_type                                                  Cloth   \n",
       "Gearing_Type                                                 Automatic   \n",
       "Displacement_cc                                                 1422.0   \n",
       "Weight_kg                                                       1195.0   \n",
       "Drive_chain                                                      front   \n",
       "cons_comb                                                          3.8   \n",
       "\n",
       "                                                                     4  \\\n",
       "make_model                                                     Audi A1   \n",
       "body_type                                                       Sedans   \n",
       "price                                                            16790   \n",
       "vat                                                     VAT deductible   \n",
       "km                                                             16200.0   \n",
       "Type                                                              Used   \n",
       "Fuel                                                            Diesel   \n",
       "Gears                                                              7.0   \n",
       "Comfort_Convenience  Air conditioning,Armrest,Automatic climate con...   \n",
       "Entertainment_Media  Bluetooth,CD player,Hands-free equipment,MP3,O...   \n",
       "Extras               Alloy wheels,Sport package,Sport suspension,Vo...   \n",
       "Safety_Security      ABS,Central door lock,Driver-side airbag,Elect...   \n",
       "age                                                                3.0   \n",
       "Previous_Owners                                                    1.0   \n",
       "hp_kW                                                             66.0   \n",
       "Inspection_new                                                       1   \n",
       "Paint_Type                                                    Metallic   \n",
       "Upholstery_type                                                  Cloth   \n",
       "Gearing_Type                                                 Automatic   \n",
       "Displacement_cc                                                 1422.0   \n",
       "Weight_kg                                                       1135.0   \n",
       "Drive_chain                                                      front   \n",
       "cons_comb                                                          4.1   \n",
       "\n",
       "                                                                     5  \\\n",
       "make_model                                                     Audi A1   \n",
       "body_type                                                       Sedans   \n",
       "price                                                            15090   \n",
       "vat                                                     VAT deductible   \n",
       "km                                                             63668.0   \n",
       "Type                                                              Used   \n",
       "Fuel                                                            Diesel   \n",
       "Gears                                                              7.0   \n",
       "Comfort_Convenience  Air conditioning,Armrest,Automatic climate con...   \n",
       "Entertainment_Media  Bluetooth,Hands-free equipment,On-board comput...   \n",
       "Extras               Alloy wheels,Sport package,Sport seats,Sport s...   \n",
       "Safety_Security      ABS,Central door lock,Daytime running lights,D...   \n",
       "age                                                                3.0   \n",
       "Previous_Owners                                                    1.0   \n",
       "hp_kW                                                             85.0   \n",
       "Inspection_new                                                       0   \n",
       "Paint_Type                                                    Metallic   \n",
       "Upholstery_type                                      Part/Full Leather   \n",
       "Gearing_Type                                                 Automatic   \n",
       "Displacement_cc                                                 1598.0   \n",
       "Weight_kg                                                       1135.0   \n",
       "Drive_chain                                                      front   \n",
       "cons_comb                                                          3.5   \n",
       "\n",
       "                                                                     6  \\\n",
       "make_model                                                     Audi A1   \n",
       "body_type                                                Station wagon   \n",
       "price                                                            16422   \n",
       "vat                                                     VAT deductible   \n",
       "km                                                             62111.0   \n",
       "Type                                                              Used   \n",
       "Fuel                                                            Diesel   \n",
       "Gears                                                              7.0   \n",
       "Comfort_Convenience  Air conditioning,Armrest,Automatic climate con...   \n",
       "Entertainment_Media  Bluetooth,CD player,Hands-free equipment,On-bo...   \n",
       "Extras               Alloy wheels,Sport package,Sport seats,Sport s...   \n",
       "Safety_Security      ABS,Central door lock,Daytime running lights,D...   \n",
       "age                                                                3.0   \n",
       "Previous_Owners                                                    1.0   \n",
       "hp_kW                                                             85.0   \n",
       "Inspection_new                                                       1   \n",
       "Paint_Type                                                    Metallic   \n",
       "Upholstery_type                                      Part/Full Leather   \n",
       "Gearing_Type                                                 Automatic   \n",
       "Displacement_cc                                                 1598.0   \n",
       "Weight_kg                                                       1195.0   \n",
       "Drive_chain                                                      front   \n",
       "cons_comb                                                          3.7   \n",
       "\n",
       "                                                                     7  \\\n",
       "make_model                                                     Audi A1   \n",
       "body_type                                                      Compact   \n",
       "price                                                            14480   \n",
       "vat                                                     VAT deductible   \n",
       "km                                                             14986.0   \n",
       "Type                                                              Used   \n",
       "Fuel                                                            Diesel   \n",
       "Gears                                                              7.0   \n",
       "Comfort_Convenience  Air conditioning,Armrest,Electrical side mirro...   \n",
       "Entertainment_Media                                CD player,MP3,Radio   \n",
       "Extras                                                    Alloy wheels   \n",
       "Safety_Security      ABS,Central door lock,Daytime running lights,D...   \n",
       "age                                                                3.0   \n",
       "Previous_Owners                                                    1.0   \n",
       "hp_kW                                                             66.0   \n",
       "Inspection_new                                                       1   \n",
       "Paint_Type                                                    Metallic   \n",
       "Upholstery_type                                                  Cloth   \n",
       "Gearing_Type                                                 Automatic   \n",
       "Displacement_cc                                                 1422.0   \n",
       "Weight_kg                                                       1180.0   \n",
       "Drive_chain                                                      front   \n",
       "cons_comb                                                          3.7   \n",
       "\n",
       "                                                                     8  \\\n",
       "make_model                                                     Audi A1   \n",
       "body_type                                                       Sedans   \n",
       "price                                                            16700   \n",
       "vat                                                     VAT deductible   \n",
       "km                                                             57000.0   \n",
       "Type                                                              Used   \n",
       "Fuel                                                            Diesel   \n",
       "Gears                                                              7.0   \n",
       "Comfort_Convenience                     Air conditioning,Power windows   \n",
       "Entertainment_Media                                              Radio   \n",
       "Extras                                                    Alloy wheels   \n",
       "Safety_Security      ABS,Central door lock,Driver-side airbag,Elect...   \n",
       "age                                                                3.0   \n",
       "Previous_Owners                                                    1.0   \n",
       "hp_kW                                                             85.0   \n",
       "Inspection_new                                                       0   \n",
       "Paint_Type                                                    Metallic   \n",
       "Upholstery_type                                                  Cloth   \n",
       "Gearing_Type                                                 Automatic   \n",
       "Displacement_cc                                                 1598.0   \n",
       "Weight_kg                                                       1275.0   \n",
       "Drive_chain                                                      front   \n",
       "cons_comb                                                          3.7   \n",
       "\n",
       "                                                                     9  \n",
       "make_model                                                     Audi A1  \n",
       "body_type                                                       Sedans  \n",
       "price                                                            17990  \n",
       "vat                                                     VAT deductible  \n",
       "km                                                             16103.0  \n",
       "Type                                                              Used  \n",
       "Fuel                                                           Benzine  \n",
       "Gears                                                              7.0  \n",
       "Comfort_Convenience  Air conditioning,Armrest,Automatic climate con...  \n",
       "Entertainment_Media                                              Radio  \n",
       "Extras                                                    Alloy wheels  \n",
       "Safety_Security      ABS,Central door lock,Daytime running lights,D...  \n",
       "age                                                                2.0  \n",
       "Previous_Owners                                                    1.0  \n",
       "hp_kW                                                             70.0  \n",
       "Inspection_new                                                       0  \n",
       "Paint_Type                                                    Metallic  \n",
       "Upholstery_type                                                  Cloth  \n",
       "Gearing_Type                                                 Automatic  \n",
       "Displacement_cc                                                  999.0  \n",
       "Weight_kg                                                       1135.0  \n",
       "Drive_chain                                                      front  \n",
       "cons_comb                                                          4.2  "
      ]
     },
     "execution_count": 8,
     "metadata": {},
     "output_type": "execute_result"
    }
   ],
   "source": [
    "df.head(10).T"
   ]
  },
  {
   "cell_type": "code",
   "execution_count": 9,
   "id": "76ff3b89",
   "metadata": {},
   "outputs": [
    {
     "name": "stdout",
     "output_type": "stream",
     "text": [
      "<class 'pandas.core.frame.DataFrame'>\n",
      "RangeIndex: 15915 entries, 0 to 15914\n",
      "Data columns (total 23 columns):\n",
      " #   Column               Non-Null Count  Dtype  \n",
      "---  ------               --------------  -----  \n",
      " 0   make_model           15915 non-null  object \n",
      " 1   body_type            15915 non-null  object \n",
      " 2   price                15915 non-null  int64  \n",
      " 3   vat                  15915 non-null  object \n",
      " 4   km                   15915 non-null  float64\n",
      " 5   Type                 15915 non-null  object \n",
      " 6   Fuel                 15915 non-null  object \n",
      " 7   Gears                15915 non-null  float64\n",
      " 8   Comfort_Convenience  15915 non-null  object \n",
      " 9   Entertainment_Media  15915 non-null  object \n",
      " 10  Extras               15915 non-null  object \n",
      " 11  Safety_Security      15915 non-null  object \n",
      " 12  age                  15915 non-null  float64\n",
      " 13  Previous_Owners      15915 non-null  float64\n",
      " 14  hp_kW                15915 non-null  float64\n",
      " 15  Inspection_new       15915 non-null  int64  \n",
      " 16  Paint_Type           15915 non-null  object \n",
      " 17  Upholstery_type      15915 non-null  object \n",
      " 18  Gearing_Type         15915 non-null  object \n",
      " 19  Displacement_cc      15915 non-null  float64\n",
      " 20  Weight_kg            15915 non-null  float64\n",
      " 21  Drive_chain          15915 non-null  object \n",
      " 22  cons_comb            15915 non-null  float64\n",
      "dtypes: float64(8), int64(2), object(13)\n",
      "memory usage: 2.8+ MB\n"
     ]
    }
   ],
   "source": [
    "df.info()"
   ]
  },
  {
   "cell_type": "code",
   "execution_count": 10,
   "id": "ce24655b",
   "metadata": {},
   "outputs": [
    {
     "data": {
      "text/plain": [
       "make_model             0\n",
       "body_type              0\n",
       "price                  0\n",
       "vat                    0\n",
       "km                     0\n",
       "Type                   0\n",
       "Fuel                   0\n",
       "Gears                  0\n",
       "Comfort_Convenience    0\n",
       "Entertainment_Media    0\n",
       "Extras                 0\n",
       "Safety_Security        0\n",
       "age                    0\n",
       "Previous_Owners        0\n",
       "hp_kW                  0\n",
       "Inspection_new         0\n",
       "Paint_Type             0\n",
       "Upholstery_type        0\n",
       "Gearing_Type           0\n",
       "Displacement_cc        0\n",
       "Weight_kg              0\n",
       "Drive_chain            0\n",
       "cons_comb              0\n",
       "dtype: int64"
      ]
     },
     "execution_count": 10,
     "metadata": {},
     "output_type": "execute_result"
    }
   ],
   "source": [
    "df.isnull().sum()"
   ]
  },
  {
   "cell_type": "code",
   "execution_count": 11,
   "id": "55b8a9bc",
   "metadata": {},
   "outputs": [
    {
     "data": {
      "text/plain": [
       "<AxesSubplot:>"
      ]
     },
     "execution_count": 11,
     "metadata": {},
     "output_type": "execute_result"
    },
    {
     "data": {
      "image/png": "[encoded data removed]",
      "text/plain": [
       "<Figure size 720x432 with 2 Axes>"
      ]
     },
     "metadata": {
      "needs_background": "light"
     },
     "output_type": "display_data"
    }
   ],
   "source": [
    "plt.figure(figsize=(10,6))\n",
    "sns.heatmap(df.corr(),annot = True)"
   ]
  },
  {
   "cell_type": "code",
   "execution_count": 12,
   "id": "4585da24",
   "metadata": {},
   "outputs": [
    {
     "data": {
      "text/plain": [
       "Index(['make_model', 'body_type', 'price', 'vat', 'km', 'Type', 'Fuel',\n",
       "       'Gears', 'Comfort_Convenience', 'Entertainment_Media', 'Extras',\n",
       "       'Safety_Security', 'age', 'Previous_Owners', 'hp_kW', 'Inspection_new',\n",
       "       'Paint_Type', 'Upholstery_type', 'Gearing_Type', 'Displacement_cc',\n",
       "       'Weight_kg', 'Drive_chain', 'cons_comb'],\n",
       "      dtype='object')"
      ]
     },
     "execution_count": 12,
     "metadata": {},
     "output_type": "execute_result"
    }
   ],
   "source": [
    "df.columns"
   ]
  },
  {
   "cell_type": "code",
   "execution_count": 13,
   "id": "100224e6",
   "metadata": {},
   "outputs": [
    {
     "data": {
      "text/plain": [
       "Audi A3           3097\n",
       "Audi A1           2614\n",
       "Opel Insignia     2598\n",
       "Opel Astra        2525\n",
       "Opel Corsa        2216\n",
       "Renault Clio      1839\n",
       "Renault Espace     991\n",
       "Renault Duster      34\n",
       "Audi A2              1\n",
       "Name: make_model, dtype: int64"
      ]
     },
     "execution_count": 13,
     "metadata": {},
     "output_type": "execute_result"
    }
   ],
   "source": [
    "df.make_model.value_counts()\n"
   ]
  },
  {
   "cell_type": "code",
   "execution_count": 14,
   "id": "dd1be63b",
   "metadata": {},
   "outputs": [],
   "source": [
    "df = df[df.make_model !='Audi A2']"
   ]
  },
  {
   "cell_type": "code",
   "execution_count": 15,
   "id": "0afd75e7",
   "metadata": {},
   "outputs": [
    {
     "data": {
      "text/plain": [
       "Audi A3           3097\n",
       "Audi A1           2614\n",
       "Opel Insignia     2598\n",
       "Opel Astra        2525\n",
       "Opel Corsa        2216\n",
       "Renault Clio      1839\n",
       "Renault Espace     991\n",
       "Renault Duster      34\n",
       "Name: make_model, dtype: int64"
      ]
     },
     "execution_count": 15,
     "metadata": {},
     "output_type": "execute_result"
    }
   ],
   "source": [
    "df.make_model.value_counts()\n"
   ]
  },
  {
   "cell_type": "code",
   "execution_count": 16,
   "id": "753ec9a3",
   "metadata": {},
   "outputs": [
    {
     "data": {
      "text/plain": [
       "Sedans           8004\n",
       "Station wagon    3677\n",
       "Compact          3240\n",
       "Van               817\n",
       "Transporter        88\n",
       "Off-Road           55\n",
       "Coupe              25\n",
       "Convertible         8\n",
       "Name: body_type, dtype: int64"
      ]
     },
     "execution_count": 16,
     "metadata": {},
     "output_type": "execute_result"
    }
   ],
   "source": [
    "df.body_type.value_counts()"
   ]
  },
  {
   "cell_type": "code",
   "execution_count": 17,
   "id": "af6a370e",
   "metadata": {},
   "outputs": [],
   "source": [
    "df = df[df.body_type !='Convertible']"
   ]
  },
  {
   "cell_type": "code",
   "execution_count": 18,
   "id": "40ddcfc1",
   "metadata": {},
   "outputs": [
    {
     "data": {
      "text/plain": [
       "Sedans           8004\n",
       "Station wagon    3677\n",
       "Compact          3240\n",
       "Van               817\n",
       "Transporter        88\n",
       "Off-Road           55\n",
       "Coupe              25\n",
       "Name: body_type, dtype: int64"
      ]
     },
     "execution_count": 18,
     "metadata": {},
     "output_type": "execute_result"
    }
   ],
   "source": [
    "df.body_type.value_counts()"
   ]
  },
  {
   "cell_type": "code",
   "execution_count": 19,
   "id": "3edcdac4",
   "metadata": {},
   "outputs": [
    {
     "data": {
      "text/plain": [
       "VAT deductible      15036\n",
       "Price negotiable      870\n",
       "Name: vat, dtype: int64"
      ]
     },
     "execution_count": 19,
     "metadata": {},
     "output_type": "execute_result"
    }
   ],
   "source": [
    "df.vat.value_counts()"
   ]
  },
  {
   "cell_type": "code",
   "execution_count": 20,
   "id": "b8ad5050",
   "metadata": {},
   "outputs": [
    {
     "data": {
      "text/plain": [
       "10.000000       1044\n",
       "1647.362609      985\n",
       "1.000000         367\n",
       "5.000000         170\n",
       "50.000000        148\n",
       "                ... \n",
       "20719.000000       1\n",
       "91910.000000       1\n",
       "39860.000000       1\n",
       "28084.000000       1\n",
       "57889.000000       1\n",
       "Name: km, Length: 6686, dtype: int64"
      ]
     },
     "execution_count": 20,
     "metadata": {},
     "output_type": "execute_result"
    }
   ],
   "source": [
    "df.km.value_counts()"
   ]
  },
  {
   "cell_type": "code",
   "execution_count": 21,
   "id": "6757ec76",
   "metadata": {},
   "outputs": [
    {
     "data": {
      "text/plain": [
       "count     15906.000000\n",
       "mean      32096.180856\n",
       "std       36984.785010\n",
       "min           0.000000\n",
       "25%        1914.250000\n",
       "50%       20413.500000\n",
       "75%       46921.000000\n",
       "max      317000.000000\n",
       "Name: km, dtype: float64"
      ]
     },
     "execution_count": 21,
     "metadata": {},
     "output_type": "execute_result"
    }
   ],
   "source": [
    "df.km.describe()"
   ]
  },
  {
   "cell_type": "code",
   "execution_count": 22,
   "id": "6af19a3a",
   "metadata": {},
   "outputs": [
    {
     "data": {
      "text/plain": [
       "<AxesSubplot:xlabel='km', ylabel='Count'>"
      ]
     },
     "execution_count": 22,
     "metadata": {},
     "output_type": "execute_result"
    },
    {
     "data": {
      "image/png": "[encoded data removed]",
      "text/plain": [
       "<Figure size 432x288 with 1 Axes>"
      ]
     },
     "metadata": {
      "needs_background": "light"
     },
     "output_type": "display_data"
    }
   ],
   "source": [
    "sns.histplot(df.km)"
   ]
  },
  {
   "cell_type": "code",
   "execution_count": 23,
   "id": "0b719819",
   "metadata": {},
   "outputs": [
    {
     "name": "stderr",
     "output_type": "stream",
     "text": [
      "C:\\Users\\rusla\\Anaconda3\\lib\\site-packages\\seaborn\\_decorators.py:36: FutureWarning: Pass the following variable as a keyword arg: x. From version 0.12, the only valid positional argument will be `data`, and passing other arguments without an explicit keyword will result in an error or misinterpretation.\n",
      "  warnings.warn(\n"
     ]
    },
    {
     "data": {
      "text/plain": [
       "<AxesSubplot:xlabel='km'>"
      ]
     },
     "execution_count": 23,
     "metadata": {},
     "output_type": "execute_result"
    },
    {
     "data": {
      "image/png": "[encoded data removed]",
      "text/plain": [
       "<Figure size 432x288 with 1 Axes>"
      ]
     },
     "metadata": {
      "needs_background": "light"
     },
     "output_type": "display_data"
    }
   ],
   "source": [
    "sns.boxplot(df.km)"
   ]
  },
  {
   "cell_type": "code",
   "execution_count": 24,
   "id": "1ae2287b",
   "metadata": {},
   "outputs": [
    {
     "data": {
      "text/plain": [
       "Used              11088\n",
       "New                1649\n",
       "Pre-registered     1364\n",
       "Employee's car     1009\n",
       "Demonstration       796\n",
       "Name: Type, dtype: int64"
      ]
     },
     "execution_count": 24,
     "metadata": {},
     "output_type": "execute_result"
    }
   ],
   "source": [
    "df.Type.value_counts()"
   ]
  },
  {
   "cell_type": "code",
   "execution_count": 25,
   "id": "28c9f119",
   "metadata": {},
   "outputs": [
    {
     "data": {
      "text/plain": [
       "Benzine     8545\n",
       "Diesel      7292\n",
       "LPG/CNG       64\n",
       "Electric       5\n",
       "Name: Fuel, dtype: int64"
      ]
     },
     "execution_count": 25,
     "metadata": {},
     "output_type": "execute_result"
    }
   ],
   "source": [
    "df.Fuel.value_counts()"
   ]
  },
  {
   "cell_type": "code",
   "execution_count": 26,
   "id": "89e143bb",
   "metadata": {},
   "outputs": [],
   "source": [
    "df = df[df.Fuel !='Electric' ]"
   ]
  },
  {
   "cell_type": "code",
   "execution_count": 27,
   "id": "944e2387",
   "metadata": {},
   "outputs": [
    {
     "data": {
      "text/plain": [
       "Benzine    8545\n",
       "Diesel     7292\n",
       "LPG/CNG      64\n",
       "Name: Fuel, dtype: int64"
      ]
     },
     "execution_count": 27,
     "metadata": {},
     "output_type": "execute_result"
    }
   ],
   "source": [
    "df.Fuel.value_counts()"
   ]
  },
  {
   "cell_type": "code",
   "execution_count": 28,
   "id": "f722f792",
   "metadata": {},
   "outputs": [
    {
     "data": {
      "text/plain": [
       "Air conditioning,Electrical side mirrors,Hill Holder,Power windows                                                                                                                                                                                                                                                                                                                                                                                                                             388\n",
       "Air conditioning,Armrest,Automatic climate control,Cruise control,Electrical side mirrors,Leather steering wheel,Light sensor,Lumbar support,Multi-function steering wheel,Navigation system,Park Distance Control,Parking assist system sensors front,Parking assist system sensors rear,Power windows,Rain sensor,Seat heating,Start-stop system                                                                                                                                             187\n",
       "Air conditioning,Armrest,Automatic climate control,Cruise control,Electrically adjustable seats,Electrical side mirrors,Electric tailgate,Heated steering wheel,Hill Holder,Keyless central door lock,Leather steering wheel,Light sensor,Lumbar support,Multi-function steering wheel,Navigation system,Park Distance Control,Parking assist system camera,Parking assist system sensors front,Parking assist system sensors rear,Power windows,Rain sensor,Seat heating,Start-stop system    161\n",
       "Air conditioning,Automatic climate control,Cruise control,Multi-function steering wheel,Park Distance Control,Power windows                                                                                                                                                                                                                                                                                                                                                                    160\n",
       "Air conditioning,Electrical side mirrors,Power windows                                                                                                                                                                                                                                                                                                                                                                                                                                         134\n",
       "                                                                                                                                                                                                                                                                                                                                                                                                                                                                                              ... \n",
       "Air conditioning,Armrest,Cruise control,Heated steering wheel,Hill Holder,Leather steering wheel,Multi-function steering wheel,Park Distance Control,Parking assist system sensors rear,Power windows,Seat heating                                                                                                                                                                                                                                                                               1\n",
       "Air conditioning,Armrest,Automatic climate control,Cruise control,Electrical side mirrors,Hill Holder,Leather steering wheel,Light sensor,Navigation system,Park Distance Control,Parking assist system sensors front,Parking assist system sensors rear,Power windows,Rain sensor,Start-stop system                                                                                                                                                                                             1\n",
       "Air conditioning,Armrest,Automatic climate control,Cruise control,Electrically adjustable seats,Electrical side mirrors,Hill Holder,Leather steering wheel,Lumbar support,Massage seats,Navigation system,Parking assist system camera,Parking assist system self-steering,Power windows,Rain sensor,Seat heating,Seat ventilation,Split rear seats,Sunroof,Tinted windows                                                                                                                       1\n",
       "Air conditioning,Armrest,Automatic climate control,Cruise control,Electrical side mirrors,Hill Holder,Leather steering wheel,Multi-function steering wheel,Power windows,Split rear seats,Start-stop system                                                                                                                                                                                                                                                                                      1\n",
       "Air conditioning,Armrest,Electrical side mirrors,Leather steering wheel,Light sensor,Multi-function steering wheel,Park Distance Control,Parking assist system sensors front,Parking assist system sensors rear,Power windows,Rain sensor,Start-stop system                                                                                                                                                                                                                                      1\n",
       "Name: Comfort_Convenience, Length: 6189, dtype: int64"
      ]
     },
     "execution_count": 28,
     "metadata": {},
     "output_type": "execute_result"
    }
   ],
   "source": [
    "df.Comfort_Convenience.value_counts()"
   ]
  },
  {
   "cell_type": "code",
   "execution_count": 29,
   "id": "c710e302",
   "metadata": {},
   "outputs": [
    {
     "name": "stderr",
     "output_type": "stream",
     "text": [
      "C:\\Users\\rusla\\Anaconda3\\lib\\site-packages\\pandas\\core\\frame.py:4308: SettingWithCopyWarning: \n",
      "A value is trying to be set on a copy of a slice from a DataFrame\n",
      "\n",
      "See the caveats in the documentation: https://pandas.pydata.org/pandas-docs/stable/user_guide/indexing.html#returning-a-view-versus-a-copy\n",
      "  return super().drop(\n"
     ]
    }
   ],
   "source": [
    "df.drop(\"Comfort_Convenience\", axis=1,inplace=True)\n",
    "df.drop(\"Entertainment_Media\", axis=1,inplace=True)\n",
    "df.drop(\"Extras\", axis=1,inplace=True)\n",
    "df.drop(\"Safety_Security\", axis=1,inplace=True)"
   ]
  },
  {
   "cell_type": "code",
   "execution_count": 31,
   "id": "3e04ba46",
   "metadata": {},
   "outputs": [
    {
     "data": {
      "text/plain": [
       "Index(['make_model', 'body_type', 'price', 'vat', 'km', 'Type', 'Fuel',\n",
       "       'Gears', 'age', 'Previous_Owners', 'hp_kW', 'Inspection_new',\n",
       "       'Paint_Type', 'Upholstery_type', 'Gearing_Type', 'Displacement_cc',\n",
       "       'Weight_kg', 'Drive_chain', 'cons_comb'],\n",
       "      dtype='object')"
      ]
     },
     "execution_count": 31,
     "metadata": {},
     "output_type": "execute_result"
    }
   ],
   "source": [
    "df.columns"
   ]
  },
  {
   "cell_type": "code",
   "execution_count": null,
   "id": "5a8ad26d",
   "metadata": {},
   "outputs": [],
   "source": []
  },
  {
   "cell_type": "code",
   "execution_count": null,
   "id": "ea93df71",
   "metadata": {},
   "outputs": [],
   "source": []
  },
  {
   "cell_type": "code",
   "execution_count": null,
   "id": "28d036bf",
   "metadata": {},
   "outputs": [],
   "source": []
  },
  {
   "cell_type": "code",
   "execution_count": null,
   "id": "f297291c",
   "metadata": {},
   "outputs": [],
   "source": []
  },
  {
   "cell_type": "code",
   "execution_count": null,
   "id": "90b1c173",
   "metadata": {},
   "outputs": [],
   "source": []
  },
  {
   "cell_type": "code",
   "execution_count": null,
   "id": "4b7f0440",
   "metadata": {},
   "outputs": [],
   "source": []
  },
  {
   "cell_type": "code",
   "execution_count": null,
   "id": "7a0fed53",
   "metadata": {},
   "outputs": [],
   "source": []
  },
  {
   "cell_type": "code",
   "execution_count": null,
   "id": "a281a13f",
   "metadata": {},
   "outputs": [],
   "source": []
  },
  {
   "cell_type": "code",
   "execution_count": null,
   "id": "f8eccff9",
   "metadata": {},
   "outputs": [],
   "source": []
  },
  {
   "cell_type": "code",
   "execution_count": null,
   "id": "bc9932d0",
   "metadata": {},
   "outputs": [],
   "source": []
  },
  {
   "cell_type": "code",
   "execution_count": null,
   "id": "8943b3b2",
   "metadata": {},
   "outputs": [],
   "source": []
  },
  {
   "cell_type": "code",
   "execution_count": null,
   "id": "66e117bc",
   "metadata": {},
   "outputs": [],
   "source": []
  },
  {
   "cell_type": "code",
   "execution_count": null,
   "id": "e944426e",
   "metadata": {},
   "outputs": [],
   "source": []
  }
 ],
 "metadata": {
  "kernelspec": {
   "display_name": "Python 3",
   "language": "python",
   "name": "python3"
  },
  "language_info": {
   "codemirror_mode": {
    "name": "ipython",
    "version": 3
   },
   "file_extension": ".py",
   "mimetype": "text/x-python",
   "name": "python",
   "nbconvert_exporter": "python",
   "pygments_lexer": "ipython3",
   "version": "3.8.8"
  }
 },
 "nbformat": 4,
 "nbformat_minor": 5
}
